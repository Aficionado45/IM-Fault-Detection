{
 "cells": [
  {
   "cell_type": "markdown",
   "metadata": {},
   "source": [
    "### Testing accuracy of RF classifier for lighly loaded, testing and training with all the rotational speeds"
   ]
  },
  {
   "cell_type": "code",
   "execution_count": 1,
   "metadata": {},
   "outputs": [],
   "source": [
    "import pandas as pd"
   ]
  },
  {
   "cell_type": "code",
   "execution_count": 37,
   "metadata": {},
   "outputs": [],
   "source": [
    "data_10=pd.read_csv(r'D:\\Acads\\BTP\\Lightly Loaded\\Train10hz.csv')\n",
    "data_20=pd.read_csv(r'D:\\Acads\\BTP\\Lightly Loaded\\Train20hz.csv')\n",
    "data_30=pd.read_csv(r'D:\\Acads\\BTP\\Lightly Loaded\\Train30Hz.csv')\n",
    "data_15=pd.read_csv(r'D:\\Acads\\BTP\\Lightly Loaded\\Train15hz.csv')\n",
    "data_25=pd.read_csv(r'D:\\Acads\\BTP\\Lightly Loaded\\Train25hz.csv')\n",
    "data_35=pd.read_csv(r'D:\\Acads\\BTP\\Lightly Loaded\\Train35Hz.csv')\n",
    "data_40=pd.read_csv(r'D:\\Acads\\BTP\\Lightly Loaded\\Train40Hz.csv')"
   ]
  },
  {
   "cell_type": "code",
   "execution_count": 42,
   "metadata": {},
   "outputs": [],
   "source": [
    "data_10=data_10.head(24990)\n",
    "data_15=data_15.head(24990)\n",
    "data_20=data_20.head(24990)\n",
    "data_25=data_25.head(24990)\n",
    "data_30=data_30.head(24990)\n",
    "data_35=data_35.head(24990)\n",
    "data_40=data_40.head(24990)"
   ]
  },
  {
   "cell_type": "code",
   "execution_count": 43,
   "metadata": {},
   "outputs": [],
   "source": [
    "#shuffling\n",
    "data_20=data_20.sample(frac=1)\n",
    "data_30=data_30.sample(frac=1)\n",
    "data_40=data_40.sample(frac=1)\n",
    "data_10=data_10.sample(frac=1)\n",
    "data_15=data_15.sample(frac=1)\n",
    "data_25=data_25.sample(frac=1)\n",
    "data_35=data_35.sample(frac=1)"
   ]
  },
  {
   "cell_type": "code",
   "execution_count": 44,
   "metadata": {},
   "outputs": [],
   "source": [
    "import sklearn as sk"
   ]
  },
  {
   "cell_type": "markdown",
   "metadata": {},
   "source": [
    "### Assigning X and y for training"
   ]
  },
  {
   "cell_type": "code",
   "execution_count": 45,
   "metadata": {},
   "outputs": [
    {
     "name": "stdout",
     "output_type": "stream",
     "text": [
      "[[ 1.041450e+00  1.047851e+00 -2.843880e-01 ... -2.037330e-01\n",
      "  -4.720000e-04 -3.860500e-02]\n",
      " [ 1.069950e+00  6.553400e-01  5.694100e-02 ... -1.465900e-01\n",
      "  -1.720000e-04  3.817500e-02]\n",
      " [ 1.025200e+00 -2.719110e-01 -7.955230e-01 ... -1.373280e-01\n",
      "   1.916000e-03 -5.077700e-02]\n",
      " ...\n",
      " [ 1.127750e+00 -6.367640e-01  2.059857e+00 ...  2.101840e-01\n",
      "   6.680000e-04 -6.068300e-02]\n",
      " [ 1.025200e+00 -2.477377e+00 -7.966280e-01 ...  5.977500e-02\n",
      "  -5.720000e-04  2.732800e-02]\n",
      " [ 1.090000e+00 -1.627500e-01 -2.441885e+00 ... -6.979900e-02\n",
      "  -4.170000e-04 -9.956700e-02]]\n",
      "[4. 1. 3. ... 1. 0. 3.]\n"
     ]
    }
   ],
   "source": [
    "dataset_10=data_10.values\n",
    "X_10= dataset_10[:,0:9]\n",
    "print(X_10)\n",
    "y_10=dataset_10[:,9]\n",
    "print(y_10)"
   ]
  },
  {
   "cell_type": "code",
   "execution_count": 46,
   "metadata": {},
   "outputs": [
    {
     "name": "stdout",
     "output_type": "stream",
     "text": [
      "[[ 1.055500e+00 -2.463978e+00 -2.685605e+00 ...  8.905500e-02\n",
      "  -3.730000e-04 -1.171800e-02]\n",
      " [ 1.201700e+00 -5.548259e+00 -6.371840e+00 ... -6.079900e-02\n",
      "  -1.710000e-04  7.068300e-02]\n",
      " [ 1.145750e+00  1.445034e+00 -2.288287e+00 ... -2.471160e-01\n",
      "  -9.040000e-04  2.255100e-02]\n",
      " ...\n",
      " [ 1.065500e+00 -3.395220e-01 -1.448224e+00 ... -1.813380e-01\n",
      "   1.661000e-03 -1.664000e-02]\n",
      " [ 1.222000e+00  1.343618e+00  3.963568e+00 ...  2.365020e-01\n",
      "  -2.070000e-04 -1.342410e-01]\n",
      " [ 1.083750e+00 -2.879230e+00 -1.198734e+00 ... -1.287360e-01\n",
      "  -7.650000e-04 -5.475200e-02]]\n",
      "[2. 1. 0. ... 3. 4. 3.]\n"
     ]
    }
   ],
   "source": [
    "dataset_15=data_15.values\n",
    "X_15= dataset_15[:,0:9]\n",
    "print(X_15)\n",
    "y_15=dataset_15[:,9]\n",
    "print(y_15)"
   ]
  },
  {
   "cell_type": "code",
   "execution_count": 47,
   "metadata": {},
   "outputs": [
    {
     "name": "stdout",
     "output_type": "stream",
     "text": [
      "[[ 1.116450e+00 -2.435335e+00  7.731190e-01 ...  2.467200e-01\n",
      "  -9.560000e-04  9.586700e-02]\n",
      " [ 1.180150e+00  1.184794e+00  2.756268e+00 ...  2.155730e-01\n",
      "   2.365000e-03 -1.714700e-02]\n",
      " [ 1.110900e+00 -1.581841e+00 -1.506054e+00 ... -8.453600e-02\n",
      "  -4.370000e-04  3.442300e-02]\n",
      " ...\n",
      " [ 1.243650e+00  4.021621e+00  2.660500e+00 ... -1.532560e-01\n",
      "   1.132000e-03  9.974700e-02]\n",
      " [ 1.217550e+00 -8.713120e-01 -1.888637e+00 ...  8.260400e-02\n",
      "  -6.110000e-04  7.939400e-02]\n",
      " [ 1.069200e+00  2.089673e+00  3.116751e+00 ... -2.626100e-02\n",
      "   7.240000e-04 -2.102770e-01]]\n",
      "[0. 3. 2. ... 2. 3. 1.]\n"
     ]
    }
   ],
   "source": [
    "dataset_20=data_20.values\n",
    "X_20= dataset_20[:,0:9]\n",
    "print(X_20)\n",
    "y_20=dataset_20[:,9]\n",
    "print(y_20)"
   ]
  },
  {
   "cell_type": "code",
   "execution_count": 48,
   "metadata": {},
   "outputs": [
    {
     "name": "stdout",
     "output_type": "stream",
     "text": [
      "[[ 1.0083000e+00  5.5857660e+00 -3.8354430e+00 ... -7.8886000e-02\n",
      "   2.5350000e-03  4.7809000e-02]\n",
      " [ 1.2268500e+00 -2.8881000e-02  1.5983270e+00 ... -8.5014000e-02\n",
      "  -3.2900000e-04 -1.2559800e-01]\n",
      " [ 1.1976000e+00 -6.3037800e+00 -1.0777078e+01 ... -2.0868100e-01\n",
      "  -2.8100000e-04  7.2612000e-02]\n",
      " ...\n",
      " [ 1.1771000e+00  2.4820000e-01 -1.3977610e+00 ...  1.0294000e-01\n",
      "  -1.3300000e-03 -1.4336300e-01]\n",
      " [ 1.0054000e+00  6.3321300e-01 -3.0001680e+00 ...  3.5093000e-02\n",
      "   2.5800000e-03 -1.4518700e-01]\n",
      " [ 1.1548500e+00 -2.2895420e+00 -5.0809500e-01 ... -1.7834400e-01\n",
      "  -3.1300000e-04 -9.4370000e-03]]\n",
      "[0. 1. 1. ... 3. 0. 2.]\n"
     ]
    }
   ],
   "source": [
    "dataset_25=data_25.values\n",
    "X_25= dataset_25[:,0:9]\n",
    "print(X_25)\n",
    "y_25=dataset_25[:,9]\n",
    "print(y_25)"
   ]
  },
  {
   "cell_type": "code",
   "execution_count": 49,
   "metadata": {},
   "outputs": [
    {
     "name": "stdout",
     "output_type": "stream",
     "text": [
      "[[ 1.066700e+00 -7.892020e+00 -2.536549e+00 ... -7.324100e-02\n",
      "  -1.364000e-03  1.171000e-02]\n",
      " [ 1.179200e+00  3.332236e+00  1.269250e-01 ...  3.541900e-02\n",
      "  -2.760000e-04  6.491400e-02]\n",
      " [ 1.189650e+00  2.577332e+00  6.545639e+00 ... -2.364920e-01\n",
      "   1.080000e-03  1.726750e-01]\n",
      " ...\n",
      " [ 1.247750e+00 -5.335470e+00 -1.781573e+00 ... -2.554300e-02\n",
      "  -2.820000e-04  3.078700e-02]\n",
      " [ 1.056200e+00 -2.255122e+00  1.123043e+00 ... -2.265010e-01\n",
      "  -1.121000e-03  1.582070e-01]\n",
      " [ 1.191850e+00 -2.019959e+00 -4.084564e+00 ...  1.600510e-01\n",
      "  -2.760000e-04 -4.094060e-01]]\n",
      "[3. 2. 2. ... 2. 0. 1.]\n"
     ]
    }
   ],
   "source": [
    "dataset_30=data_30.values\n",
    "X_30= dataset_30[:,0:9]\n",
    "print(X_30)\n",
    "y_30=dataset_30[:,9]\n",
    "print(y_30)"
   ]
  },
  {
   "cell_type": "code",
   "execution_count": 50,
   "metadata": {},
   "outputs": [
    {
     "name": "stdout",
     "output_type": "stream",
     "text": [
      "[[ 1.213450e+00  5.197558e+00  4.517921e+00 ... -2.296240e-01\n",
      "   9.500000e-04 -2.397020e-01]\n",
      " [ 1.092300e+00  1.867664e+00 -1.476586e+00 ... -2.362480e-01\n",
      "  -2.710000e-04 -9.691900e-02]\n",
      " [ 1.197450e+00  3.370099e+00 -1.633868e+00 ...  2.061960e-01\n",
      "  -3.310000e-04  5.805700e-02]\n",
      " ...\n",
      " [ 1.141600e+00 -2.758514e+00 -1.975566e+00 ...  2.372000e-01\n",
      "  -9.320000e-04 -1.105240e-01]\n",
      " [ 1.176050e+00 -1.851230e-01 -2.970332e+00 ... -2.517500e-02\n",
      "  -7.740000e-04  7.014000e-02]\n",
      " [ 1.165750e+00 -3.579433e+00 -5.957590e-01 ...  2.086720e-01\n",
      "  -1.006000e-03 -9.556700e-02]]\n",
      "[2. 1. 2. ... 0. 0. 0.]\n"
     ]
    }
   ],
   "source": [
    "dataset_35=data_35.values\n",
    "X_35= dataset_35[:,0:9]\n",
    "print(X_35)\n",
    "y_35=dataset_35[:,9]\n",
    "print(y_35)"
   ]
  },
  {
   "cell_type": "code",
   "execution_count": 51,
   "metadata": {},
   "outputs": [
    {
     "name": "stdout",
     "output_type": "stream",
     "text": [
      "[[ 1.0880000e+00 -1.1053680e+00 -5.0016110e+00 ...  1.9884400e-01\n",
      "  -1.2790000e-03 -7.4590000e-02]\n",
      " [ 1.0536500e+00 -1.9783656e+01  1.2372797e+01 ...  3.6855000e-02\n",
      "  -6.2900000e-04  1.0483000e-01]\n",
      " [ 1.2078500e+00 -1.4093710e+00 -1.8080056e+01 ... -1.2631300e-01\n",
      "  -2.9100000e-04  1.3773000e-01]\n",
      " ...\n",
      " [ 1.2321000e+00  9.4539660e+00  6.7514190e+00 ... -2.0500300e-01\n",
      "  -4.2400000e-04  2.0353900e-01]\n",
      " [ 1.1496500e+00 -7.6079900e-01  1.0789912e+01 ... -1.0650100e-01\n",
      "  -3.0300000e-04 -2.0349800e-01]\n",
      " [ 1.1529000e+00  5.8725590e+00  2.3952940e+00 ...  2.7248000e-02\n",
      "   1.4360000e-03 -1.5158300e-01]]\n",
      "[3. 4. 1. ... 2. 1. 4.]\n"
     ]
    }
   ],
   "source": [
    "dataset_40=data_40.values\n",
    "X_40= dataset_40[:,0:9]\n",
    "print(X_40)\n",
    "y_40=dataset_40[:,9]\n",
    "print(y_40)"
   ]
  },
  {
   "cell_type": "markdown",
   "metadata": {},
   "source": [
    "### Training Random Forest Classifier"
   ]
  },
  {
   "cell_type": "code",
   "execution_count": 53,
   "metadata": {},
   "outputs": [],
   "source": [
    "from sklearn.ensemble import RandomForestClassifier\n",
    "rf_10 = RandomForestClassifier(n_estimators = 1000, random_state = 42)\n",
    "rf_10.fit(X_10, y_10);"
   ]
  },
  {
   "cell_type": "code",
   "execution_count": 54,
   "metadata": {},
   "outputs": [],
   "source": [
    "from sklearn.ensemble import RandomForestClassifier\n",
    "rf_15 = RandomForestClassifier(n_estimators = 1000, random_state = 42)\n",
    "rf_15.fit(X_15, y_15);"
   ]
  },
  {
   "cell_type": "code",
   "execution_count": 55,
   "metadata": {},
   "outputs": [],
   "source": [
    "from sklearn.ensemble import RandomForestClassifier\n",
    "rf_20 = RandomForestClassifier(n_estimators = 1000, random_state = 42)\n",
    "rf_20.fit(X_20, y_20);"
   ]
  },
  {
   "cell_type": "code",
   "execution_count": 56,
   "metadata": {},
   "outputs": [],
   "source": [
    "from sklearn.ensemble import RandomForestClassifier\n",
    "rf_25 = RandomForestClassifier(n_estimators = 1000, random_state = 42)\n",
    "rf_25.fit(X_25, y_25);"
   ]
  },
  {
   "cell_type": "code",
   "execution_count": 57,
   "metadata": {},
   "outputs": [],
   "source": [
    "from sklearn.ensemble import RandomForestClassifier\n",
    "rf_30 = RandomForestClassifier(n_estimators = 1000, random_state = 42)\n",
    "rf_30.fit(X_30, y_30);"
   ]
  },
  {
   "cell_type": "code",
   "execution_count": 58,
   "metadata": {},
   "outputs": [],
   "source": [
    "from sklearn.ensemble import RandomForestClassifier\n",
    "rf_35 = RandomForestClassifier(n_estimators = 1000, random_state = 42)\n",
    "rf_35.fit(X_35, y_35);"
   ]
  },
  {
   "cell_type": "code",
   "execution_count": 59,
   "metadata": {},
   "outputs": [],
   "source": [
    "from sklearn.ensemble import RandomForestClassifier\n",
    "rf_40 = RandomForestClassifier(n_estimators = 1000, random_state = 42)\n",
    "rf_40.fit(X_40, y_40);"
   ]
  },
  {
   "cell_type": "markdown",
   "metadata": {},
   "source": [
    "### Importing Testing data"
   ]
  },
  {
   "cell_type": "code",
   "execution_count": 60,
   "metadata": {},
   "outputs": [],
   "source": [
    "test_10=pd.read_csv(r'D:\\Acads\\BTP\\Lightly Loaded\\Test10hz.csv')\n",
    "test_20=pd.read_csv(r'D:\\Acads\\BTP\\Lightly Loaded\\Test20hz.csv')\n",
    "test_30=pd.read_csv(r'D:\\Acads\\BTP\\Lightly Loaded\\Test30Hz.csv')\n",
    "test_15=pd.read_csv(r'D:\\Acads\\BTP\\Lightly Loaded\\Test15hz.csv')\n",
    "test_25=pd.read_csv(r'D:\\Acads\\BTP\\Lightly Loaded\\Test25hz.csv')\n",
    "test_35=pd.read_csv(r'D:\\Acads\\BTP\\Lightly Loaded\\Test35Hz.csv')\n",
    "test_40=pd.read_csv(r'D:\\Acads\\BTP\\Lightly Loaded\\Test40Hz.csv')"
   ]
  },
  {
   "cell_type": "code",
   "execution_count": 61,
   "metadata": {},
   "outputs": [],
   "source": [
    "test_10=test_10.head(99990)\n",
    "test_15=test_15.head(99990)\n",
    "test_20=test_20.head(99990)\n",
    "test_25=test_25.head(99990)\n",
    "test_30=test_30.head(99990)\n",
    "test_35=test_35.head(99990)\n",
    "test_40=test_40.head(99990)"
   ]
  },
  {
   "cell_type": "code",
   "execution_count": 62,
   "metadata": {},
   "outputs": [],
   "source": [
    "#shuffling\n",
    "test_20=test_20.sample(frac=1)\n",
    "test_30=test_30.sample(frac=1)\n",
    "test_40=test_40.sample(frac=1)\n",
    "test_10=test_10.sample(frac=1)\n",
    "test_15=test_15.sample(frac=1)\n",
    "test_25=test_25.sample(frac=1)\n",
    "test_35=test_35.sample(frac=1)"
   ]
  },
  {
   "cell_type": "markdown",
   "metadata": {},
   "source": [
    "### Assigning X and y for testing"
   ]
  },
  {
   "cell_type": "code",
   "execution_count": 63,
   "metadata": {},
   "outputs": [
    {
     "name": "stdout",
     "output_type": "stream",
     "text": [
      "[[ 1.472500e-01 -3.403830e-01 -4.099920e-01 ...  1.143110e-01\n",
      "   6.760000e-04  2.481600e-02]\n",
      " [ 5.016500e-01 -9.136000e-01 -1.231780e-01 ... -1.202050e-01\n",
      "  -1.364000e-03  5.307700e-02]\n",
      " [ 5.110500e-01 -1.631190e-01  5.217880e-01 ... -2.029300e-01\n",
      "  -4.050000e-04 -4.659000e-03]\n",
      " ...\n",
      " [ 4.770000e-01  3.801020e-01 -2.854930e-01 ... -2.112990e-01\n",
      "   5.650000e-04  3.225400e-02]\n",
      " [ 8.519000e-01  1.512090e-01 -1.136361e+00 ... -1.767740e-01\n",
      "  -2.360000e-04 -4.450800e-02]\n",
      " [ 2.022000e-01 -3.816870e-01 -7.235730e-01 ... -2.144530e-01\n",
      "   1.846000e-03 -1.934500e-02]]\n",
      "[1. 3. 2. ... 1. 4. 0.]\n"
     ]
    }
   ],
   "source": [
    "dataset_test_10 = test_10.values\n",
    "X_test_10 = dataset_test_10[:,0:9]\n",
    "print(X_test_10)\n",
    "\n",
    "y_test_10= dataset_test_10[:,9]\n",
    "print(y_test_10)"
   ]
  },
  {
   "cell_type": "code",
   "execution_count": 64,
   "metadata": {},
   "outputs": [
    {
     "name": "stdout",
     "output_type": "stream",
     "text": [
      "[[ 6.953500e-01  1.005564e+00  3.787480e-01 ...  9.291300e-02\n",
      "  -3.660000e-04 -6.711100e-02]\n",
      " [ 9.911000e-01 -2.087815e+00 -8.919060e-01 ... -1.903790e-01\n",
      "  -4.680000e-04  1.272300e-02]\n",
      " [ 2.633000e-01 -5.487041e+00 -9.849730e-01 ...  9.560400e-02\n",
      "   2.643000e-03  4.422800e-02]\n",
      " ...\n",
      " [ 2.110500e-01  2.462330e-01  3.834140e-01 ... -2.235060e-01\n",
      "  -3.570000e-04  8.903400e-02]\n",
      " [ 6.056000e-01  1.254600e-02 -6.851430e-01 ... -1.361710e-01\n",
      "  -4.070000e-04 -4.822900e-02]\n",
      " [ 4.400000e-03 -1.300211e+00  1.039660e-01 ...  3.289500e-02\n",
      "  -1.067000e-03  1.478000e-03]]\n",
      "[3. 4. 0. ... 2. 0. 0.]\n"
     ]
    }
   ],
   "source": [
    "dataset_test_15 = test_15.values\n",
    "X_test_15 = dataset_test_15[:,0:9]\n",
    "print(X_test_15)\n",
    "\n",
    "y_test_15= dataset_test_15[:,9]\n",
    "print(y_test_15)"
   ]
  },
  {
   "cell_type": "code",
   "execution_count": 65,
   "metadata": {},
   "outputs": [
    {
     "name": "stdout",
     "output_type": "stream",
     "text": [
      "[[ 4.835500e-01  2.191950e+00  8.163380e-01 ... -4.428500e-02\n",
      "  -1.058000e-03  5.156000e-02]\n",
      " [ 2.717500e-01 -3.070630e+00 -3.067697e+00 ...  2.386240e-01\n",
      "  -1.130000e-03  4.898400e-02]\n",
      " [ 8.230000e-01  1.391620e-01  1.762361e+00 ...  1.921160e-01\n",
      "  -1.094000e-03 -7.131800e-02]\n",
      " ...\n",
      " [ 7.443000e-01 -1.316560e+00 -3.654230e-01 ... -1.509140e-01\n",
      "  -3.680000e-04  4.509600e-02]\n",
      " [ 3.445000e-02  2.337375e+00 -7.246900e-02 ...  2.015990e-01\n",
      "  -3.220000e-04  2.127400e-02]\n",
      " [ 9.226000e-01 -1.529842e+00  4.734120e-01 ...  1.910330e-01\n",
      "  -9.470000e-04  1.165600e-01]]\n",
      "[0. 0. 3. ... 2. 1. 3.]\n"
     ]
    }
   ],
   "source": [
    "dataset_test_20 = test_20.values\n",
    "X_test_20 = dataset_test_20[:,0:9]\n",
    "print(X_test_20)\n",
    "\n",
    "y_test_20= dataset_test_20[:,9]\n",
    "print(y_test_20)"
   ]
  },
  {
   "cell_type": "code",
   "execution_count": 66,
   "metadata": {},
   "outputs": [
    {
     "name": "stdout",
     "output_type": "stream",
     "text": [
      "[[ 8.325000e-01  2.089058e+00  1.921220e-01 ...  2.186690e-01\n",
      "  -5.860000e-04 -1.513950e-01]\n",
      " [ 5.020000e-01 -1.729355e+00  7.017840e-01 ... -4.773600e-02\n",
      "   2.668000e-03 -7.568400e-02]\n",
      " [ 5.577500e-01  4.600985e+00 -4.322636e+00 ... -1.363510e-01\n",
      "   1.313000e-03  4.594800e-02]\n",
      " ...\n",
      " [ 4.180000e-01 -1.243418e+00 -5.292120e-01 ...  1.043800e-01\n",
      "   3.058000e-03 -9.105000e-03]\n",
      " [ 2.585000e-02  2.119422e+00 -6.769649e+00 ...  2.290210e-01\n",
      "  -6.150000e-04  4.561900e-02]\n",
      " [ 9.296500e-01  4.480820e-01 -2.651104e+00 ... -1.200920e-01\n",
      "   2.298000e-03  1.611160e-01]]\n",
      "[0. 3. 4. ... 3. 4. 0.]\n"
     ]
    }
   ],
   "source": [
    "dataset_test_25 = test_25.values\n",
    "X_test_25 = dataset_test_25[:,0:9]\n",
    "print(X_test_25)\n",
    "\n",
    "y_test_25= dataset_test_25[:,9]\n",
    "print(y_test_25)"
   ]
  },
  {
   "cell_type": "code",
   "execution_count": 67,
   "metadata": {},
   "outputs": [
    {
     "name": "stdout",
     "output_type": "stream",
     "text": [
      "[[ 2.498500e-01 -4.939271e+00 -6.011357e+00 ... -1.555210e-01\n",
      "  -6.280000e-04  1.303380e-01]\n",
      " [ 5.156000e-01 -1.859168e+00  1.372533e+00 ...  1.294840e-01\n",
      "  -1.257000e-03 -1.147420e-01]\n",
      " [ 2.789500e-01  9.340190e-01  4.889455e+00 ...  9.838100e-02\n",
      "  -3.480000e-04  7.070500e-02]\n",
      " ...\n",
      " [ 2.442000e-01 -1.523818e+00  2.591987e+00 ...  1.372880e-01\n",
      "  -3.290000e-04 -5.116700e-02]\n",
      " [ 5.031500e-01 -7.802159e+00 -9.347054e+00 ...  1.981110e-01\n",
      "  -5.710000e-04 -3.747000e-02]\n",
      " [ 2.263500e-01  2.196129e+00 -4.616326e+00 ... -1.482190e-01\n",
      "  -1.015000e-03 -4.608000e-03]]\n",
      "[0. 3. 2. ... 2. 2. 0.]\n"
     ]
    }
   ],
   "source": [
    "dataset_test_30 = test_30.values\n",
    "X_test_30 = dataset_test_30[:,0:9]\n",
    "print(X_test_30)\n",
    "\n",
    "y_test_30= dataset_test_30[:,9]\n",
    "print(y_test_30)"
   ]
  },
  {
   "cell_type": "code",
   "execution_count": 68,
   "metadata": {},
   "outputs": [
    {
     "name": "stdout",
     "output_type": "stream",
     "text": [
      "[[ 2.4805000e-01  3.1628410e+00  1.0972977e+01 ...  2.3679100e-01\n",
      "  -1.6800000e-04 -1.6158300e-01]\n",
      " [ 5.1940000e-01 -4.7906500e+00  2.5309660e+00 ...  1.3991500e-01\n",
      "   2.1970000e-03  1.1622000e-02]\n",
      " [ 5.8505000e-01 -6.7913150e+00  2.7596000e-02 ... -2.4385800e-01\n",
      "  -9.1500000e-04  1.6864800e-01]\n",
      " ...\n",
      " [ 3.0735000e-01  5.8973910e+00  3.4163360e+00 ...  2.6606000e-02\n",
      "   8.1600000e-04 -7.9557000e-02]\n",
      " [ 9.5280000e-01 -2.5114280e+00 -3.8466160e+00 ... -2.0370900e-01\n",
      "   2.6680000e-03 -1.2701100e-01]\n",
      " [ 7.6965000e-01 -5.5855070e+00 -3.9955600e-01 ... -2.2614000e-01\n",
      "   3.2230000e-03 -1.7157700e-01]]\n",
      "[1. 0. 0. ... 2. 0. 3.]\n"
     ]
    }
   ],
   "source": [
    "dataset_test_35 = test_35.values\n",
    "X_test_35 = dataset_test_35[:,0:9]\n",
    "print(X_test_35)\n",
    "\n",
    "y_test_35= dataset_test_35[:,9]\n",
    "print(y_test_35)"
   ]
  },
  {
   "cell_type": "code",
   "execution_count": 69,
   "metadata": {},
   "outputs": [
    {
     "name": "stdout",
     "output_type": "stream",
     "text": [
      "[[ 3.258500e-01  5.544954e+00  7.022273e+00 ...  4.123800e-02\n",
      "  -4.160000e-04  6.166000e-03]\n",
      " [ 1.892500e-01  1.308829e+00 -1.051290e-01 ...  7.938000e-03\n",
      "   1.154000e-03  7.085700e-02]\n",
      " [ 5.195500e-01  2.293920e-01  3.748702e+00 ... -2.629030e-01\n",
      "  -7.720000e-04  2.785220e-01]\n",
      " ...\n",
      " [ 7.028500e-01 -1.617670e-01 -4.969933e+00 ...  4.222000e-03\n",
      "  -6.110000e-04  6.995200e-02]\n",
      " [ 8.242000e-01  6.387754e+00  1.573919e+01 ... -6.085700e-02\n",
      "  -2.860000e-04  2.503380e-01]\n",
      " [ 3.619000e-01  4.050755e+00 -1.089827e+00 ... -1.743000e-03\n",
      "  -4.280000e-04  9.513000e-02]]\n",
      "[2. 2. 0. ... 4. 1. 1.]\n"
     ]
    }
   ],
   "source": [
    "dataset_test_40 = test_40.values\n",
    "X_test_40 = dataset_test_40[:,0:9]\n",
    "print(X_test_40)\n",
    "\n",
    "y_test_40= dataset_test_40[:,9]\n",
    "print(y_test_40)"
   ]
  },
  {
   "cell_type": "markdown",
   "metadata": {},
   "source": [
    "### Predictions with 10Hz Trained Model"
   ]
  },
  {
   "cell_type": "code",
   "execution_count": 71,
   "metadata": {},
   "outputs": [],
   "source": [
    "import numpy as np"
   ]
  },
  {
   "cell_type": "code",
   "execution_count": 72,
   "metadata": {},
   "outputs": [
    {
     "name": "stdout",
     "output_type": "stream",
     "text": [
      "Mean Absolute Error 10Hz with 10Hz: 1.676 degrees.\n",
      "Accuracy: 98.324 %.\n"
     ]
    }
   ],
   "source": [
    "predictions_10 = rf_10.predict(X_test_10)\n",
    "errors_10 = abs(predictions_10 - y_test_10)\n",
    "print('Mean Absolute Error 10Hz with 10Hz:', round(np.mean(errors_10), 3), 'degrees.')\n",
    "\n",
    "accuracy = 100 - np.mean(errors_10)\n",
    "print('Accuracy:', round(accuracy, 3), '%.')"
   ]
  },
  {
   "cell_type": "code",
   "execution_count": 73,
   "metadata": {},
   "outputs": [
    {
     "name": "stdout",
     "output_type": "stream",
     "text": [
      "Mean Absolute Error 15Hz with 10Hz: 1.554 degrees.\n",
      "Accuracy: 98.446 %.\n"
     ]
    }
   ],
   "source": [
    "predictions_15 = rf_10.predict(X_test_15)\n",
    "errors_15 = abs(predictions_15 - y_test_15)\n",
    "print('Mean Absolute Error 15Hz with 10Hz:', round(np.mean(errors_15), 3), 'degrees.')\n",
    "\n",
    "accuracy = 100 - np.mean(errors_15)\n",
    "print('Accuracy:', round(accuracy, 3), '%.')"
   ]
  },
  {
   "cell_type": "code",
   "execution_count": 79,
   "metadata": {},
   "outputs": [
    {
     "name": "stdout",
     "output_type": "stream",
     "text": [
      "Mean Absolute Error 20Hz with 10Hz: 1.556 degrees.\n",
      "Accuracy: 98.444 %.\n"
     ]
    }
   ],
   "source": [
    "predictions_20 = rf_10.predict(X_test_20)\n",
    "errors_20 = abs(predictions_20 - y_test_20)\n",
    "print('Mean Absolute Error 20Hz with 10Hz:', round(np.mean(errors_20), 3), 'degrees.')\n",
    "\n",
    "accuracy = 100 - np.mean(errors_20)\n",
    "print('Accuracy:', round(accuracy, 3), '%.')"
   ]
  },
  {
   "cell_type": "code",
   "execution_count": 80,
   "metadata": {},
   "outputs": [
    {
     "name": "stdout",
     "output_type": "stream",
     "text": [
      "Mean Absolute Error 25Hz with 10Hz: 1.573 degrees.\n",
      "Accuracy: 98.427 %.\n"
     ]
    }
   ],
   "source": [
    "predictions_25 = rf_10.predict(X_test_25)\n",
    "errors_25 = abs(predictions_25 - y_test_25)\n",
    "print('Mean Absolute Error 25Hz with 10Hz:', round(np.mean(errors_25), 3), 'degrees.')\n",
    "\n",
    "accuracy = 100 - np.mean(errors_25)\n",
    "print('Accuracy:', round(accuracy, 3), '%.')"
   ]
  },
  {
   "cell_type": "code",
   "execution_count": 81,
   "metadata": {},
   "outputs": [
    {
     "name": "stdout",
     "output_type": "stream",
     "text": [
      "Mean Absolute Error 30Hz with 10Hz: 1.585 degrees.\n",
      "Accuracy: 98.415 %.\n"
     ]
    }
   ],
   "source": [
    "predictions_30 = rf_10.predict(X_test_30)\n",
    "errors_30 = abs(predictions_30 - y_test_30)\n",
    "print('Mean Absolute Error 30Hz with 10Hz:', round(np.mean(errors_30), 3), 'degrees.')\n",
    "\n",
    "accuracy = 100 - np.mean(errors_30)\n",
    "print('Accuracy:', round(accuracy, 3), '%.')"
   ]
  },
  {
   "cell_type": "code",
   "execution_count": 82,
   "metadata": {},
   "outputs": [
    {
     "name": "stdout",
     "output_type": "stream",
     "text": [
      "Mean Absolute Error 35Hz with 10Hz: 1.61 degrees.\n",
      "Accuracy: 98.39 %.\n"
     ]
    }
   ],
   "source": [
    "predictions_35 = rf_10.predict(X_test_35)\n",
    "errors_35 = abs(predictions_35 - y_test_35)\n",
    "print('Mean Absolute Error 35Hz with 10Hz:', round(np.mean(errors_35), 3), 'degrees.')\n",
    "\n",
    "accuracy = 100 - np.mean(errors_35)\n",
    "print('Accuracy:', round(accuracy, 3), '%.')"
   ]
  },
  {
   "cell_type": "code",
   "execution_count": 83,
   "metadata": {},
   "outputs": [
    {
     "name": "stdout",
     "output_type": "stream",
     "text": [
      "Mean Absolute Error 40Hz with 10Hz: 1.622 degrees.\n",
      "Accuracy: 98.378 %.\n"
     ]
    }
   ],
   "source": [
    "predictions_40 = rf_10.predict(X_test_40)\n",
    "errors_40 = abs(predictions_40 - y_test_40)\n",
    "print('Mean Absolute Error 40Hz with 10Hz:', round(np.mean(errors_40), 3), 'degrees.')\n",
    "\n",
    "accuracy = 100 - np.mean(errors_40)\n",
    "print('Accuracy:', round(accuracy, 3), '%.')"
   ]
  },
  {
   "cell_type": "code",
   "execution_count": null,
   "metadata": {},
   "outputs": [],
   "source": []
  },
  {
   "cell_type": "markdown",
   "metadata": {},
   "source": [
    "### Branch Check"
   ]
  }
 ],
 "metadata": {
  "celltoolbar": "Raw Cell Format",
  "kernelspec": {
   "display_name": "Python 3",
   "language": "python",
   "name": "python3"
  },
  "language_info": {
   "codemirror_mode": {
    "name": "ipython",
    "version": 3
   },
   "file_extension": ".py",
   "mimetype": "text/x-python",
   "name": "python",
   "nbconvert_exporter": "python",
   "pygments_lexer": "ipython3",
   "version": "3.7.6"
  }
 },
 "nbformat": 4,
 "nbformat_minor": 4
}
