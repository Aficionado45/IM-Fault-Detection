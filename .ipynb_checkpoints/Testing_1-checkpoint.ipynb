{
 "cells": [
  {
   "cell_type": "code",
   "execution_count": 1,
   "metadata": {},
   "outputs": [
    {
     "name": "stdout",
     "output_type": "stream",
     "text": [
      "Requirement already satisfied: pandas in c:\\programdata\\anaconda3\\lib\\site-packages (1.0.1)\n",
      "Requirement already satisfied: numpy>=1.13.3 in c:\\programdata\\anaconda3\\lib\\site-packages (from pandas) (1.18.1)\n",
      "Requirement already satisfied: pytz>=2017.2 in c:\\programdata\\anaconda3\\lib\\site-packages (from pandas) (2019.3)\n",
      "Requirement already satisfied: python-dateutil>=2.6.1 in c:\\programdata\\anaconda3\\lib\\site-packages (from pandas) (2.8.1)\n",
      "Requirement already satisfied: six>=1.5 in c:\\programdata\\anaconda3\\lib\\site-packages (from python-dateutil>=2.6.1->pandas) (1.14.0)\n"
     ]
    }
   ],
   "source": [
    "# Testing random forest classifier for general classification of 5 types of \n",
    "# faults in IM by taking 10Hz recorded data for ND, BF, BRF, RM, UR. Dataset \n",
    "# consists of 10000 rows each for all the specified IM faults.\n",
    "\n",
    "# Comparing RF classifier result with SVM linear and radial kernals.\n",
    "\n",
    "!pip install pandas"
   ]
  },
  {
   "cell_type": "code",
   "execution_count": 5,
   "metadata": {},
   "outputs": [],
   "source": [
    "import pandas as pd"
   ]
  },
  {
   "cell_type": "code",
   "execution_count": 7,
   "metadata": {},
   "outputs": [],
   "source": [
    "data_test=pd.read_csv(r'D:\\Acads\\BTP\\Train\\Train10hzbf_nd.csv')"
   ]
  },
  {
   "cell_type": "code",
   "execution_count": 9,
   "metadata": {},
   "outputs": [
    {
     "data": {
      "text/plain": [
       "<bound method NDFrame.head of       X_Value  Acceleration  Acceleration_0  Acceleration_1   Voltage  \\\n",
       "0     0.00000     -0.768912        0.590422       -1.190895  0.004234   \n",
       "1     0.00005     -1.456453        0.116244       -1.325922  0.001663   \n",
       "2     0.00010     -0.488512        1.316790       -0.074655  0.002593   \n",
       "3     0.00015     -1.360815        0.575074       -0.073920  0.000438   \n",
       "4     0.00020     -0.395823        1.919520        0.047996  0.000992   \n",
       "...       ...           ...             ...             ...       ...   \n",
       "2186  0.05940      0.615634        0.107036        0.480646  0.209599   \n",
       "2187  0.05945      0.063315       -0.632962       -0.053580  0.210980   \n",
       "2188  0.05950      0.723442       -0.051842        0.409335  0.208848   \n",
       "2189  0.05955     -0.010442       -0.758689       -0.492112  0.209595   \n",
       "2190  0.05960      0.628787       -0.051106       -0.127098  0.207959   \n",
       "\n",
       "      Voltage_0  Voltage_1  Voltage_2  Voltage_3  Identity  \n",
       "0     -0.178414   0.174913  -0.000166   0.016538         0  \n",
       "1     -0.179898   0.179547  -0.000126  -0.055457         0  \n",
       "2     -0.177713   0.175572  -0.000134  -0.033742         0  \n",
       "3     -0.178693   0.180163  -0.000126  -0.001972         0  \n",
       "4     -0.176762   0.176239  -0.000107  -0.061004         0  \n",
       "...         ...        ...        ...        ...       ...  \n",
       "2186  -0.068040  -0.142220   0.000068   0.150513         1  \n",
       "2187  -0.069085  -0.142639   0.000048   0.146614         1  \n",
       "2188  -0.068196  -0.141503   0.000102   0.148863         1  \n",
       "2189  -0.069709  -0.141495   0.000082   0.140224         1  \n",
       "2190  -0.067961  -0.140441   0.000047   0.150192         1  \n",
       "\n",
       "[2191 rows x 10 columns]>"
      ]
     },
     "execution_count": 9,
     "metadata": {},
     "output_type": "execute_result"
    }
   ],
   "source": [
    "data_test.head"
   ]
  },
  {
   "cell_type": "code",
   "execution_count": 10,
   "metadata": {},
   "outputs": [
    {
     "data": {
      "text/plain": [
       "<bound method NDFrame.head of       X_Value  Acceleration  Acceleration_0  Acceleration_1   Voltage  \\\n",
       "131   0.00655      4.247687        7.271762       -1.867868 -0.064349   \n",
       "1353  0.01775     -0.216593       -1.079883       -1.142986 -0.212006   \n",
       "1046  0.00240     -1.691370       -1.541046       -1.292472 -0.192049   \n",
       "1977  0.04895     -0.462943       -0.503429       -0.714869  0.147266   \n",
       "599   0.02995     -1.221782       -4.860414        2.413665 -0.188425   \n",
       "...       ...           ...             ...             ...       ...   \n",
       "89    0.00445      0.654602       -2.489156       -1.294677 -0.057979   \n",
       "848   0.04240     -0.541125       -5.778320        0.043953 -0.081126   \n",
       "1934  0.04680      0.361540       -0.442284        0.330916  0.125955   \n",
       "1659  0.03305      0.886323       -0.698649       -0.775277 -0.055053   \n",
       "1728  0.03650     -0.143574       -0.116180       -0.122687 -0.011028   \n",
       "\n",
       "      Voltage_0  Voltage_1  Voltage_2  Voltage_3  Identity  \n",
       "131   -0.123123   0.189640  -0.000161  -0.016166         0  \n",
       "1353   0.175046   0.036084  -0.000038   0.054536         1  \n",
       "1046  -0.018326   0.211583   0.000265  -0.014120         1  \n",
       "1977   0.061435  -0.211193   0.000073  -1.045769         1  \n",
       "599    0.152758   0.034510  -0.000091   0.023735         0  \n",
       "...         ...        ...        ...        ...       ...  \n",
       "89    -0.137998   0.197507  -0.000218   0.070989         0  \n",
       "848    0.192927  -0.111415   0.000833  -0.018032         0  \n",
       "1934   0.085561  -0.212267   0.000098  -1.092400         1  \n",
       "1659   0.215085  -0.161976   0.000040   0.089093         1  \n",
       "1728   0.201662  -0.193994   0.000020   0.012957         1  \n",
       "\n",
       "[2191 rows x 10 columns]>"
      ]
     },
     "execution_count": 10,
     "metadata": {},
     "output_type": "execute_result"
    }
   ],
   "source": [
    "#Shuffling test data\n",
    "\n",
    "data_test= data_test.sample(frac=1)\n",
    "data_test.head"
   ]
  },
  {
   "cell_type": "code",
   "execution_count": 11,
   "metadata": {},
   "outputs": [],
   "source": [
    "import sklearn as sk"
   ]
  },
  {
   "cell_type": "code",
   "execution_count": 12,
   "metadata": {},
   "outputs": [
    {
     "name": "stdout",
     "output_type": "stream",
     "text": [
      "[[ 6.550000e-03  4.247687e+00  7.271762e+00 ...  1.896400e-01\n",
      "  -1.610000e-04 -1.616600e-02]\n",
      " [ 1.775000e-02 -2.165930e-01 -1.079883e+00 ...  3.608400e-02\n",
      "  -3.830000e-05  5.453600e-02]\n",
      " [ 2.400000e-03 -1.691370e+00 -1.541046e+00 ...  2.115830e-01\n",
      "   2.650000e-04 -1.412000e-02]\n",
      " ...\n",
      " [ 4.680000e-02  3.615400e-01 -4.422840e-01 ... -2.122670e-01\n",
      "   9.830000e-05 -1.092400e+00]\n",
      " [ 3.305000e-02  8.863230e-01 -6.986490e-01 ... -1.619760e-01\n",
      "   3.960000e-05  8.909300e-02]\n",
      " [ 3.650000e-02 -1.435740e-01 -1.161800e-01 ... -1.939940e-01\n",
      "   2.040000e-05  1.295700e-02]]\n"
     ]
    }
   ],
   "source": [
    "#Assigning Time, Acceleration, Voltage readings as X parameter\n",
    "\n",
    "dataset_test = data_test.values\n",
    "X1 = dataset_test[:,0:9]\n",
    "print(X1)"
   ]
  },
  {
   "cell_type": "code",
   "execution_count": 13,
   "metadata": {},
   "outputs": [
    {
     "name": "stdout",
     "output_type": "stream",
     "text": [
      "[0. 1. 1. ... 1. 1. 1.]\n"
     ]
    }
   ],
   "source": [
    "#Assigning identity signature as Y parameter\n",
    "\n",
    "y1= dataset_test[:,9]\n",
    "print(y1)"
   ]
  },
  {
   "cell_type": "code",
   "execution_count": 14,
   "metadata": {},
   "outputs": [],
   "source": [
    "#Split data set into train and testing data\n",
    "\n",
    "from sklearn.model_selection import train_test_split\n",
    "X1_train, X1_test, y1_train, y1_test = train_test_split(\n",
    "    X1, y1, test_size=0.90, random_state=42)"
   ]
  },
  {
   "cell_type": "code",
   "execution_count": 15,
   "metadata": {},
   "outputs": [],
   "source": [
    "#Training random forest regressor\n",
    "\n",
    "from sklearn.ensemble import RandomForestRegressor\n",
    "rf = RandomForestRegressor(n_estimators = 1000, random_state = 42)\n",
    "rf.fit(X1_train, y1_train);"
   ]
  },
  {
   "cell_type": "code",
   "execution_count": 16,
   "metadata": {},
   "outputs": [
    {
     "name": "stdout",
     "output_type": "stream",
     "text": [
      "Mean Absolute Error: 0.01 degrees.\n"
     ]
    }
   ],
   "source": [
    "#Predicting errors by sampling against test data identification result\n",
    "\n",
    "import numpy as np\n",
    "predictions = rf.predict(X1_test)\n",
    "errors = abs(predictions - y1_test)\n",
    "print('Mean Absolute Error:', round(np.mean(errors), 2), 'degrees.')"
   ]
  },
  {
   "cell_type": "code",
   "execution_count": 18,
   "metadata": {},
   "outputs": [
    {
     "name": "stdout",
     "output_type": "stream",
     "text": [
      "Accuracy: 100.0 %.\n"
     ]
    }
   ],
   "source": [
    "#Calculating model accuracy through adjusting hyperparameters\n",
    "\n",
    "mape = 100 * (errors / len(y1_test))\n",
    "accuracy = 100 - np.mean(mape)\n",
    "print('Accuracy:', round(accuracy, 2), '%.')"
   ]
  },
  {
   "cell_type": "code",
   "execution_count": 19,
   "metadata": {},
   "outputs": [],
   "source": [
    "data=pd.read_csv(r'D:\\Acads\\BTP\\Train\\Train10hz.csv')"
   ]
  },
  {
   "cell_type": "code",
   "execution_count": 20,
   "metadata": {},
   "outputs": [
    {
     "data": {
      "text/plain": [
       "<bound method NDFrame.head of        X_Value  Acceleration  Acceleration_0  Acceleration_1   Voltage  \\\n",
       "0      0.00000     -0.768912        0.590422       -1.190895  0.004234   \n",
       "1      0.00005     -1.456453        0.116244       -1.325922  0.001663   \n",
       "2      0.00010     -0.488512        1.316790       -0.074655  0.002593   \n",
       "3      0.00015     -1.360815        0.575074       -0.073920  0.000438   \n",
       "4      0.00020     -0.395823        1.919520        0.047996  0.000992   \n",
       "...        ...           ...             ...             ...       ...   \n",
       "49995  0.49975     -0.221633        0.671580       -1.863335 -0.190914   \n",
       "49996  0.49980      0.379733        1.455287       -1.525031 -0.196483   \n",
       "49997  0.49985     -0.020645        1.169577       -1.967974 -0.190973   \n",
       "49998  0.49990      0.424234        1.671135       -1.850714 -0.196692   \n",
       "49999  0.49995      0.028281        1.099469       -2.238151 -0.191159   \n",
       "\n",
       "       Voltage_0  Voltage_1  Voltage_2  Voltage_3  Identity  \n",
       "0      -0.178414   0.174913  -0.000166   0.016538         1  \n",
       "1      -0.179898   0.179547  -0.000126  -0.055457         1  \n",
       "2      -0.177713   0.175572  -0.000134  -0.033742         1  \n",
       "3      -0.178693   0.180163  -0.000126  -0.001972         1  \n",
       "4      -0.176762   0.176239  -0.000107  -0.061004         1  \n",
       "...          ...        ...        ...        ...       ...  \n",
       "49995   0.108506   0.082229  -0.000385   0.001700         4  \n",
       "49996   0.115430   0.081537  -0.000391  -0.062442         4  \n",
       "49997   0.109518   0.080909  -0.000447   0.002016         4  \n",
       "49998   0.116847   0.080246  -0.000391   0.035131         4  \n",
       "49999   0.110724   0.079584  -0.000453  -0.058731         4  \n",
       "\n",
       "[50000 rows x 10 columns]>"
      ]
     },
     "execution_count": 20,
     "metadata": {},
     "output_type": "execute_result"
    }
   ],
   "source": [
    "data.head"
   ]
  },
  {
   "cell_type": "code",
   "execution_count": 21,
   "metadata": {},
   "outputs": [],
   "source": [
    "#Shuffling data for random training\n",
    "\n",
    "data= data.sample(frac=1)"
   ]
  },
  {
   "cell_type": "code",
   "execution_count": 22,
   "metadata": {},
   "outputs": [
    {
     "data": {
      "text/plain": [
       "<bound method NDFrame.head of        X_Value  Acceleration  Acceleration_0  Acceleration_1   Voltage  \\\n",
       "14051  0.20255      0.423373       -0.396733       -0.056889  0.212449   \n",
       "43485  0.17425     -1.120980       -1.193700       -1.254120  0.006367   \n",
       "15303  0.26515     -1.029890       -0.931564       -0.604961 -0.163508   \n",
       "9162   0.45810      0.006523        2.272268       -1.523929  0.152681   \n",
       "46721  0.33605      0.199397        1.241035       -0.295821  0.124734   \n",
       "...        ...           ...             ...             ...       ...   \n",
       "35564  0.27820     -0.390415        0.059642        0.212676  0.169386   \n",
       "39819  0.49095     -0.185738       -1.343861       -0.915573  0.205740   \n",
       "23066  0.15330      0.346051        0.143747        0.080221  0.200553   \n",
       "15405  0.27025     -0.731542        0.423563       -0.100019 -0.117213   \n",
       "47835  0.39175     -1.431376       -0.928494        0.285458 -0.170361   \n",
       "\n",
       "       Voltage_0  Voltage_1  Voltage_2  Voltage_3  Identity  \n",
       "14051  -0.069357  -0.145112  -0.000131   0.096093         2  \n",
       "43485  -0.174806   0.169667  -0.000392  -0.044890         4  \n",
       "15303   0.202995  -0.039826  -0.000424  -0.134722         2  \n",
       "9162    0.048052  -0.201745   0.000899   0.015977         1  \n",
       "46721   0.080159  -0.208070   0.001354  -0.050191         4  \n",
       "...          ...        ...        ...        ...       ...  \n",
       "35564   0.016900  -0.187677  -0.001502  -0.036301         3  \n",
       "39819  -0.155692  -0.049609  -0.001454  -0.060985         3  \n",
       "23066  -0.044028  -0.156955  -0.000001   0.058581         0  \n",
       "15405   0.206257  -0.090326  -0.000411  -0.032516         2  \n",
       "47835  -0.011203   0.181061  -0.000421   0.038917         4  \n",
       "\n",
       "[50000 rows x 10 columns]>"
      ]
     },
     "execution_count": 22,
     "metadata": {},
     "output_type": "execute_result"
    }
   ],
   "source": [
    "data.head"
   ]
  },
  {
   "cell_type": "code",
   "execution_count": 23,
   "metadata": {},
   "outputs": [],
   "source": [
    "import sklearn as sk"
   ]
  },
  {
   "cell_type": "code",
   "execution_count": 24,
   "metadata": {},
   "outputs": [
    {
     "data": {
      "text/plain": [
       "Index(['X_Value', 'Acceleration', 'Acceleration_0', 'Acceleration_1',\n",
       "       'Voltage', 'Voltage_0', 'Voltage_1', 'Voltage_2', 'Voltage_3',\n",
       "       'Identity'],\n",
       "      dtype='object')"
      ]
     },
     "execution_count": 24,
     "metadata": {},
     "output_type": "execute_result"
    }
   ],
   "source": [
    "data.columns"
   ]
  },
  {
   "cell_type": "code",
   "execution_count": 25,
   "metadata": {},
   "outputs": [],
   "source": [
    "#Assigning Time, Acceleration, Voltage readings as X parameter\n",
    "\n",
    "dataset = data.values\n",
    "X = dataset[:,0:9]"
   ]
  },
  {
   "cell_type": "code",
   "execution_count": 26,
   "metadata": {},
   "outputs": [
    {
     "name": "stdout",
     "output_type": "stream",
     "text": [
      "[[ 2.025500e-01  4.233730e-01 -3.967330e-01 -5.688900e-02  2.124490e-01\n",
      "  -6.935700e-02 -1.451120e-01 -1.310000e-04  9.609300e-02]\n",
      " [ 1.742500e-01 -1.120980e+00 -1.193700e+00 -1.254120e+00  6.367000e-03\n",
      "  -1.748060e-01  1.696670e-01 -3.920000e-04 -4.489000e-02]\n",
      " [ 2.651500e-01 -1.029890e+00 -9.315640e-01 -6.049610e-01 -1.635080e-01\n",
      "   2.029950e-01 -3.982600e-02 -4.240000e-04 -1.347220e-01]\n",
      " [ 4.581000e-01  6.523000e-03  2.272268e+00 -1.523929e+00  1.526810e-01\n",
      "   4.805200e-02 -2.017450e-01  8.990000e-04  1.597700e-02]]\n"
     ]
    }
   ],
   "source": [
    "print(X[0:4])"
   ]
  },
  {
   "cell_type": "code",
   "execution_count": 27,
   "metadata": {},
   "outputs": [
    {
     "name": "stdout",
     "output_type": "stream",
     "text": [
      "[2. 4. 2. ... 0. 2. 4.]\n"
     ]
    }
   ],
   "source": [
    "#Assigning identity signature as Y parameter\n",
    "\n",
    "y= dataset[:,9]\n",
    "print(y)\n"
   ]
  },
  {
   "cell_type": "code",
   "execution_count": 29,
   "metadata": {},
   "outputs": [],
   "source": [
    "#Split data set into train and testing data\n",
    "\n",
    "from sklearn.model_selection import train_test_split\n",
    "X_train, X_test, y_train, y_test = train_test_split(\n",
    "    X, y, test_size=0.90, random_state=42)"
   ]
  },
  {
   "cell_type": "code",
   "execution_count": 30,
   "metadata": {},
   "outputs": [],
   "source": [
    "#Training random forest regressor\n",
    "\n",
    "from sklearn.ensemble import RandomForestRegressor\n",
    "rf = RandomForestRegressor(n_estimators = 1000, random_state = 42)\n",
    "rf.fit(X_train, y_train);"
   ]
  },
  {
   "cell_type": "code",
   "execution_count": 33,
   "metadata": {},
   "outputs": [
    {
     "name": "stdout",
     "output_type": "stream",
     "text": [
      "Mean Absolute Error: 0.124 degrees.\n"
     ]
    }
   ],
   "source": [
    "#Predicting errors by sampling against test data identification result\n",
    "\n",
    "import numpy as np\n",
    "predictions = rf.predict(X_test)\n",
    "errors = abs(predictions - y_test)\n",
    "print('Mean Absolute Error:', round(np.mean(errors), 3), 'degrees.')"
   ]
  },
  {
   "cell_type": "code",
   "execution_count": 34,
   "metadata": {},
   "outputs": [
    {
     "name": "stdout",
     "output_type": "stream",
     "text": [
      "Accuracy: 100.0 %.\n"
     ]
    }
   ],
   "source": [
    "#Calculating model accuracy through adjusting hyperparameters\n",
    "\n",
    "mape = 100 * (errors / len(y_test))\n",
    "accuracy = 100 - np.mean(mape)\n",
    "print('Accuracy:', round(accuracy, 3), '%.')"
   ]
  },
  {
   "cell_type": "code",
   "execution_count": 86,
   "metadata": {},
   "outputs": [],
   "source": [
    "from sklearn.model_selection import train_test_split\n",
    "\n",
    "# Split dataset into training set and test set\n",
    "X_train, X_test, y_train, y_test = train_test_split(X, y, test_size=0.3,random_state=109)"
   ]
  },
  {
   "cell_type": "code",
   "execution_count": 87,
   "metadata": {},
   "outputs": [],
   "source": [
    "from sklearn import svm\n",
    "\n",
    "#Create a svm Classifier with linear kernal\n",
    "clf = svm.SVC(kernel='linear') \n",
    "\n",
    "#Train the model using the training sets\n",
    "clf.fit(X_train, y_train)\n",
    "\n",
    "#Predict the response for test dataset\n",
    "y_pred = clf.predict(X_test)"
   ]
  },
  {
   "cell_type": "code",
   "execution_count": 90,
   "metadata": {},
   "outputs": [
    {
     "name": "stdout",
     "output_type": "stream",
     "text": [
      "Accuracy: 0.21513333333333334\n"
     ]
    }
   ],
   "source": [
    "from sklearn import metrics\n",
    "\n",
    "# Model Accuracy\n",
    "print(\"Accuracy:\",metrics.accuracy_score(y_test, y_pred))"
   ]
  },
  {
   "cell_type": "code",
   "execution_count": 94,
   "metadata": {},
   "outputs": [],
   "source": [
    "#Radial kernal Accuracy\n",
    "clf_2 = svm.SVC(kernel='rbf', random_state=42, gamma=0.008, C=0.1) \n",
    "clf_2.fit(X_train, y_train)\n",
    "y2_pred = clf_2.predict(X_test)"
   ]
  },
  {
   "cell_type": "code",
   "execution_count": 95,
   "metadata": {},
   "outputs": [
    {
     "name": "stdout",
     "output_type": "stream",
     "text": [
      "Accuracy: 0.29706666666666665\n"
     ]
    }
   ],
   "source": [
    "# Model Accuracy\n",
    "print(\"Accuracy:\",metrics.accuracy_score(y_test, y2_pred))"
   ]
  },
  {
   "cell_type": "code",
   "execution_count": 35,
   "metadata": {},
   "outputs": [],
   "source": [
    "# Result: With trained test split of 0.90: 0.124 Mean Absolute error / 100% Accuracy \n",
    "# Using Svm achieved an accuracy of 21.51% with Linear Kernal and\n",
    "# 29.70% with Radial Kernal"
   ]
  }
 ],
 "metadata": {
  "kernelspec": {
   "display_name": "Python 3",
   "language": "python",
   "name": "python3"
  },
  "language_info": {
   "codemirror_mode": {
    "name": "ipython",
    "version": 3
   },
   "file_extension": ".py",
   "mimetype": "text/x-python",
   "name": "python",
   "nbconvert_exporter": "python",
   "pygments_lexer": "ipython3",
   "version": "3.7.6"
  }
 },
 "nbformat": 4,
 "nbformat_minor": 5
}
