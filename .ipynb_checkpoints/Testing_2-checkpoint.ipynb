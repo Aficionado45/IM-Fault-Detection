{
 "cells": [
  {
   "cell_type": "markdown",
   "metadata": {},
   "source": [
    "### Testing accuracy of RF classifier by providing training data of 10Hz defects and testing out it's accuracy on different speed readings of 15Hz, 20Hz, 30Hz and 40Hz. \n",
    "\n",
    "### Training Dataset consists of 10000 rows for each fault and testing data consists of 20000 rows for each fault. Mix data consists of 10000 rows data for each fault in all 7 rotational speeds."
   ]
  },
  {
   "cell_type": "code",
   "execution_count": 10,
   "metadata": {},
   "outputs": [],
   "source": [
    "import pandas as pd"
   ]
  },
  {
   "cell_type": "code",
   "execution_count": 11,
   "metadata": {},
   "outputs": [],
   "source": [
    "data= pd.read_csv(r'D:\\Acads\\BTP\\Train\\Train10Hz.csv')"
   ]
  },
  {
   "cell_type": "code",
   "execution_count": 12,
   "metadata": {},
   "outputs": [
    {
     "data": {
      "text/plain": [
       "<bound method NDFrame.head of        X_Value  Acceleration  Acceleration_0  Acceleration_1   Voltage  \\\n",
       "0      0.00000     -0.768912        0.590422       -1.190895  0.004234   \n",
       "1      0.00005     -1.456453        0.116244       -1.325922  0.001663   \n",
       "2      0.00010     -0.488512        1.316790       -0.074655  0.002593   \n",
       "3      0.00015     -1.360815        0.575074       -0.073920  0.000438   \n",
       "4      0.00020     -0.395823        1.919520        0.047996  0.000992   \n",
       "...        ...           ...             ...             ...       ...   \n",
       "49995  0.49975     -0.221633        0.671580       -1.863335 -0.190914   \n",
       "49996  0.49980      0.379733        1.455287       -1.525031 -0.196483   \n",
       "49997  0.49985     -0.020645        1.169577       -1.967974 -0.190973   \n",
       "49998  0.49990      0.424234        1.671135       -1.850714 -0.196692   \n",
       "49999  0.49995      0.028281        1.099469       -2.238151 -0.191159   \n",
       "\n",
       "       Voltage_0  Voltage_1  Voltage_2  Voltage_3  Identity  \n",
       "0      -0.178414   0.174913  -0.000166   0.016538         1  \n",
       "1      -0.179898   0.179547  -0.000126  -0.055457         1  \n",
       "2      -0.177713   0.175572  -0.000134  -0.033742         1  \n",
       "3      -0.178693   0.180163  -0.000126  -0.001972         1  \n",
       "4      -0.176762   0.176239  -0.000107  -0.061004         1  \n",
       "...          ...        ...        ...        ...       ...  \n",
       "49995   0.108506   0.082229  -0.000385   0.001700         4  \n",
       "49996   0.115430   0.081537  -0.000391  -0.062442         4  \n",
       "49997   0.109518   0.080909  -0.000447   0.002016         4  \n",
       "49998   0.116847   0.080246  -0.000391   0.035131         4  \n",
       "49999   0.110724   0.079584  -0.000453  -0.058731         4  \n",
       "\n",
       "[50000 rows x 10 columns]>"
      ]
     },
     "execution_count": 12,
     "metadata": {},
     "output_type": "execute_result"
    }
   ],
   "source": [
    "data.head"
   ]
  },
  {
   "cell_type": "code",
   "execution_count": 13,
   "metadata": {},
   "outputs": [
    {
     "data": {
      "text/plain": [
       "<bound method NDFrame.head of        X_Value  Acceleration  Acceleration_0  Acceleration_1   Voltage  \\\n",
       "4086   0.20430     -0.810708       -2.835888        0.521816 -0.071273   \n",
       "21828  0.09140     -0.155252        0.056081        0.549508 -0.067287   \n",
       "32771  0.13855      0.327735        0.136257       -0.303540 -0.209533   \n",
       "8172   0.40860      1.871966       -1.273876        1.348152 -0.152265   \n",
       "18183  0.40915     -0.653605       -0.743342       -2.673374  0.188284   \n",
       "...        ...           ...             ...             ...       ...   \n",
       "49534  0.47670     -0.646844       -0.584955        0.318295 -0.046723   \n",
       "5294   0.26470     -6.151717       -5.590221        0.593741  0.178256   \n",
       "49777  0.48885     -0.038592       -0.313856       -0.482432 -0.158198   \n",
       "24589  0.22945     -0.637010       -0.354864        0.215984 -0.052326   \n",
       "26829  0.34145     -2.803014       -0.368493       -1.310728  0.082813   \n",
       "\n",
       "       Voltage_0  Voltage_1  Voltage_2  Voltage_3  Identity  \n",
       "4086   -0.130380   0.203053  -0.000243  -0.028874         1  \n",
       "21828  -0.149985   0.217911   0.000366   0.035567         0  \n",
       "32771   0.060345   0.147583   0.003031   0.031005         3  \n",
       "8172   -0.030950   0.182819  -0.000235   0.049253         1  \n",
       "18183  -0.150711  -0.037762  -0.000246   0.018156         2  \n",
       "...          ...        ...        ...        ...       ...  \n",
       "49534  -0.146039   0.193413  -0.000592   0.010021         4  \n",
       "5294   -0.000894  -0.177351   0.000539   0.020099         1  \n",
       "49777  -0.023936   0.181166  -0.000481  -0.045663         4  \n",
       "24589   0.200998  -0.150739  -0.000001   0.003940         0  \n",
       "26829   0.119490  -0.205419  -0.000027   0.047126         0  \n",
       "\n",
       "[50000 rows x 10 columns]>"
      ]
     },
     "execution_count": 13,
     "metadata": {},
     "output_type": "execute_result"
    }
   ],
   "source": [
    "#shuffling train data\n",
    "data= data.sample(frac=1)\n",
    "data.head"
   ]
  },
  {
   "cell_type": "code",
   "execution_count": 14,
   "metadata": {},
   "outputs": [],
   "source": [
    "import sklearn as sk"
   ]
  },
  {
   "cell_type": "code",
   "execution_count": 15,
   "metadata": {},
   "outputs": [],
   "source": [
    "test_15= pd.read_csv(r'D:\\Acads\\BTP\\Train\\Train15Hz.csv')"
   ]
  },
  {
   "cell_type": "code",
   "execution_count": 16,
   "metadata": {},
   "outputs": [
    {
     "data": {
      "text/plain": [
       "<bound method NDFrame.head of        X_Value  Acceleration  Acceleration_0  Acceleration_1   Voltage  \\\n",
       "0      0.00000     -1.525662       -2.224441       -0.555582 -0.021681   \n",
       "1      0.00005     -1.392776       -2.294180       -0.066691 -0.019098   \n",
       "2      0.00010     -0.174552       -1.000812        0.584061 -0.019375   \n",
       "3      0.00015     -0.383162       -1.101492        1.278678 -0.016724   \n",
       "4      0.00020      1.119027        0.109123        2.087247 -0.017092   \n",
       "...        ...           ...             ...             ...       ...   \n",
       "99949  0.99925     -0.086289        1.216725       -1.050722 -0.210134   \n",
       "99950  0.99930      0.034796        1.739032       -1.707600 -0.214406   \n",
       "99951  0.99935     -0.306700        1.865864       -2.614070 -0.209294   \n",
       "99952  0.99940     -0.349602        2.158573       -2.790634 -0.213611   \n",
       "99953  0.99945     -0.223231        2.109338       -2.928357 -0.208421   \n",
       "\n",
       "       Voltage_0  Voltage_1  Voltage_2  Voltage_3  Identity  \n",
       "0       0.204297  -0.183614  -0.000185  -0.007744         1  \n",
       "1       0.203327  -0.187030  -0.000199  -0.015469         1  \n",
       "2       0.202721  -0.184704  -0.000153  -0.033848         1  \n",
       "3       0.202069  -0.188086  -0.000211   0.073223         1  \n",
       "4       0.201569  -0.185779  -0.000217   0.003786         1  \n",
       "...          ...        ...        ...        ...       ...  \n",
       "99949   0.182882   0.026613  -0.000414  -0.075549         4  \n",
       "99950   0.191532   0.022294  -0.000392   0.004331         4  \n",
       "99951   0.184456   0.024698  -0.000431   0.021859         4  \n",
       "99952   0.192194   0.020143  -0.000452  -0.079773         4  \n",
       "99953   0.184310   0.022566  -0.000389  -0.203361         4  \n",
       "\n",
       "[99954 rows x 10 columns]>"
      ]
     },
     "execution_count": 16,
     "metadata": {},
     "output_type": "execute_result"
    }
   ],
   "source": [
    "test_15.head"
   ]
  },
  {
   "cell_type": "code",
   "execution_count": 10,
   "metadata": {},
   "outputs": [
    {
     "data": {
      "text/plain": [
       "<bound method NDFrame.head of        X_Value  Acceleration  Acceleration_0  Acceleration_1   Voltage  \\\n",
       "68296  0.41620     -1.652402       -1.632763       -0.671985  0.217661   \n",
       "54083  0.70510      0.506227       -1.259633       -0.106023 -0.102347   \n",
       "75465  0.77465      0.054218        1.721106       -0.124402 -0.199095   \n",
       "1246   0.06230     -3.150780        5.621717       -1.181093 -0.073666   \n",
       "74318  0.71730     -0.687533       -0.622157       -0.647968 -0.203980   \n",
       "...        ...           ...             ...             ...       ...   \n",
       "35650  0.78295     -6.145079       -3.659867       -1.327392 -0.212658   \n",
       "44494  0.22565     -1.608270       -1.877709       -2.675212  0.124784   \n",
       "79819  0.99235     -4.219031       -3.270653       -1.070449 -0.076959   \n",
       "80055  0.00455      0.601251        2.989919       -1.226306 -0.197102   \n",
       "91148  0.55920     -0.773461        0.929050       -0.728716  0.195973   \n",
       "\n",
       "       Voltage_0  Voltage_1  Voltage_2  Voltage_3  Identity  \n",
       "68296  -0.134723  -0.083069  -0.000928   0.093141         3  \n",
       "54083  -0.135122   0.237912   0.000084   0.014516         0  \n",
       "75465   0.009592   0.187902  -0.000862   0.016831         3  \n",
       "1246    0.199070  -0.126293  -0.000214   0.004085         1  \n",
       "74318   0.156160   0.047148  -0.000662  -0.050585         3  \n",
       "...          ...        ...        ...        ...       ...  \n",
       "35650   0.059849   0.151305  -0.000285  -0.077310         2  \n",
       "44494  -0.192539   0.068875   0.000304   0.001038         0  \n",
       "79819   0.228556  -0.153821  -0.000819  -0.029819         3  \n",
       "80055   0.115687   0.081521   0.000924   0.046859         4  \n",
       "91148  -0.032511  -0.163569   0.001096   0.005796         4  \n",
       "\n",
       "[99954 rows x 10 columns]>"
      ]
     },
     "execution_count": 10,
     "metadata": {},
     "output_type": "execute_result"
    }
   ],
   "source": [
    "#shuffling train data\n",
    "test_15= test_15.sample(frac=1)\n",
    "test_15.head"
   ]
  },
  {
   "cell_type": "code",
   "execution_count": 18,
   "metadata": {},
   "outputs": [
    {
     "name": "stdout",
     "output_type": "stream",
     "text": [
      "[[ 2.043000e-01 -8.107080e-01 -2.835888e+00 ...  2.030530e-01\n",
      "  -2.430000e-04 -2.887400e-02]\n",
      " [ 9.140000e-02 -1.552520e-01  5.608100e-02 ...  2.179110e-01\n",
      "   3.660000e-04  3.556700e-02]\n",
      " [ 1.385500e-01  3.277350e-01  1.362570e-01 ...  1.475830e-01\n",
      "   3.031000e-03  3.100500e-02]\n",
      " ...\n",
      " [ 4.888500e-01 -3.859200e-02 -3.138560e-01 ...  1.811660e-01\n",
      "  -4.810000e-04 -4.566300e-02]\n",
      " [ 2.294500e-01 -6.370100e-01 -3.548640e-01 ... -1.507390e-01\n",
      "  -1.290000e-06  3.940000e-03]\n",
      " [ 3.414500e-01 -2.803014e+00 -3.684930e-01 ... -2.054190e-01\n",
      "  -2.680000e-05  4.712600e-02]]\n",
      "[1. 0. 3. ... 4. 0. 0.]\n"
     ]
    }
   ],
   "source": [
    "#Assigning X and Y parameter for training\n",
    "\n",
    "dataset = data.values\n",
    "X = dataset[:,0:9]\n",
    "print(X)\n",
    "\n",
    "y= dataset[:,9]\n",
    "print(y)"
   ]
  },
  {
   "cell_type": "code",
   "execution_count": 19,
   "metadata": {},
   "outputs": [],
   "source": [
    "#Training random forest classifier\n",
    "\n",
    "from sklearn.ensemble import RandomForestClassifier\n",
    "rf = RandomForestClassifier(n_estimators = 1000, random_state = 50)\n",
    "rf.fit(X, y);"
   ]
  },
  {
   "cell_type": "code",
   "execution_count": 24,
   "metadata": {},
   "outputs": [
    {
     "name": "stdout",
     "output_type": "stream",
     "text": [
      "[[ 0.000000e+00 -1.525662e+00 -2.224441e+00 ... -1.836140e-01\n",
      "  -1.850000e-04 -7.744000e-03]\n",
      " [ 5.000000e-05 -1.392776e+00 -2.294180e+00 ... -1.870300e-01\n",
      "  -1.990000e-04 -1.546900e-02]\n",
      " [ 1.000000e-04 -1.745520e-01 -1.000812e+00 ... -1.847040e-01\n",
      "  -1.530000e-04 -3.384800e-02]\n",
      " ...\n",
      " [ 9.993500e-01 -3.067000e-01  1.865864e+00 ...  2.469800e-02\n",
      "  -4.310000e-04  2.185900e-02]\n",
      " [ 9.994000e-01 -3.496020e-01  2.158573e+00 ...  2.014300e-02\n",
      "  -4.520000e-04 -7.977300e-02]\n",
      " [ 9.994500e-01 -2.232310e-01  2.109338e+00 ...  2.256600e-02\n",
      "  -3.890000e-04 -2.033610e-01]]\n",
      "[1. 1. 1. ... 4. 4. 4.]\n"
     ]
    }
   ],
   "source": [
    "#Assigning X and Y parameter for testing 15Hz against 10Hz training\n",
    "\n",
    "dataset_test_15 = test_15.values\n",
    "X_test_15 = dataset_test_15[:,0:9]\n",
    "print(X_test_15)\n",
    "\n",
    "y_test_15= dataset_test_15[:,9]\n",
    "print(y_test_15)"
   ]
  },
  {
   "cell_type": "code",
   "execution_count": 25,
   "metadata": {},
   "outputs": [
    {
     "name": "stdout",
     "output_type": "stream",
     "text": [
      "Mean Absolute Error: 0.59 degrees.\n"
     ]
    }
   ],
   "source": [
    "#Predicting errors by sampling against test data identification result\n",
    "\n",
    "import numpy as np\n",
    "predictions_15 = rf.predict(X_test_15)\n",
    "errors_15 = abs(predictions_15 - y_test_15)\n",
    "print('Mean Absolute Error:', round(np.mean(errors_15), 3), 'degrees.')"
   ]
  },
  {
   "cell_type": "code",
   "execution_count": 26,
   "metadata": {},
   "outputs": [
    {
     "name": "stdout",
     "output_type": "stream",
     "text": [
      "Accuracy: 99.41 %.\n"
     ]
    }
   ],
   "source": [
    "#Calculating model accuracy through adjusting hyperparameters\n",
    "\n",
    "accuracy = 100 - np.mean(errors_15)\n",
    "print('Accuracy:', round(accuracy, 3), '%.')"
   ]
  },
  {
   "cell_type": "code",
   "execution_count": 27,
   "metadata": {},
   "outputs": [
    {
     "data": {
      "text/plain": [
       "<bound method NDFrame.head of         X_Value  Acceleration  Acceleration_0  Acceleration_1   Voltage  \\\n",
       "0       0.00000      1.708963       22.936699        0.418647  0.062727   \n",
       "1       0.00005      0.397558       20.744087       -2.443510  0.058105   \n",
       "2       0.00010      0.245741       19.886220       -4.793004  0.065566   \n",
       "3       0.00015     -0.492077       16.847528       -7.492809  0.060839   \n",
       "4       0.00020      1.393773       15.511186       -5.217568  0.068609   \n",
       "...         ...           ...             ...             ...       ...   \n",
       "100239  1.01385     -2.401899       -2.835274       -2.798354  0.168155   \n",
       "100240  1.01390      1.870737       -1.357366        0.724601  0.170059   \n",
       "100241  1.01395      1.843078       -2.764307        1.164236  0.166506   \n",
       "100242  1.01400      5.318520        0.023913        4.574955  0.167842   \n",
       "100243  1.01405      5.640224       -0.904798        2.451036  0.162821   \n",
       "\n",
       "        Voltage_0  Voltage_1  Voltage_2  Voltage_3  Identity  \n",
       "0        0.152310  -0.216667   0.000854  -0.170166         1  \n",
       "1        0.148238  -0.208466   0.000819  -0.034754         1  \n",
       "2        0.150867  -0.217372   0.000753  -0.066492         1  \n",
       "3        0.147171  -0.208646   0.000790   0.055139         1  \n",
       "4        0.149121  -0.217855   0.000831   0.023973         1  \n",
       "...           ...        ...        ...        ...       ...  \n",
       "100239  -0.220463   0.052978  -0.000590   0.114022         4  \n",
       "100240  -0.227182   0.056192  -0.000541  -0.009250         4  \n",
       "100241  -0.220024   0.053968  -0.000572  -0.098004         4  \n",
       "100242  -0.227625   0.058899  -0.000545   0.055944         4  \n",
       "100243  -0.221341   0.058433  -0.000567   0.050418         4  \n",
       "\n",
       "[100244 rows x 10 columns]>"
      ]
     },
     "execution_count": 27,
     "metadata": {},
     "output_type": "execute_result"
    }
   ],
   "source": [
    "#20Hz testing against 10Hz training, UR defect missing in testing\n",
    "test_20= pd.read_csv(r'D:\\Acads\\BTP\\Train\\Train20Hz.csv')\n",
    "test_20.head"
   ]
  },
  {
   "cell_type": "code",
   "execution_count": 37,
   "metadata": {},
   "outputs": [
    {
     "data": {
      "text/plain": [
       "<bound method NDFrame.head of        X_Value  Acceleration  Acceleration_0  Acceleration_1   Voltage  \\\n",
       "99692  0.98650     -3.282805       -0.508463       -2.519232 -0.184903   \n",
       "31371  0.56905      1.017242       -0.401030       -1.033813 -0.211172   \n",
       "9694   0.48470     -2.368462        9.829892       -6.920231 -0.218798   \n",
       "3244   0.16220      4.701049        4.572067       -2.557094  0.201480   \n",
       "73353  0.66910      1.750881       -0.375860       -1.149603 -0.137631   \n",
       "...        ...           ...             ...             ...       ...   \n",
       "3869   0.19345     -2.368585      -10.495175        4.931882 -0.085213   \n",
       "52791  0.64055     -0.962279       -1.438279       -0.843403 -0.160353   \n",
       "2259   0.11295     -5.478067        0.342529       -4.296639  0.195536   \n",
       "47868  0.39440     -0.740885        0.258792       -0.418840 -0.085598   \n",
       "31784  0.58970      1.798701        2.474733        1.066335  0.126583   \n",
       "\n",
       "       Voltage_0  Voltage_1  Voltage_2  Voltage_3  Identity  \n",
       "99692   0.203721  -0.019600  -0.000414   0.044478         4  \n",
       "31371   0.024029   0.184878   0.001155   0.031466         2  \n",
       "9694    0.138502   0.079879  -0.000313   0.094245         1  \n",
       "3244   -0.164976  -0.038344  -0.000420  -0.142788         1  \n",
       "73353   0.234444  -0.100048  -0.000738  -0.001240         3  \n",
       "...          ...        ...        ...        ...       ...  \n",
       "3869    0.213213  -0.130636  -0.000278  -0.041430         1  \n",
       "52791  -0.067019   0.228014   0.000120   0.023891         0  \n",
       "2259   -0.174026  -0.020597  -0.000447  -0.054493         1  \n",
       "47868   0.195872  -0.112488   0.000061   0.028403         0  \n",
       "31784   0.102724  -0.228356  -0.000364  -0.008841         2  \n",
       "\n",
       "[100244 rows x 10 columns]>"
      ]
     },
     "execution_count": 37,
     "metadata": {},
     "output_type": "execute_result"
    }
   ],
   "source": [
    "#shuffling train data\n",
    "test_20= test_20.sample(frac=1)\n",
    "test_20.head"
   ]
  },
  {
   "cell_type": "code",
   "execution_count": 38,
   "metadata": {},
   "outputs": [
    {
     "name": "stdout",
     "output_type": "stream",
     "text": [
      "[[ 9.865000e-01 -3.282805e+00 -5.084630e-01 ... -1.960000e-02\n",
      "  -4.140000e-04  4.447800e-02]\n",
      " [ 5.690500e-01  1.017242e+00 -4.010300e-01 ...  1.848780e-01\n",
      "   1.155000e-03  3.146600e-02]\n",
      " [ 4.847000e-01 -2.368462e+00  9.829892e+00 ...  7.987900e-02\n",
      "  -3.130000e-04  9.424500e-02]\n",
      " ...\n",
      " [ 1.129500e-01 -5.478067e+00  3.425290e-01 ... -2.059700e-02\n",
      "  -4.470000e-04 -5.449300e-02]\n",
      " [ 3.944000e-01 -7.408850e-01  2.587920e-01 ... -1.124880e-01\n",
      "   6.130000e-05  2.840300e-02]\n",
      " [ 5.897000e-01  1.798701e+00  2.474733e+00 ... -2.283560e-01\n",
      "  -3.640000e-04 -8.841000e-03]]\n",
      "[4. 2. 1. ... 1. 0. 2.]\n"
     ]
    }
   ],
   "source": [
    "#Assigning X and Y parameter for testing 20Hz against 10Hz training\n",
    "\n",
    "dataset_test_20 = test_20.values\n",
    "X_test_20 = dataset_test_20[:,0:9]\n",
    "print(X_test_20)\n",
    "\n",
    "y_test_20= dataset_test_20[:,9]\n",
    "print(y_test_20)"
   ]
  },
  {
   "cell_type": "code",
   "execution_count": 39,
   "metadata": {},
   "outputs": [
    {
     "name": "stdout",
     "output_type": "stream",
     "text": [
      "Mean Absolute Error: 0.628 degrees.\n"
     ]
    }
   ],
   "source": [
    "#Predicting errors by sampling against test data identification result\n",
    "\n",
    "import numpy as np\n",
    "predictions_20 = rf.predict(X_test_20)\n",
    "errors_20 = abs(predictions_20 - y_test_20)\n",
    "print('Mean Absolute Error:', round(np.mean(errors_20), 3), 'degrees.')"
   ]
  },
  {
   "cell_type": "code",
   "execution_count": 40,
   "metadata": {},
   "outputs": [
    {
     "name": "stdout",
     "output_type": "stream",
     "text": [
      "Accuracy: 99.372 %.\n"
     ]
    }
   ],
   "source": [
    "#Calculating model accuracy through adjusting hyperparameters\n",
    "\n",
    "accuracy = 100 - np.mean(errors_20)\n",
    "print('Accuracy:', round(accuracy, 3), '%.')"
   ]
  },
  {
   "cell_type": "code",
   "execution_count": 32,
   "metadata": {},
   "outputs": [
    {
     "data": {
      "text/plain": [
       "<bound method NDFrame.head of         X_Value  Acceleration  Acceleration_0  Acceleration_1   Voltage  \\\n",
       "0      0.000000    -11.367953      -11.637524        6.021533 -0.211798   \n",
       "1      0.000050    -12.166375       -9.140292        3.120780 -0.217642   \n",
       "2      0.000100     -8.550057       -4.918858        0.881439 -0.211531   \n",
       "3      0.000150     -7.510203       -1.977898       -0.244971 -0.217031   \n",
       "4      0.000200     -9.059351        0.536890        3.866246 -0.210774   \n",
       "...         ...           ...             ...             ...       ...   \n",
       "99948  0.999350      6.308956       -7.804564        2.868125 -0.231882   \n",
       "99949  0.999400      3.970360       -6.623541        1.938864 -0.229132   \n",
       "99950  0.999450      1.442453       -4.509385        2.251926 -0.233108   \n",
       "99951  0.999500     -0.867132       -3.078502        0.568868 -0.229825   \n",
       "99952  0.999528     -0.404975       -0.450460       -0.560514  0.001299   \n",
       "\n",
       "       Voltage_0  Voltage_1  Voltage_2  Voltage_3  Identity  \n",
       "0       0.124550   0.087489  -0.000407  -0.151828         1  \n",
       "1       0.134079   0.082623  -0.000408  -0.034398         1  \n",
       "2       0.126679   0.084210  -0.000362  -0.156903         1  \n",
       "3       0.137591   0.078589  -0.000408   0.131691         1  \n",
       "4       0.130023   0.080551  -0.000396  -0.214258         1  \n",
       "...          ...        ...        ...        ...       ...  \n",
       "99948   0.122237   0.109242   0.001851  -0.073762         4  \n",
       "99949   0.120721   0.107070   0.001578   0.034238         4  \n",
       "99950   0.126991   0.106174   0.001714  -0.025075         4  \n",
       "99951   0.125186   0.103691   0.001626   0.049136         4  \n",
       "99952  -0.007117   0.005242  -0.000015   0.000366         4  \n",
       "\n",
       "[99953 rows x 10 columns]>"
      ]
     },
     "execution_count": 32,
     "metadata": {},
     "output_type": "execute_result"
    }
   ],
   "source": [
    "# 30Hz testing against 10Hz training\n",
    "test_30= pd.read_csv(r'D:\\Acads\\BTP\\Train\\Train30Hz.csv')\n",
    "test_30.head"
   ]
  },
  {
   "cell_type": "code",
   "execution_count": 33,
   "metadata": {},
   "outputs": [
    {
     "data": {
      "text/plain": [
       "<bound method NDFrame.head of        X_Value  Acceleration  Acceleration_0  Acceleration_1   Voltage  \\\n",
       "52547  0.62835      2.730746       -0.476049        2.396878 -0.103508   \n",
       "47987  0.40035     -5.802968        5.357739       -5.320246 -0.233981   \n",
       "86163  0.31010     -4.009192        1.940024       -1.614723 -0.022028   \n",
       "42095  0.10575     -2.814201        2.135122       -2.291328 -0.143554   \n",
       "10342  0.51710     -0.890858       -7.986771       -6.007880  0.206436   \n",
       "...        ...           ...             ...             ...       ...   \n",
       "80341  0.01900      1.036296       -1.247846       -9.402180  0.206624   \n",
       "5124   0.25620     -6.842208       15.403263       -2.536387  0.019909   \n",
       "95117  0.75780      0.939305       -1.535889        2.138219  0.069146   \n",
       "84312  0.21755     -7.991838        2.277302       -0.452413  0.189824   \n",
       "97859  0.89490      2.884284       -0.916093        1.035335 -0.118711   \n",
       "\n",
       "       Voltage_0  Voltage_1  Voltage_2  Voltage_3  Identity  \n",
       "52547  -0.131813   0.236674   0.000073   0.086457         0  \n",
       "47987   0.073437   0.158924   0.000267   0.088352         0  \n",
       "86163   0.214037  -0.194014  -0.000387   0.204342         4  \n",
       "42095   0.204158  -0.062817   0.000022   0.218850         0  \n",
       "10342  -0.171449  -0.034875  -0.000313   0.070535         1  \n",
       "...          ...        ...        ...        ...       ...  \n",
       "80341  -0.063080  -0.143332  -0.000648   0.109178         4  \n",
       "5124   -0.209987   0.191682  -0.000181   0.040681         1  \n",
       "95117  -0.211944   0.142062  -0.000408  -0.054330         4  \n",
       "84312  -0.028517  -0.160664   0.001450   0.235208         4  \n",
       "97859  -0.107022   0.226608  -0.000461  -0.008752         4  \n",
       "\n",
       "[99953 rows x 10 columns]>"
      ]
     },
     "execution_count": 33,
     "metadata": {},
     "output_type": "execute_result"
    }
   ],
   "source": [
    "#shuffling train data\n",
    "test_30= test_30.sample(frac=1)\n",
    "test_30.head"
   ]
  },
  {
   "cell_type": "code",
   "execution_count": 34,
   "metadata": {},
   "outputs": [
    {
     "name": "stdout",
     "output_type": "stream",
     "text": [
      "[[ 6.283500e-01  2.730746e+00 -4.760490e-01 ...  2.366740e-01\n",
      "   7.274561e-05  8.645700e-02]\n",
      " [ 4.003500e-01 -5.802968e+00  5.357739e+00 ...  1.589240e-01\n",
      "   2.670000e-04  8.835200e-02]\n",
      " [ 3.101000e-01 -4.009192e+00  1.940024e+00 ... -1.940140e-01\n",
      "  -3.870000e-04  2.043420e-01]\n",
      " ...\n",
      " [ 7.578000e-01  9.393050e-01 -1.535889e+00 ...  1.420620e-01\n",
      "  -4.080000e-04 -5.433000e-02]\n",
      " [ 2.175500e-01 -7.991838e+00  2.277302e+00 ... -1.606640e-01\n",
      "   1.450000e-03  2.352080e-01]\n",
      " [ 8.949000e-01  2.884284e+00 -9.160930e-01 ...  2.266080e-01\n",
      "  -4.610000e-04 -8.752000e-03]]\n",
      "[0. 0. 4. ... 4. 4. 4.]\n"
     ]
    }
   ],
   "source": [
    "#Assigning X and Y parameter for testing 30Hz against 10Hz training\n",
    "\n",
    "dataset_test_30 = test_30.values\n",
    "X_test_30 = dataset_test_30[:,0:9]\n",
    "print(X_test_30)\n",
    "\n",
    "y_test_30= dataset_test_30[:,9]\n",
    "print(y_test_30)"
   ]
  },
  {
   "cell_type": "code",
   "execution_count": 35,
   "metadata": {},
   "outputs": [
    {
     "name": "stdout",
     "output_type": "stream",
     "text": [
      "Mean Absolute Error: 0.624 degrees.\n"
     ]
    }
   ],
   "source": [
    "#Predicting errors by sampling against test data identification result\n",
    "\n",
    "import numpy as np\n",
    "predictions_30 = rf.predict(X_test_30)\n",
    "errors_30 = abs(predictions_30 - y_test_30)\n",
    "print('Mean Absolute Error:', round(np.mean(errors_30), 3), 'degrees.')"
   ]
  },
  {
   "cell_type": "code",
   "execution_count": 36,
   "metadata": {},
   "outputs": [
    {
     "name": "stdout",
     "output_type": "stream",
     "text": [
      "Accuracy: 99.376 %.\n"
     ]
    }
   ],
   "source": [
    "#Calculating model accuracy through adjusting hyperparameters\n",
    "\n",
    "accuracy = 100 - np.mean(errors_30)\n",
    "print('Accuracy:', round(accuracy, 3), '%.')"
   ]
  },
  {
   "cell_type": "code",
   "execution_count": 26,
   "metadata": {},
   "outputs": [
    {
     "data": {
      "text/plain": [
       "<bound method NDFrame.head of       X_Value  Acceleration  Acceleration_0  Acceleration_1   Voltage  \\\n",
       "0     0.00000     -0.768912        0.590422       -1.190895  0.004234   \n",
       "1     0.00005     -1.456453        0.116244       -1.325922  0.001663   \n",
       "2     0.00010     -0.488512        1.316790       -0.074655  0.002593   \n",
       "3     0.00015     -1.360815        0.575074       -0.073920  0.000438   \n",
       "4     0.00020     -0.395823        1.919520        0.047996  0.000992   \n",
       "...       ...           ...             ...             ...       ...   \n",
       "4593  0.50780      4.809103       16.989462       -4.356433  0.050899   \n",
       "4594  0.50785      4.307922       14.697644       -3.574698  0.060425   \n",
       "4595  0.50790      1.048958       10.596533       -6.032753  0.055586   \n",
       "4596  0.50795      1.293955        9.011806       -4.070083  0.065307   \n",
       "4597  0.50800     -0.179592        5.323115       -1.699513  0.059597   \n",
       "\n",
       "      Voltage_0  Voltage_1  Voltage_2  Voltage_3  Identity  \n",
       "0     -0.178414   0.174913  -0.000166   0.016538         1  \n",
       "1     -0.179898   0.179547  -0.000126  -0.055457         1  \n",
       "2     -0.177713   0.175572  -0.000134  -0.033742         1  \n",
       "3     -0.178693   0.180163  -0.000126  -0.001972         1  \n",
       "4     -0.176762   0.176239  -0.000107  -0.061004         1  \n",
       "...         ...        ...        ...        ...       ...  \n",
       "4593   0.155002  -0.208005   0.000902   0.133215         1  \n",
       "4594   0.159018  -0.221084   0.000845  -0.121037         1  \n",
       "4595   0.152086  -0.208661   0.000845   0.085846         1  \n",
       "4596   0.155105  -0.222415   0.000850   0.106409         1  \n",
       "4597   0.148986  -0.209321   0.000860   0.211556         1  \n",
       "\n",
       "[4598 rows x 10 columns]>"
      ]
     },
     "execution_count": 26,
     "metadata": {},
     "output_type": "execute_result"
    }
   ],
   "source": [
    "# Testing mix data from different rotational speeds of 10Hz, 15Hz, 20Hz, 25Hz, 30Hz with 200 dataset row per fault\n",
    "# for each rotational speed\n",
    "\n",
    "test_mix= pd.read_csv(r'D:\\Acads\\BTP\\Train\\Mix_test_10_15_20_25_30.csv')\n",
    "test_mix.head"
   ]
  },
  {
   "cell_type": "code",
   "execution_count": 27,
   "metadata": {},
   "outputs": [
    {
     "data": {
      "text/plain": [
       "<bound method NDFrame.head of       X_Value  Acceleration  Acceleration_0  Acceleration_1   Voltage  \\\n",
       "1989  0.34495     -3.929288       -3.510198       -2.872238  0.122159   \n",
       "1355  0.29460     -3.637947       -1.462221        1.419954  0.159976   \n",
       "3347  0.05740     -3.178808       -5.224212       -2.268293  0.197651   \n",
       "2769  0.99395      8.319948        1.752416       -0.720016  0.208488   \n",
       "3553  0.05770      4.398398       -1.238392        0.700341  0.211932   \n",
       "...       ...           ...             ...             ...       ...   \n",
       "2234  0.98815     -0.427170       -3.697561       -1.480554  0.230501   \n",
       "4281  0.50270     12.029938        7.036883        4.376335 -0.029232   \n",
       "1593  0.29610     -2.783592        0.982460       -1.678560  0.075300   \n",
       "3688  0.50450      0.611823        3.032033       -8.212913 -0.202283   \n",
       "1959  0.34345      0.853501        0.065658       -0.096221  0.095474   \n",
       "\n",
       "      Voltage_0  Voltage_1  Voltage_2  Voltage_3  Identity  \n",
       "1989   0.100442  -0.225641  -0.000447   0.101326         2  \n",
       "1355   0.064560  -0.224522  -0.000528   0.035855         4  \n",
       "3347   0.004038  -0.202012  -0.001222  -0.154779         3  \n",
       "2769  -0.030091  -0.178111  -0.000491   0.071660         2  \n",
       "3553  -0.173046  -0.039543  -0.000488   0.025251         4  \n",
       "...         ...        ...        ...        ...       ...  \n",
       "2234  -0.161843  -0.070773  -0.000674   0.073362         3  \n",
       "4281  -0.179259   0.207974   0.001136  -0.009835         2  \n",
       "1593  -0.238447   0.163379   0.003787   0.020462         3  \n",
       "3688   0.211853  -0.008837  -0.000521   0.028343         4  \n",
       "1959   0.128637  -0.225604  -0.000394   0.039771         2  \n",
       "\n",
       "[4598 rows x 10 columns]>"
      ]
     },
     "execution_count": 27,
     "metadata": {},
     "output_type": "execute_result"
    }
   ],
   "source": [
    "#shuffling train data\n",
    "test_mix= test_mix.sample(frac=1)\n",
    "test_mix.head"
   ]
  },
  {
   "cell_type": "code",
   "execution_count": 28,
   "metadata": {},
   "outputs": [
    {
     "name": "stdout",
     "output_type": "stream",
     "text": [
      "[[ 3.449500e-01 -3.929288e+00 -3.510198e+00 ... -2.256410e-01\n",
      "  -4.470000e-04  1.013260e-01]\n",
      " [ 2.946000e-01 -3.637947e+00 -1.462221e+00 ... -2.245220e-01\n",
      "  -5.280000e-04  3.585500e-02]\n",
      " [ 5.740000e-02 -3.178808e+00 -5.224212e+00 ... -2.020120e-01\n",
      "  -1.222000e-03 -1.547790e-01]\n",
      " ...\n",
      " [ 2.961000e-01 -2.783592e+00  9.824600e-01 ...  1.633790e-01\n",
      "   3.787000e-03  2.046200e-02]\n",
      " [ 5.045000e-01  6.118230e-01  3.032033e+00 ... -8.837000e-03\n",
      "  -5.210000e-04  2.834300e-02]\n",
      " [ 3.434500e-01  8.535010e-01  6.565800e-02 ... -2.256040e-01\n",
      "  -3.940000e-04  3.977100e-02]]\n",
      "[2. 4. 3. ... 3. 4. 2.]\n"
     ]
    }
   ],
   "source": [
    "#Assigning X and Y parameter for testing 30Hz against 10Hz training\n",
    "\n",
    "dataset_test_mix = test_mix.values\n",
    "X_test_mix = dataset_test_mix[:,0:9]\n",
    "print(X_test_mix)\n",
    "\n",
    "y_test_mix= dataset_test_mix[:,9]\n",
    "print(y_test_mix)"
   ]
  },
  {
   "cell_type": "code",
   "execution_count": 34,
   "metadata": {},
   "outputs": [
    {
     "name": "stdout",
     "output_type": "stream",
     "text": [
      "Mean Absolute Error: 0.388 degrees.\n"
     ]
    }
   ],
   "source": [
    "#Predicting errors by sampling against test data identification result\n",
    "\n",
    "import numpy as np\n",
    "predictions_mix = rf.predict(X_test_mix)\n",
    "errors_mix = abs(predictions_mix - y_test_mix)\n",
    "print('Mean Absolute Error:', round(np.mean(errors_mix), 3), 'degrees.')"
   ]
  },
  {
   "cell_type": "code",
   "execution_count": 38,
   "metadata": {},
   "outputs": [
    {
     "name": "stdout",
     "output_type": "stream",
     "text": [
      "Accuracy: 99.612 %.\n"
     ]
    }
   ],
   "source": [
    "#Calculating model accuracy through adjusting hyperparameters\n",
    "\n",
    "accuracy = 100 - np.mean(errors_mix)\n",
    "print('Accuracy:', round(accuracy, 3), '%.')"
   ]
  },
  {
   "cell_type": "code",
   "execution_count": 6,
   "metadata": {},
   "outputs": [
    {
     "data": {
      "text/plain": [
       "<bound method NDFrame.head of         X_Value  Acceleration  Acceleration_0  Acceleration_1   Voltage  \\\n",
       "0       0.00000    -11.366601      -20.932982       -5.598388 -0.225003   \n",
       "1       0.00005    -12.013575      -21.778201       -8.949557 -0.232821   \n",
       "2       0.00010    -10.241557      -21.849168        0.619594 -0.227753   \n",
       "3       0.00015    -11.740304      -21.493965        7.233590 -0.234780   \n",
       "4       0.00020    -15.460252      -22.320645       13.823692 -0.229820   \n",
       "...         ...           ...             ...             ...       ...   \n",
       "49995  25.09975      1.194383        0.626765      -10.774995  0.127278   \n",
       "49996  25.09980     -0.315305        0.908914      -13.720839  0.129294   \n",
       "49997  25.09985     -0.943348        0.550395       -6.796599  0.123766   \n",
       "49998  25.09990     -1.503535        0.413249       -1.593281  0.125808   \n",
       "49999  25.09995     -3.555093        0.845560       -3.514904  0.117905   \n",
       "\n",
       "       Voltage_0  Voltage_1  Voltage_2  Voltage_3  Comment  \n",
       "0       0.042251   0.181706   0.000930   0.130580        1  \n",
       "1       0.047838   0.185286   0.000966   0.060415        1  \n",
       "2       0.047884   0.177572   0.000901   0.054509        1  \n",
       "3       0.054796   0.181011   0.000860   0.269790        1  \n",
       "4       0.055670   0.172341   0.000913   0.118411        1  \n",
       "...          ...        ...        ...        ...      ...  \n",
       "49995  -0.246482   0.117530  -0.000387   0.278794        4  \n",
       "49996  -0.238886   0.108214  -0.000394   0.045415        4  \n",
       "49997  -0.246298   0.121716  -0.000369  -0.199194        4  \n",
       "49998  -0.238988   0.112725  -0.000438   0.003445        4  \n",
       "49999  -0.245591   0.126397  -0.000417   0.070910        4  \n",
       "\n",
       "[50000 rows x 10 columns]>"
      ]
     },
     "execution_count": 6,
     "metadata": {},
     "output_type": "execute_result"
    }
   ],
   "source": [
    "# 40Hz testing against 10Hz training\n",
    "test_40= pd.read_csv(r'D:\\Acads\\BTP\\Train\\Train40Hz.csv')\n",
    "test_40.head"
   ]
  },
  {
   "cell_type": "code",
   "execution_count": 7,
   "metadata": {},
   "outputs": [
    {
     "data": {
      "text/plain": [
       "<bound method NDFrame.head of         X_Value  Acceleration  Acceleration_0  Acceleration_1   Voltage  \\\n",
       "24176   0.20880     -3.636226        7.277042       -1.990642 -0.133710   \n",
       "47631  10.08155      1.238022       -5.652961        5.024269 -0.067844   \n",
       "40283   0.11415     -2.767365       -4.928066        1.188374 -0.210764   \n",
       "10043   0.00215     -4.119705        5.010761       -5.197595 -0.155520   \n",
       "47918  10.09590     -7.724222        3.539730        2.914073  0.168524   \n",
       "...         ...           ...             ...             ...       ...   \n",
       "17937   0.39685      3.218404       -2.318860       -2.220139  0.101779   \n",
       "36039  25.10195      4.183641        4.493488        9.940134 -0.016434   \n",
       "38647  25.23235      2.558401        0.528295        0.332876 -0.231496   \n",
       "19118   0.45590    -10.707702       -8.730575       -5.674356 -0.231473   \n",
       "8054    0.40270      3.191483       11.271211       -6.769398 -0.167631   \n",
       "\n",
       "       Voltage_0  Voltage_1  Voltage_2  Voltage_3  Comment  \n",
       "24176  -0.117491   0.252149   0.000073  -0.176916        0  \n",
       "47631  -0.143787   0.209629  -0.000604  -0.267603        4  \n",
       "40283   0.114481   0.096838  -0.000675  -0.091847        4  \n",
       "10043  -0.068159   0.224370   0.001216   0.307753        2  \n",
       "47918   0.056692  -0.227513   0.001621  -0.077429        4  \n",
       "...          ...        ...        ...        ...      ...  \n",
       "17937  -0.249407   0.148492  -0.000398   0.234731        2  \n",
       "36039  -0.191604   0.207366  -0.001086   0.141545        3  \n",
       "38647   0.104709   0.125010  -0.000998   0.004286        3  \n",
       "19118   0.150958   0.081198  -0.000352   0.014742        2  \n",
       "8054    0.213618  -0.045521  -0.000226   0.157512        1  \n",
       "\n",
       "[50000 rows x 10 columns]>"
      ]
     },
     "execution_count": 7,
     "metadata": {},
     "output_type": "execute_result"
    }
   ],
   "source": [
    "#shuffling train data\n",
    "test_40= test_40.sample(frac=1)\n",
    "test_40.head"
   ]
  },
  {
   "cell_type": "code",
   "execution_count": 8,
   "metadata": {},
   "outputs": [
    {
     "name": "stdout",
     "output_type": "stream",
     "text": [
      "[[ 2.0880000e-01 -3.6362260e+00  7.2770420e+00 ...  2.5214900e-01\n",
      "   7.2700000e-05 -1.7691600e-01]\n",
      " [ 1.0081550e+01  1.2380220e+00 -5.6529610e+00 ...  2.0962900e-01\n",
      "  -6.0400000e-04 -2.6760300e-01]\n",
      " [ 1.1415000e-01 -2.7673650e+00 -4.9280660e+00 ...  9.6838000e-02\n",
      "  -6.7500000e-04 -9.1847000e-02]\n",
      " ...\n",
      " [ 2.5232350e+01  2.5584010e+00  5.2829500e-01 ...  1.2501000e-01\n",
      "  -9.9800000e-04  4.2860000e-03]\n",
      " [ 4.5590000e-01 -1.0707702e+01 -8.7305750e+00 ...  8.1198000e-02\n",
      "  -3.5200000e-04  1.4742000e-02]\n",
      " [ 4.0270000e-01  3.1914830e+00  1.1271211e+01 ... -4.5521000e-02\n",
      "  -2.2600000e-04  1.5751200e-01]]\n",
      "[0. 4. 4. ... 3. 2. 1.]\n"
     ]
    }
   ],
   "source": [
    "#Assigning X and Y parameter for testing 30Hz against 10Hz training\n",
    "\n",
    "dataset_test_40 = test_40.values\n",
    "X_test_40 = dataset_test_40[:,0:9]\n",
    "print(X_test_40)\n",
    "\n",
    "y_test_40= dataset_test_40[:,9]\n",
    "print(y_test_40)"
   ]
  },
  {
   "cell_type": "code",
   "execution_count": 21,
   "metadata": {},
   "outputs": [
    {
     "name": "stdout",
     "output_type": "stream",
     "text": [
      "Mean Absolute Error: 0.794 degrees.\n"
     ]
    }
   ],
   "source": [
    "#Predicting errors by sampling against test data identification result\n",
    "\n",
    "import numpy as np\n",
    "predictions_40 = rf.predict(X_test_40)\n",
    "errors_40 = abs(predictions_40 - y_test_40)\n",
    "print('Mean Absolute Error:', round(np.mean(errors_40), 3), 'degrees.')"
   ]
  },
  {
   "cell_type": "code",
   "execution_count": 23,
   "metadata": {},
   "outputs": [
    {
     "name": "stdout",
     "output_type": "stream",
     "text": [
      "Accuracy: 99.206 %.\n"
     ]
    }
   ],
   "source": [
    "#Calculating model accuracy through adjusting hyperparameters\n",
    "\n",
    "accuracy = 100 - np.mean(errors_40)\n",
    "print('Accuracy:', round(accuracy, 3), '%.')"
   ]
  },
  {
   "cell_type": "markdown",
   "metadata": {},
   "source": [
    "### Results testing different datasets against 10Hz trained model\n",
    "### 15Hz : 0.59 Mean Absolute error\n",
    "### 20Hz : 0.628 Mean Absolute error\n",
    "### 30Hz : 0.624 Mean Absolute error\n",
    "### Mix speed: 0.794 Mean Absolute error / 99.98% Accuracy"
   ]
  },
  {
   "cell_type": "code",
   "execution_count": null,
   "metadata": {},
   "outputs": [],
   "source": []
  }
 ],
 "metadata": {
  "kernelspec": {
   "display_name": "Python 3",
   "language": "python",
   "name": "python3"
  },
  "language_info": {
   "codemirror_mode": {
    "name": "ipython",
    "version": 3
   },
   "file_extension": ".py",
   "mimetype": "text/x-python",
   "name": "python",
   "nbconvert_exporter": "python",
   "pygments_lexer": "ipython3",
   "version": "3.7.6"
  }
 },
 "nbformat": 4,
 "nbformat_minor": 4
}
