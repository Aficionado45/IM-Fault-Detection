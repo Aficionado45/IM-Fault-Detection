{
 "cells": [
  {
   "cell_type": "code",
   "execution_count": 1,
   "metadata": {},
   "outputs": [],
   "source": [
    "# Testing accuracy of RF classifier by providing training data of 10Hz defects \n",
    "# and testing out it's accuracy on different speed readings of 15Hz, 20Hz, 25HZ,\n",
    "# 30Hz and 35Hz. Training Dataset consists of 10000 rows for each fault and testing\n",
    "# data consists of 20000 rows for each fault. Mix data consists of 200 rows data for each\n",
    "# fault in all rotational speeds."
   ]
  },
  {
   "cell_type": "code",
   "execution_count": 3,
   "metadata": {},
   "outputs": [],
   "source": [
    "import pandas as pd"
   ]
  },
  {
   "cell_type": "code",
   "execution_count": 4,
   "metadata": {},
   "outputs": [],
   "source": [
    "data= pd.read_csv(r'D:\\Acads\\BTP\\Train\\Train10Hz.csv')"
   ]
  },
  {
   "cell_type": "code",
   "execution_count": 5,
   "metadata": {},
   "outputs": [
    {
     "data": {
      "text/plain": [
       "<bound method NDFrame.head of        X_Value  Acceleration  Acceleration_0  Acceleration_1   Voltage  \\\n",
       "0      0.00000     -0.768912        0.590422       -1.190895  0.004234   \n",
       "1      0.00005     -1.456453        0.116244       -1.325922  0.001663   \n",
       "2      0.00010     -0.488512        1.316790       -0.074655  0.002593   \n",
       "3      0.00015     -1.360815        0.575074       -0.073920  0.000438   \n",
       "4      0.00020     -0.395823        1.919520        0.047996  0.000992   \n",
       "...        ...           ...             ...             ...       ...   \n",
       "49995  0.49975     -0.221633        0.671580       -1.863335 -0.190914   \n",
       "49996  0.49980      0.379733        1.455287       -1.525031 -0.196483   \n",
       "49997  0.49985     -0.020645        1.169577       -1.967974 -0.190973   \n",
       "49998  0.49990      0.424234        1.671135       -1.850714 -0.196692   \n",
       "49999  0.49995      0.028281        1.099469       -2.238151 -0.191159   \n",
       "\n",
       "       Voltage_0  Voltage_1  Voltage_2  Voltage_3  Identity  \n",
       "0      -0.178414   0.174913  -0.000166   0.016538         1  \n",
       "1      -0.179898   0.179547  -0.000126  -0.055457         1  \n",
       "2      -0.177713   0.175572  -0.000134  -0.033742         1  \n",
       "3      -0.178693   0.180163  -0.000126  -0.001972         1  \n",
       "4      -0.176762   0.176239  -0.000107  -0.061004         1  \n",
       "...          ...        ...        ...        ...       ...  \n",
       "49995   0.108506   0.082229  -0.000385   0.001700         4  \n",
       "49996   0.115430   0.081537  -0.000391  -0.062442         4  \n",
       "49997   0.109518   0.080909  -0.000447   0.002016         4  \n",
       "49998   0.116847   0.080246  -0.000391   0.035131         4  \n",
       "49999   0.110724   0.079584  -0.000453  -0.058731         4  \n",
       "\n",
       "[50000 rows x 10 columns]>"
      ]
     },
     "execution_count": 5,
     "metadata": {},
     "output_type": "execute_result"
    }
   ],
   "source": [
    "data.head"
   ]
  },
  {
   "cell_type": "code",
   "execution_count": 6,
   "metadata": {},
   "outputs": [
    {
     "data": {
      "text/plain": [
       "<bound method NDFrame.head of        X_Value  Acceleration  Acceleration_0  Acceleration_1   Voltage  \\\n",
       "30322  0.01610     -0.483349        0.240743       -0.031648  0.008283   \n",
       "9899   0.49495     -3.752025       -4.659667        1.303429  0.003536   \n",
       "46553  0.32765     -0.190409        1.288183       -0.052478  0.025684   \n",
       "49645  0.48225     -0.379597       -0.000765       -0.584988 -0.097444   \n",
       "40089  0.00445     -1.236288       -2.133707        0.128988 -0.203793   \n",
       "...        ...           ...             ...             ...       ...   \n",
       "33406  0.17030     -1.778527       -0.721732       -2.203230  0.052358   \n",
       "11737  0.08685     -0.599639       -0.657764       -0.920718  0.064791   \n",
       "13879  0.19395     -1.094059        0.214223       -0.255754  0.165521   \n",
       "31913  0.09565      0.204314        0.143993       -0.535610  0.209592   \n",
       "49519  0.47595     -0.840088        0.826160       -0.846833 -0.040168   \n",
       "\n",
       "       Voltage_0  Voltage_1  Voltage_2  Voltage_3  Identity  \n",
       "30322  -0.194496   0.186597  -0.000392   0.034957         3  \n",
       "9899   -0.190948   0.187627  -0.000342  -0.019806         1  \n",
       "46553   0.164047  -0.191059   0.001625  -0.005719         4  \n",
       "49645  -0.099952   0.197749  -0.000559   0.048046         4  \n",
       "40089   0.126305   0.076777   0.001752  -0.007331         4  \n",
       "...          ...        ...        ...        ...       ...  \n",
       "33406   0.162105  -0.217885  -0.001325  -0.080018         3  \n",
       "11737   0.124243  -0.190516  -0.000206   0.084689         2  \n",
       "13879   0.037230  -0.205152  -0.000195  -0.002568         2  \n",
       "31913  -0.141364  -0.068931  -0.000711   0.030956         3  \n",
       "49519  -0.156358   0.197206  -0.000615   0.053314         4  \n",
       "\n",
       "[25000 rows x 10 columns]>"
      ]
     },
     "execution_count": 6,
     "metadata": {},
     "output_type": "execute_result"
    }
   ],
   "source": [
    "#shuffling train data\n",
    "data= data.sample(frac=0.5)\n",
    "data.head"
   ]
  },
  {
   "cell_type": "code",
   "execution_count": 7,
   "metadata": {},
   "outputs": [],
   "source": [
    "import sklearn as sk"
   ]
  },
  {
   "cell_type": "code",
   "execution_count": 8,
   "metadata": {},
   "outputs": [],
   "source": [
    "test_15= pd.read_csv(r'D:\\Acads\\BTP\\Train\\Train15Hz.csv')"
   ]
  },
  {
   "cell_type": "code",
   "execution_count": 9,
   "metadata": {},
   "outputs": [
    {
     "data": {
      "text/plain": [
       "<bound method NDFrame.head of        X_Value  Acceleration  Acceleration_0  Acceleration_1   Voltage  \\\n",
       "0      0.00000     -1.525662       -2.224441       -0.555582 -0.021681   \n",
       "1      0.00005     -1.392776       -2.294180       -0.066691 -0.019098   \n",
       "2      0.00010     -0.174552       -1.000812        0.584061 -0.019375   \n",
       "3      0.00015     -0.383162       -1.101492        1.278678 -0.016724   \n",
       "4      0.00020      1.119027        0.109123        2.087247 -0.017092   \n",
       "...        ...           ...             ...             ...       ...   \n",
       "99949  0.99925     -0.086289        1.216725       -1.050722 -0.210134   \n",
       "99950  0.99930      0.034796        1.739032       -1.707600 -0.214406   \n",
       "99951  0.99935     -0.306700        1.865864       -2.614070 -0.209294   \n",
       "99952  0.99940     -0.349602        2.158573       -2.790634 -0.213611   \n",
       "99953  0.99945     -0.223231        2.109338       -2.928357 -0.208421   \n",
       "\n",
       "       Voltage_0  Voltage_1  Voltage_2  Voltage_3  Identity  \n",
       "0       0.204297  -0.183614  -0.000185  -0.007744         1  \n",
       "1       0.203327  -0.187030  -0.000199  -0.015469         1  \n",
       "2       0.202721  -0.184704  -0.000153  -0.033848         1  \n",
       "3       0.202069  -0.188086  -0.000211   0.073223         1  \n",
       "4       0.201569  -0.185779  -0.000217   0.003786         1  \n",
       "...          ...        ...        ...        ...       ...  \n",
       "99949   0.182882   0.026613  -0.000414  -0.075549         4  \n",
       "99950   0.191532   0.022294  -0.000392   0.004331         4  \n",
       "99951   0.184456   0.024698  -0.000431   0.021859         4  \n",
       "99952   0.192194   0.020143  -0.000452  -0.079773         4  \n",
       "99953   0.184310   0.022566  -0.000389  -0.203361         4  \n",
       "\n",
       "[99954 rows x 10 columns]>"
      ]
     },
     "execution_count": 9,
     "metadata": {},
     "output_type": "execute_result"
    }
   ],
   "source": [
    "test_15.head"
   ]
  },
  {
   "cell_type": "code",
   "execution_count": 10,
   "metadata": {},
   "outputs": [
    {
     "data": {
      "text/plain": [
       "<bound method NDFrame.head of        X_Value  Acceleration  Acceleration_0  Acceleration_1   Voltage  \\\n",
       "68296  0.41620     -1.652402       -1.632763       -0.671985  0.217661   \n",
       "54083  0.70510      0.506227       -1.259633       -0.106023 -0.102347   \n",
       "75465  0.77465      0.054218        1.721106       -0.124402 -0.199095   \n",
       "1246   0.06230     -3.150780        5.621717       -1.181093 -0.073666   \n",
       "74318  0.71730     -0.687533       -0.622157       -0.647968 -0.203980   \n",
       "...        ...           ...             ...             ...       ...   \n",
       "35650  0.78295     -6.145079       -3.659867       -1.327392 -0.212658   \n",
       "44494  0.22565     -1.608270       -1.877709       -2.675212  0.124784   \n",
       "79819  0.99235     -4.219031       -3.270653       -1.070449 -0.076959   \n",
       "80055  0.00455      0.601251        2.989919       -1.226306 -0.197102   \n",
       "91148  0.55920     -0.773461        0.929050       -0.728716  0.195973   \n",
       "\n",
       "       Voltage_0  Voltage_1  Voltage_2  Voltage_3  Identity  \n",
       "68296  -0.134723  -0.083069  -0.000928   0.093141         3  \n",
       "54083  -0.135122   0.237912   0.000084   0.014516         0  \n",
       "75465   0.009592   0.187902  -0.000862   0.016831         3  \n",
       "1246    0.199070  -0.126293  -0.000214   0.004085         1  \n",
       "74318   0.156160   0.047148  -0.000662  -0.050585         3  \n",
       "...          ...        ...        ...        ...       ...  \n",
       "35650   0.059849   0.151305  -0.000285  -0.077310         2  \n",
       "44494  -0.192539   0.068875   0.000304   0.001038         0  \n",
       "79819   0.228556  -0.153821  -0.000819  -0.029819         3  \n",
       "80055   0.115687   0.081521   0.000924   0.046859         4  \n",
       "91148  -0.032511  -0.163569   0.001096   0.005796         4  \n",
       "\n",
       "[99954 rows x 10 columns]>"
      ]
     },
     "execution_count": 10,
     "metadata": {},
     "output_type": "execute_result"
    }
   ],
   "source": [
    "#shuffling train data\n",
    "test_15= test_15.sample(frac=1)\n",
    "test_15.head"
   ]
  },
  {
   "cell_type": "code",
   "execution_count": 11,
   "metadata": {},
   "outputs": [
    {
     "name": "stdout",
     "output_type": "stream",
     "text": [
      "[[ 1.610000e-02 -4.833490e-01  2.407430e-01 ...  1.865970e-01\n",
      "  -3.920000e-04  3.495700e-02]\n",
      " [ 4.949500e-01 -3.752025e+00 -4.659667e+00 ...  1.876270e-01\n",
      "  -3.420000e-04 -1.980600e-02]\n",
      " [ 3.276500e-01 -1.904090e-01  1.288183e+00 ... -1.910590e-01\n",
      "   1.625000e-03 -5.719000e-03]\n",
      " ...\n",
      " [ 1.939500e-01 -1.094059e+00  2.142230e-01 ... -2.051520e-01\n",
      "  -1.950000e-04 -2.568000e-03]\n",
      " [ 9.565000e-02  2.043140e-01  1.439930e-01 ... -6.893100e-02\n",
      "  -7.110000e-04  3.095600e-02]\n",
      " [ 4.759500e-01 -8.400880e-01  8.261600e-01 ...  1.972060e-01\n",
      "  -6.150000e-04  5.331400e-02]]\n",
      "[3. 1. 4. ... 2. 3. 4.]\n"
     ]
    }
   ],
   "source": [
    "#Assigning X and Y parameter for training\n",
    "\n",
    "dataset = data.values\n",
    "X = dataset[:,0:9]\n",
    "print(X)\n",
    "\n",
    "y= dataset[:,9]\n",
    "print(y)"
   ]
  },
  {
   "cell_type": "code",
   "execution_count": 48,
   "metadata": {},
   "outputs": [],
   "source": [
    "#Training random forest classifier\n",
    "\n",
    "from sklearn.ensemble import RandomForestClassifier\n",
    "rf = RandomForestClassifier(n_estimators = 500, random_state = 50)\n",
    "rf.fit(X, y);"
   ]
  },
  {
   "cell_type": "code",
   "execution_count": 13,
   "metadata": {},
   "outputs": [
    {
     "name": "stdout",
     "output_type": "stream",
     "text": [
      "[[ 4.162000e-01 -1.652402e+00 -1.632763e+00 ... -8.306900e-02\n",
      "  -9.280000e-04  9.314100e-02]\n",
      " [ 7.051000e-01  5.062270e-01 -1.259633e+00 ...  2.379120e-01\n",
      "   8.423813e-05  1.451600e-02]\n",
      " [ 7.746500e-01  5.421800e-02  1.721106e+00 ...  1.879020e-01\n",
      "  -8.620000e-04  1.683100e-02]\n",
      " ...\n",
      " [ 9.923500e-01 -4.219031e+00 -3.270653e+00 ... -1.538210e-01\n",
      "  -8.190000e-04 -2.981900e-02]\n",
      " [ 4.550000e-03  6.012510e-01  2.989919e+00 ...  8.152100e-02\n",
      "   9.240000e-04  4.685900e-02]\n",
      " [ 5.592000e-01 -7.734610e-01  9.290500e-01 ... -1.635690e-01\n",
      "   1.096000e-03  5.796000e-03]]\n",
      "[3. 0. 3. ... 3. 4. 4.]\n"
     ]
    }
   ],
   "source": [
    "#Assigning X and Y parameter for testing 15Hz against 10Hz training\n",
    "\n",
    "dataset_test_15 = test_15.values\n",
    "X_test_15 = dataset_test_15[:,0:9]\n",
    "print(X_test_15)\n",
    "\n",
    "y_test_15= dataset_test_15[:,9]\n",
    "print(y_test_15)"
   ]
  },
  {
   "cell_type": "code",
   "execution_count": 49,
   "metadata": {},
   "outputs": [
    {
     "name": "stdout",
     "output_type": "stream",
     "text": [
      "Mean Absolute Error: 0.586 degrees.\n"
     ]
    }
   ],
   "source": [
    "#Predicting errors by sampling against test data identification result\n",
    "\n",
    "import numpy as np\n",
    "predictions_15 = rf.predict(X_test_15)\n",
    "errors_15 = abs(predictions_15 - y_test_15)\n",
    "print('Mean Absolute Error:', round(np.mean(errors_15), 3), 'degrees.')"
   ]
  },
  {
   "cell_type": "code",
   "execution_count": 50,
   "metadata": {},
   "outputs": [
    {
     "name": "stdout",
     "output_type": "stream",
     "text": [
      "Accuracy: 99.414 %.\n"
     ]
    }
   ],
   "source": [
    "#Calculating model accuracy through adjusting hyperparameters\n",
    "\n",
    "accuracy = 100 - np.mean(errors_15)\n",
    "print('Accuracy:', round(accuracy, 3), '%.')"
   ]
  },
  {
   "cell_type": "code",
   "execution_count": 16,
   "metadata": {},
   "outputs": [
    {
     "data": {
      "text/plain": [
       "<bound method NDFrame.head of         X_Value  Acceleration  Acceleration_0  Acceleration_1   Voltage  \\\n",
       "0       0.00000      1.708963       22.936699        0.418647  0.062727   \n",
       "1       0.00005      0.397558       20.744087       -2.443510  0.058105   \n",
       "2       0.00010      0.245741       19.886220       -4.793004  0.065566   \n",
       "3       0.00015     -0.492077       16.847528       -7.492809  0.060839   \n",
       "4       0.00020      1.393773       15.511186       -5.217568  0.068609   \n",
       "...         ...           ...             ...             ...       ...   \n",
       "100239  1.01385     -2.401899       -2.835274       -2.798354  0.168155   \n",
       "100240  1.01390      1.870737       -1.357366        0.724601  0.170059   \n",
       "100241  1.01395      1.843078       -2.764307        1.164236  0.166506   \n",
       "100242  1.01400      5.318520        0.023913        4.574955  0.167842   \n",
       "100243  1.01405      5.640224       -0.904798        2.451036  0.162821   \n",
       "\n",
       "        Voltage_0  Voltage_1  Voltage_2  Voltage_3  Identity  \n",
       "0        0.152310  -0.216667   0.000854  -0.170166         1  \n",
       "1        0.148238  -0.208466   0.000819  -0.034754         1  \n",
       "2        0.150867  -0.217372   0.000753  -0.066492         1  \n",
       "3        0.147171  -0.208646   0.000790   0.055139         1  \n",
       "4        0.149121  -0.217855   0.000831   0.023973         1  \n",
       "...           ...        ...        ...        ...       ...  \n",
       "100239  -0.220463   0.052978  -0.000590   0.114022         4  \n",
       "100240  -0.227182   0.056192  -0.000541  -0.009250         4  \n",
       "100241  -0.220024   0.053968  -0.000572  -0.098004         4  \n",
       "100242  -0.227625   0.058899  -0.000545   0.055944         4  \n",
       "100243  -0.221341   0.058433  -0.000567   0.050418         4  \n",
       "\n",
       "[100244 rows x 10 columns]>"
      ]
     },
     "execution_count": 16,
     "metadata": {},
     "output_type": "execute_result"
    }
   ],
   "source": [
    "#20Hz testing against 10Hz training, UR defect missing in testing\n",
    "test_20= pd.read_csv(r'D:\\Acads\\BTP\\Train\\Train20Hz.csv')\n",
    "test_20.head"
   ]
  },
  {
   "cell_type": "code",
   "execution_count": 17,
   "metadata": {},
   "outputs": [
    {
     "data": {
      "text/plain": [
       "<bound method NDFrame.head of        X_Value  Acceleration  Acceleration_0  Acceleration_1   Voltage  \\\n",
       "30629  0.53195     -2.262989       -3.592829        0.340351 -0.078837   \n",
       "25019  0.25145      0.114453       -0.195496       -2.703884  0.203856   \n",
       "38162  0.90860      0.096628        0.501037       -0.732637  0.023120   \n",
       "36779  0.83945     -0.875000       -0.565187        0.693969  0.143036   \n",
       "15057  0.75285      0.634811       12.376112       -3.892660  0.172948   \n",
       "...        ...           ...             ...             ...       ...   \n",
       "25389  0.26995     -1.839253       -0.861456       -0.992276 -0.223293   \n",
       "73576  0.68025     -1.411953       -0.115320        0.926775  0.169301   \n",
       "72236  0.61325     -0.785877        1.233300        0.724724 -0.233852   \n",
       "89533  0.47855     -1.409863        6.190068       -2.519355 -0.212994   \n",
       "31806  0.59080     -0.999896        2.022041        1.159090  0.147599   \n",
       "\n",
       "       Voltage_0  Voltage_1  Voltage_2  Voltage_3  Identity  \n",
       "30629   0.218411  -0.140391  -0.000433   0.065138         2  \n",
       "25019  -0.187477  -0.017165   0.001173   0.048663         2  \n",
       "38162  -0.212598   0.190180  -0.000292   0.012594         2  \n",
       "36779   0.086551  -0.229676  -0.000517  -0.053700         2  \n",
       "15057   0.027920  -0.203341  -0.000317   0.056675         1  \n",
       "...          ...        ...        ...        ...       ...  \n",
       "25389   0.040217   0.183019  -0.000415   0.004129         2  \n",
       "73576   0.058347  -0.227654   0.003374   0.074148         3  \n",
       "72236   0.135105   0.098395  -0.000803  -0.066526         3  \n",
       "89533   0.014320   0.199701   0.001288  -0.075513         4  \n",
       "31806   0.076222  -0.222990  -0.000394  -0.004099         2  \n",
       "\n",
       "[100244 rows x 10 columns]>"
      ]
     },
     "execution_count": 17,
     "metadata": {},
     "output_type": "execute_result"
    }
   ],
   "source": [
    "#shuffling train data\n",
    "test_20= test_20.sample(frac=1)\n",
    "test_20.head"
   ]
  },
  {
   "cell_type": "code",
   "execution_count": 18,
   "metadata": {},
   "outputs": [
    {
     "name": "stdout",
     "output_type": "stream",
     "text": [
      "[[ 5.319500e-01 -2.262989e+00 -3.592829e+00 ... -1.403910e-01\n",
      "  -4.330000e-04  6.513800e-02]\n",
      " [ 2.514500e-01  1.144530e-01 -1.954960e-01 ... -1.716500e-02\n",
      "   1.173000e-03  4.866300e-02]\n",
      " [ 9.086000e-01  9.662800e-02  5.010370e-01 ...  1.901800e-01\n",
      "  -2.920000e-04  1.259400e-02]\n",
      " ...\n",
      " [ 6.132500e-01 -7.858770e-01  1.233300e+00 ...  9.839500e-02\n",
      "  -8.030000e-04 -6.652600e-02]\n",
      " [ 4.785500e-01 -1.409863e+00  6.190068e+00 ...  1.997010e-01\n",
      "   1.288000e-03 -7.551300e-02]\n",
      " [ 5.908000e-01 -9.998960e-01  2.022041e+00 ... -2.229900e-01\n",
      "  -3.940000e-04 -4.099000e-03]]\n",
      "[2. 2. 2. ... 3. 4. 2.]\n"
     ]
    }
   ],
   "source": [
    "#Assigning X and Y parameter for testing 20Hz against 10Hz training\n",
    "\n",
    "dataset_test_20 = test_20.values\n",
    "X_test_20 = dataset_test_20[:,0:9]\n",
    "print(X_test_20)\n",
    "\n",
    "y_test_20= dataset_test_20[:,9]\n",
    "print(y_test_20)"
   ]
  },
  {
   "cell_type": "code",
   "execution_count": 19,
   "metadata": {},
   "outputs": [
    {
     "name": "stdout",
     "output_type": "stream",
     "text": [
      "Mean Absolute Error: 0.615 degrees.\n"
     ]
    }
   ],
   "source": [
    "#Predicting errors by sampling against test data identification result\n",
    "\n",
    "import numpy as np\n",
    "predictions_20 = rf.predict(X_test_20)\n",
    "errors_20 = abs(predictions_20 - y_test_20)\n",
    "print('Mean Absolute Error:', round(np.mean(errors_20), 3), 'degrees.')"
   ]
  },
  {
   "cell_type": "code",
   "execution_count": 20,
   "metadata": {},
   "outputs": [
    {
     "name": "stdout",
     "output_type": "stream",
     "text": [
      "Accuracy: 99.385 %.\n"
     ]
    }
   ],
   "source": [
    "#Calculating model accuracy through adjusting hyperparameters\n",
    "\n",
    "accuracy = 100 - np.mean(errors_20)\n",
    "print('Accuracy:', round(accuracy, 3), '%.')"
   ]
  },
  {
   "cell_type": "code",
   "execution_count": 21,
   "metadata": {},
   "outputs": [
    {
     "data": {
      "text/plain": [
       "<bound method NDFrame.head of         X_Value  Acceleration  Acceleration_0  Acceleration_1   Voltage  \\\n",
       "0      0.000000    -11.367953      -11.637524        6.021533 -0.211798   \n",
       "1      0.000050    -12.166375       -9.140292        3.120780 -0.217642   \n",
       "2      0.000100     -8.550057       -4.918858        0.881439 -0.211531   \n",
       "3      0.000150     -7.510203       -1.977898       -0.244971 -0.217031   \n",
       "4      0.000200     -9.059351        0.536890        3.866246 -0.210774   \n",
       "...         ...           ...             ...             ...       ...   \n",
       "99948  0.999350      6.308956       -7.804564        2.868125 -0.231882   \n",
       "99949  0.999400      3.970360       -6.623541        1.938864 -0.229132   \n",
       "99950  0.999450      1.442453       -4.509385        2.251926 -0.233108   \n",
       "99951  0.999500     -0.867132       -3.078502        0.568868 -0.229825   \n",
       "99952  0.999528     -0.404975       -0.450460       -0.560514  0.001299   \n",
       "\n",
       "       Voltage_0  Voltage_1  Voltage_2  Voltage_3  Identity  \n",
       "0       0.124550   0.087489  -0.000407  -0.151828         1  \n",
       "1       0.134079   0.082623  -0.000408  -0.034398         1  \n",
       "2       0.126679   0.084210  -0.000362  -0.156903         1  \n",
       "3       0.137591   0.078589  -0.000408   0.131691         1  \n",
       "4       0.130023   0.080551  -0.000396  -0.214258         1  \n",
       "...          ...        ...        ...        ...       ...  \n",
       "99948   0.122237   0.109242   0.001851  -0.073762         4  \n",
       "99949   0.120721   0.107070   0.001578   0.034238         4  \n",
       "99950   0.126991   0.106174   0.001714  -0.025075         4  \n",
       "99951   0.125186   0.103691   0.001626   0.049136         4  \n",
       "99952  -0.007117   0.005242  -0.000015   0.000366         4  \n",
       "\n",
       "[99953 rows x 10 columns]>"
      ]
     },
     "execution_count": 21,
     "metadata": {},
     "output_type": "execute_result"
    }
   ],
   "source": [
    "# 30Hz testing against 10Hz training\n",
    "test_30= pd.read_csv(r'D:\\Acads\\BTP\\Train\\Train30Hz.csv')\n",
    "test_30.head"
   ]
  },
  {
   "cell_type": "code",
   "execution_count": 22,
   "metadata": {},
   "outputs": [
    {
     "data": {
      "text/plain": [
       "<bound method NDFrame.head of        X_Value  Acceleration  Acceleration_0  Acceleration_1   Voltage  \\\n",
       "46157  0.30885     10.288775       -3.161133        4.460880 -0.012849   \n",
       "51208  0.56140      5.268488       -0.088431        2.686046 -0.100120   \n",
       "26513  0.32615     -2.211482       -0.413799       -6.987009  0.207769   \n",
       "26621  0.33155     -1.517672       -0.055771        1.085204  0.157609   \n",
       "19707  0.98535     -4.738774      -11.819361        8.248498  0.135243   \n",
       "...        ...           ...             ...             ...       ...   \n",
       "50936  0.54780      3.089575        0.648988        0.915992  0.211012   \n",
       "72283  0.61565     -2.373010       -2.958545       -0.959805 -0.245926   \n",
       "24763  0.23865     10.530208       10.644417       -2.491051 -0.105740   \n",
       "4251   0.21255      3.013605       19.434757       -8.648135  0.196740   \n",
       "56750  0.83850     -0.789933       -2.336540       -0.812036 -0.145051   \n",
       "\n",
       "       Voltage_0  Voltage_1  Voltage_2  Voltage_3  Identity  \n",
       "46157   0.211417  -0.199264   0.000046  -0.100645         0  \n",
       "51208  -0.140934   0.239769   0.000098   0.074968         0  \n",
       "26513  -0.046278  -0.162245   0.001214   0.051486         2  \n",
       "26621  -0.208669   0.049414   0.001107  -0.097673         2  \n",
       "19707  -0.212773   0.075172   0.000886  -0.138722         1  \n",
       "...          ...        ...        ...        ...       ...  \n",
       "50936   0.006352  -0.218342   0.000056   0.022119         0  \n",
       "72283   0.114020   0.131110  -0.001042  -0.123519         3  \n",
       "24763  -0.132668   0.236908  -0.000479   0.006836         2  \n",
       "4251   -0.012620  -0.184991  -0.000274  -0.342351         1  \n",
       "56750   0.227280  -0.085274   0.000138   0.033891         0  \n",
       "\n",
       "[99953 rows x 10 columns]>"
      ]
     },
     "execution_count": 22,
     "metadata": {},
     "output_type": "execute_result"
    }
   ],
   "source": [
    "#shuffling train data\n",
    "test_30= test_30.sample(frac=1)\n",
    "test_30.head"
   ]
  },
  {
   "cell_type": "code",
   "execution_count": 23,
   "metadata": {},
   "outputs": [
    {
     "name": "stdout",
     "output_type": "stream",
     "text": [
      "[[ 3.0885000e-01  1.0288775e+01 -3.1611330e+00 ... -1.9926400e-01\n",
      "   4.5942140e-05 -1.0064500e-01]\n",
      " [ 5.6140000e-01  5.2684880e+00 -8.8431000e-02 ...  2.3976900e-01\n",
      "   9.8282470e-05  7.4968000e-02]\n",
      " [ 3.2615000e-01 -2.2114820e+00 -4.1379900e-01 ... -1.6224500e-01\n",
      "   1.2140000e-03  5.1486000e-02]\n",
      " ...\n",
      " [ 2.3865000e-01  1.0530208e+01  1.0644417e+01 ...  2.3690800e-01\n",
      "  -4.7900000e-04  6.8360000e-03]\n",
      " [ 2.1255000e-01  3.0136050e+00  1.9434757e+01 ... -1.8499100e-01\n",
      "  -2.7400000e-04 -3.4235100e-01]\n",
      " [ 8.3850000e-01 -7.8993300e-01 -2.3365400e+00 ... -8.5274000e-02\n",
      "   1.3800000e-04  3.3891000e-02]]\n",
      "[0. 0. 2. ... 2. 1. 0.]\n"
     ]
    }
   ],
   "source": [
    "#Assigning X and Y parameter for testing 30Hz against 10Hz training\n",
    "\n",
    "dataset_test_30 = test_30.values\n",
    "X_test_30 = dataset_test_30[:,0:9]\n",
    "print(X_test_30)\n",
    "\n",
    "y_test_30= dataset_test_30[:,9]\n",
    "print(y_test_30)"
   ]
  },
  {
   "cell_type": "code",
   "execution_count": 24,
   "metadata": {},
   "outputs": [
    {
     "name": "stdout",
     "output_type": "stream",
     "text": [
      "Mean Absolute Error: 0.614 degrees.\n"
     ]
    }
   ],
   "source": [
    "#Predicting errors by sampling against test data identification result\n",
    "\n",
    "import numpy as np\n",
    "predictions_30 = rf.predict(X_test_30)\n",
    "errors_30 = abs(predictions_30 - y_test_30)\n",
    "print('Mean Absolute Error:', round(np.mean(errors_30), 3), 'degrees.')"
   ]
  },
  {
   "cell_type": "code",
   "execution_count": 25,
   "metadata": {},
   "outputs": [
    {
     "name": "stdout",
     "output_type": "stream",
     "text": [
      "Accuracy: 99.386 %.\n"
     ]
    }
   ],
   "source": [
    "#Calculating model accuracy through adjusting hyperparameters\n",
    "\n",
    "accuracy = 100 - np.mean(errors_30)\n",
    "print('Accuracy:', round(accuracy, 3), '%.')"
   ]
  },
  {
   "cell_type": "code",
   "execution_count": 26,
   "metadata": {},
   "outputs": [
    {
     "data": {
      "text/plain": [
       "<bound method NDFrame.head of       X_Value  Acceleration  Acceleration_0  Acceleration_1   Voltage  \\\n",
       "0     0.00000     -0.768912        0.590422       -1.190895  0.004234   \n",
       "1     0.00005     -1.456453        0.116244       -1.325922  0.001663   \n",
       "2     0.00010     -0.488512        1.316790       -0.074655  0.002593   \n",
       "3     0.00015     -1.360815        0.575074       -0.073920  0.000438   \n",
       "4     0.00020     -0.395823        1.919520        0.047996  0.000992   \n",
       "...       ...           ...             ...             ...       ...   \n",
       "4593  0.50780      4.809103       16.989462       -4.356433  0.050899   \n",
       "4594  0.50785      4.307922       14.697644       -3.574698  0.060425   \n",
       "4595  0.50790      1.048958       10.596533       -6.032753  0.055586   \n",
       "4596  0.50795      1.293955        9.011806       -4.070083  0.065307   \n",
       "4597  0.50800     -0.179592        5.323115       -1.699513  0.059597   \n",
       "\n",
       "      Voltage_0  Voltage_1  Voltage_2  Voltage_3  Identity  \n",
       "0     -0.178414   0.174913  -0.000166   0.016538         1  \n",
       "1     -0.179898   0.179547  -0.000126  -0.055457         1  \n",
       "2     -0.177713   0.175572  -0.000134  -0.033742         1  \n",
       "3     -0.178693   0.180163  -0.000126  -0.001972         1  \n",
       "4     -0.176762   0.176239  -0.000107  -0.061004         1  \n",
       "...         ...        ...        ...        ...       ...  \n",
       "4593   0.155002  -0.208005   0.000902   0.133215         1  \n",
       "4594   0.159018  -0.221084   0.000845  -0.121037         1  \n",
       "4595   0.152086  -0.208661   0.000845   0.085846         1  \n",
       "4596   0.155105  -0.222415   0.000850   0.106409         1  \n",
       "4597   0.148986  -0.209321   0.000860   0.211556         1  \n",
       "\n",
       "[4598 rows x 10 columns]>"
      ]
     },
     "execution_count": 26,
     "metadata": {},
     "output_type": "execute_result"
    }
   ],
   "source": [
    "# Testing mix data from different rotational speeds of 10Hz, 15Hz, 20Hz, 25Hz, 30Hz with 200 dataset row per fault\n",
    "# for each rotational speed\n",
    "\n",
    "test_mix= pd.read_csv(r'D:\\Acads\\BTP\\Train\\Mix_test_10_15_20_25_30.csv')\n",
    "test_mix.head"
   ]
  },
  {
   "cell_type": "code",
   "execution_count": 27,
   "metadata": {},
   "outputs": [
    {
     "data": {
      "text/plain": [
       "<bound method NDFrame.head of       X_Value  Acceleration  Acceleration_0  Acceleration_1   Voltage  \\\n",
       "1989  0.34495     -3.929288       -3.510198       -2.872238  0.122159   \n",
       "1355  0.29460     -3.637947       -1.462221        1.419954  0.159976   \n",
       "3347  0.05740     -3.178808       -5.224212       -2.268293  0.197651   \n",
       "2769  0.99395      8.319948        1.752416       -0.720016  0.208488   \n",
       "3553  0.05770      4.398398       -1.238392        0.700341  0.211932   \n",
       "...       ...           ...             ...             ...       ...   \n",
       "2234  0.98815     -0.427170       -3.697561       -1.480554  0.230501   \n",
       "4281  0.50270     12.029938        7.036883        4.376335 -0.029232   \n",
       "1593  0.29610     -2.783592        0.982460       -1.678560  0.075300   \n",
       "3688  0.50450      0.611823        3.032033       -8.212913 -0.202283   \n",
       "1959  0.34345      0.853501        0.065658       -0.096221  0.095474   \n",
       "\n",
       "      Voltage_0  Voltage_1  Voltage_2  Voltage_3  Identity  \n",
       "1989   0.100442  -0.225641  -0.000447   0.101326         2  \n",
       "1355   0.064560  -0.224522  -0.000528   0.035855         4  \n",
       "3347   0.004038  -0.202012  -0.001222  -0.154779         3  \n",
       "2769  -0.030091  -0.178111  -0.000491   0.071660         2  \n",
       "3553  -0.173046  -0.039543  -0.000488   0.025251         4  \n",
       "...         ...        ...        ...        ...       ...  \n",
       "2234  -0.161843  -0.070773  -0.000674   0.073362         3  \n",
       "4281  -0.179259   0.207974   0.001136  -0.009835         2  \n",
       "1593  -0.238447   0.163379   0.003787   0.020462         3  \n",
       "3688   0.211853  -0.008837  -0.000521   0.028343         4  \n",
       "1959   0.128637  -0.225604  -0.000394   0.039771         2  \n",
       "\n",
       "[4598 rows x 10 columns]>"
      ]
     },
     "execution_count": 27,
     "metadata": {},
     "output_type": "execute_result"
    }
   ],
   "source": [
    "#shuffling train data\n",
    "test_mix= test_mix.sample(frac=1)\n",
    "test_mix.head"
   ]
  },
  {
   "cell_type": "code",
   "execution_count": 28,
   "metadata": {},
   "outputs": [
    {
     "name": "stdout",
     "output_type": "stream",
     "text": [
      "[[ 3.449500e-01 -3.929288e+00 -3.510198e+00 ... -2.256410e-01\n",
      "  -4.470000e-04  1.013260e-01]\n",
      " [ 2.946000e-01 -3.637947e+00 -1.462221e+00 ... -2.245220e-01\n",
      "  -5.280000e-04  3.585500e-02]\n",
      " [ 5.740000e-02 -3.178808e+00 -5.224212e+00 ... -2.020120e-01\n",
      "  -1.222000e-03 -1.547790e-01]\n",
      " ...\n",
      " [ 2.961000e-01 -2.783592e+00  9.824600e-01 ...  1.633790e-01\n",
      "   3.787000e-03  2.046200e-02]\n",
      " [ 5.045000e-01  6.118230e-01  3.032033e+00 ... -8.837000e-03\n",
      "  -5.210000e-04  2.834300e-02]\n",
      " [ 3.434500e-01  8.535010e-01  6.565800e-02 ... -2.256040e-01\n",
      "  -3.940000e-04  3.977100e-02]]\n",
      "[2. 4. 3. ... 3. 4. 2.]\n"
     ]
    }
   ],
   "source": [
    "#Assigning X and Y parameter for testing 30Hz against 10Hz training\n",
    "\n",
    "dataset_test_mix = test_mix.values\n",
    "X_test_mix = dataset_test_mix[:,0:9]\n",
    "print(X_test_mix)\n",
    "\n",
    "y_test_mix= dataset_test_mix[:,9]\n",
    "print(y_test_mix)"
   ]
  },
  {
   "cell_type": "code",
   "execution_count": 34,
   "metadata": {},
   "outputs": [
    {
     "name": "stdout",
     "output_type": "stream",
     "text": [
      "Mean Absolute Error: 0.388 degrees.\n"
     ]
    }
   ],
   "source": [
    "#Predicting errors by sampling against test data identification result\n",
    "\n",
    "import numpy as np\n",
    "predictions_mix = rf.predict(X_test_mix)\n",
    "errors_mix = abs(predictions_mix - y_test_mix)\n",
    "print('Mean Absolute Error:', round(np.mean(errors_mix), 3), 'degrees.')"
   ]
  },
  {
   "cell_type": "code",
   "execution_count": 38,
   "metadata": {},
   "outputs": [
    {
     "name": "stdout",
     "output_type": "stream",
     "text": [
      "Accuracy: 99.612 %.\n"
     ]
    }
   ],
   "source": [
    "#Calculating model accuracy through adjusting hyperparameters\n",
    "\n",
    "accuracy = 100 - np.mean(errors_mix)\n",
    "print('Accuracy:', round(accuracy, 3), '%.')"
   ]
  },
  {
   "cell_type": "code",
   "execution_count": 31,
   "metadata": {},
   "outputs": [],
   "source": [
    "# Results testing different datasets against 10Hz trained model\n",
    "# 15Hz : 0.633 Mean Absolute error\n",
    "# 20Hz : 0.541 Mean Absolute error\n",
    "# 30Hz : 0.706 Mean Absolute error\n",
    "# Mix speed: 0.483 Mean Absolute error / 99.98% Accuracy"
   ]
  }
 ],
 "metadata": {
  "kernelspec": {
   "display_name": "Python 3",
   "language": "python",
   "name": "python3"
  },
  "language_info": {
   "codemirror_mode": {
    "name": "ipython",
    "version": 3
   },
   "file_extension": ".py",
   "mimetype": "text/x-python",
   "name": "python",
   "nbconvert_exporter": "python",
   "pygments_lexer": "ipython3",
   "version": "3.7.6"
  }
 },
 "nbformat": 4,
 "nbformat_minor": 4
}
