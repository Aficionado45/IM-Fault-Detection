{
 "cells": [
  {
   "cell_type": "code",
   "execution_count": 1,
   "metadata": {},
   "outputs": [],
   "source": [
    "import pandas as pd"
   ]
  },
  {
   "cell_type": "code",
   "execution_count": 3,
   "metadata": {},
   "outputs": [],
   "source": [
    "data_10=pd.read_csv(r'D:\\Acads\\BTP\\Lightly Loaded\\Test10hz.csv')\n",
    "data_10=data_10.head(99990)\n",
    "data_10=data_10.sample(frac=1)"
   ]
  },
  {
   "cell_type": "code",
   "execution_count": 4,
   "metadata": {},
   "outputs": [],
   "source": [
    "import sklearn as sk"
   ]
  },
  {
   "cell_type": "code",
   "execution_count": 5,
   "metadata": {},
   "outputs": [
    {
     "name": "stdout",
     "output_type": "stream",
     "text": [
      "[[ 6.498500e-01 -3.373650e+00 -1.228202e+00 ...  8.663200e-02\n",
      "  -1.680000e-04 -3.605300e-02]\n",
      " [ 8.563000e-01  6.770980e-01  5.458520e-01 ... -1.354020e-01\n",
      "  -1.600000e-04 -1.535100e-02]\n",
      " [ 4.425000e-01 -7.941130e-01 -3.805250e-01 ... -2.054100e-02\n",
      "  -4.430000e-04 -5.522200e-02]\n",
      " ...\n",
      " [ 3.603000e-01 -1.664572e+00 -9.074990e-01 ...  2.115820e-01\n",
      "   1.033000e-03  8.637600e-02]\n",
      " [ 5.309000e-01  4.675050e-01  5.402050e-01 ... -1.447430e-01\n",
      "  -2.850000e-04  2.773500e-02]\n",
      " [ 6.155000e-02 -3.696400e-01  3.554200e-01 ... -3.993100e-02\n",
      "  -5.180000e-04  5.348000e-03]]\n",
      "[2. 4. 3. ... 2. 2. 4.]\n"
     ]
    }
   ],
   "source": [
    "dataset_10=data_10.values\n",
    "X_10= dataset_10[:,0:9]\n",
    "print(X_10)\n",
    "y_10=dataset_10[:,9]\n",
    "print(y_10)"
   ]
  },
  {
   "cell_type": "code",
   "execution_count": 11,
   "metadata": {},
   "outputs": [],
   "source": [
    "from sklearn.ensemble import RandomForestClassifier\n",
    "rf_10 = RandomForestClassifier(n_estimators = 5000, random_state = 42)\n",
    "rf_10.fit(X_10, y_10);"
   ]
  },
  {
   "cell_type": "code",
   "execution_count": 12,
   "metadata": {},
   "outputs": [],
   "source": [
    "test_10=pd.read_csv(r'D:\\Acads\\BTP\\Lightly Loaded\\Train10hz.csv')\n",
    "test_10=test_10.head(49990)\n",
    "test_10=test_10.sample(frac=1)"
   ]
  },
  {
   "cell_type": "code",
   "execution_count": 13,
   "metadata": {},
   "outputs": [
    {
     "name": "stdout",
     "output_type": "stream",
     "text": [
      "[[ 1.074200e+00  1.559481e+00  3.413143e+00 ... -1.846640e-01\n",
      "  -2.090000e-04  1.063100e-02]\n",
      " [ 1.141300e+00 -4.901778e+00 -5.970963e+00 ...  1.963020e-01\n",
      "  -4.060000e-04  4.728900e-02]\n",
      " [ 2.527750e+00  3.726040e-01  1.715950e+00 ...  1.797420e-01\n",
      "  -7.760000e-04 -4.419000e-03]\n",
      " ...\n",
      " [ 1.001755e+01  3.401814e+00  1.865980e-01 ...  1.336170e-01\n",
      "  -3.130000e-04 -3.136300e-02]\n",
      " [ 2.523150e+00  1.582100e+00  2.185585e+00 ...  1.495750e-01\n",
      "   8.650000e-04 -2.926000e-02]\n",
      " [ 1.096550e+00 -1.876624e+00  3.560340e-01 ...  2.133490e-01\n",
      "  -6.770000e-05  4.611900e-02]]\n",
      "[1. 1. 0. ... 3. 1. 4.]\n"
     ]
    }
   ],
   "source": [
    "dataset_test_10 = test_10.values\n",
    "X_test_10 = dataset_test_10[:,0:9]\n",
    "print(X_test_10)\n",
    "\n",
    "y_test_10= dataset_test_10[:,9]\n",
    "print(y_test_10)"
   ]
  },
  {
   "cell_type": "code",
   "execution_count": 14,
   "metadata": {},
   "outputs": [],
   "source": [
    "import numpy as np"
   ]
  },
  {
   "cell_type": "code",
   "execution_count": 15,
   "metadata": {},
   "outputs": [
    {
     "name": "stdout",
     "output_type": "stream",
     "text": [
      "Mean Absolute Error 10Hz with 10Hz: 1.208 degrees.\n",
      "Accuracy: 98.792 %.\n"
     ]
    }
   ],
   "source": [
    "predictions_10 = rf_10.predict(X_test_10)\n",
    "errors_10 = abs(predictions_10 - y_test_10)\n",
    "print('Mean Absolute Error 10Hz with 10Hz:', round(np.mean(errors_10), 3), 'degrees.')\n",
    "\n",
    "accuracy = 100 - np.mean(errors_10)\n",
    "print('Accuracy:', round(accuracy, 3), '%.')"
   ]
  },
  {
   "cell_type": "code",
   "execution_count": null,
   "metadata": {},
   "outputs": [],
   "source": []
  }
 ],
 "metadata": {
  "kernelspec": {
   "display_name": "Python 3",
   "language": "python",
   "name": "python3"
  },
  "language_info": {
   "codemirror_mode": {
    "name": "ipython",
    "version": 3
   },
   "file_extension": ".py",
   "mimetype": "text/x-python",
   "name": "python",
   "nbconvert_exporter": "python",
   "pygments_lexer": "ipython3",
   "version": "3.7.6"
  }
 },
 "nbformat": 4,
 "nbformat_minor": 4
}
