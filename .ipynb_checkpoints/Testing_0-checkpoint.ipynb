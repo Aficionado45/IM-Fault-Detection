{
 "cells": [
  {
   "cell_type": "markdown",
   "metadata": {},
   "source": [
    "### Testing random forest classifier for binary operation by taking       10Hz ND and BF fault of IM and training ML model through 1000 row each data."
   ]
  },
  {
   "cell_type": "code",
   "execution_count": 1,
   "metadata": {},
   "outputs": [],
   "source": [
    "import pandas as pd"
   ]
  },
  {
   "cell_type": "code",
   "execution_count": 2,
   "metadata": {},
   "outputs": [],
   "source": [
    "data= pd.read_csv(r'D:\\Acads\\BTP\\Train\\Train10hzbf_nd.csv')"
   ]
  },
  {
   "cell_type": "code",
   "execution_count": 3,
   "metadata": {},
   "outputs": [
    {
     "data": {
      "text/plain": [
       "<bound method NDFrame.head of       X_Value  Acceleration  Acceleration_0  Acceleration_1   Voltage  \\\n",
       "0     0.00000     -0.768912        0.590422       -1.190895  0.004234   \n",
       "1     0.00005     -1.456453        0.116244       -1.325922  0.001663   \n",
       "2     0.00010     -0.488512        1.316790       -0.074655  0.002593   \n",
       "3     0.00015     -1.360815        0.575074       -0.073920  0.000438   \n",
       "4     0.00020     -0.395823        1.919520        0.047996  0.000992   \n",
       "...       ...           ...             ...             ...       ...   \n",
       "2186  0.05940      0.615634        0.107036        0.480646  0.209599   \n",
       "2187  0.05945      0.063315       -0.632962       -0.053580  0.210980   \n",
       "2188  0.05950      0.723442       -0.051842        0.409335  0.208848   \n",
       "2189  0.05955     -0.010442       -0.758689       -0.492112  0.209595   \n",
       "2190  0.05960      0.628787       -0.051106       -0.127098  0.207959   \n",
       "\n",
       "      Voltage_0  Voltage_1  Voltage_2  Voltage_3  Identity  \n",
       "0     -0.178414   0.174913  -0.000166   0.016538         0  \n",
       "1     -0.179898   0.179547  -0.000126  -0.055457         0  \n",
       "2     -0.177713   0.175572  -0.000134  -0.033742         0  \n",
       "3     -0.178693   0.180163  -0.000126  -0.001972         0  \n",
       "4     -0.176762   0.176239  -0.000107  -0.061004         0  \n",
       "...         ...        ...        ...        ...       ...  \n",
       "2186  -0.068040  -0.142220   0.000068   0.150513         1  \n",
       "2187  -0.069085  -0.142639   0.000048   0.146614         1  \n",
       "2188  -0.068196  -0.141503   0.000102   0.148863         1  \n",
       "2189  -0.069709  -0.141495   0.000082   0.140224         1  \n",
       "2190  -0.067961  -0.140441   0.000047   0.150192         1  \n",
       "\n",
       "[2191 rows x 10 columns]>"
      ]
     },
     "execution_count": 3,
     "metadata": {},
     "output_type": "execute_result"
    }
   ],
   "source": [
    "data.head"
   ]
  },
  {
   "cell_type": "code",
   "execution_count": 4,
   "metadata": {},
   "outputs": [
    {
     "data": {
      "text/plain": [
       "<bound method NDFrame.head of       X_Value  Acceleration  Acceleration_0  Acceleration_1   Voltage  \\\n",
       "656   0.03280      2.394414        3.065429       -2.703394 -0.165819   \n",
       "650   0.03250      1.429054        1.124148       -0.020987 -0.168317   \n",
       "1855  0.04285     -0.467860        0.269843       -0.626526  0.070104   \n",
       "1588  0.02950     -0.797063        0.792273        0.130826 -0.094985   \n",
       "860   0.04300     -0.424466        2.841109       -1.245175 -0.074785   \n",
       "...       ...           ...             ...             ...       ...   \n",
       "678   0.03390     -1.513984       -2.717528       -0.189588 -0.156820   \n",
       "1430  0.02160     -1.375443       -0.802521       -0.248647 -0.183367   \n",
       "1219  0.01105     -0.524899       -0.087939       -0.002976 -0.227967   \n",
       "880   0.04400     -2.611492       -4.959743       -1.846058 -0.063503   \n",
       "2097  0.05495      0.684474       -0.685267        0.052530  0.197431   \n",
       "\n",
       "      Voltage_0  Voltage_1  Voltage_2  Voltage_3  Identity  \n",
       "656    0.174865  -0.008847   0.000985  -0.081717         0  \n",
       "650    0.172551  -0.004223   0.000994  -0.084896         0  \n",
       "1855   0.138257  -0.209719   0.000019   0.029660         1  \n",
       "1588   0.221580  -0.127115   0.000004  -0.095095         1  \n",
       "860    0.195273  -0.122677   0.000798   0.079852         0  \n",
       "...         ...        ...        ...        ...       ...  \n",
       "678    0.181697  -0.025184   0.000985   0.002774         0  \n",
       "1430   0.203940  -0.021387  -0.000024  -0.015863         1  \n",
       "1219   0.100717   0.126270  -0.000065  -0.011627         1  \n",
       "880    0.193557  -0.131898   0.000763  -0.046724         0  \n",
       "2097  -0.014314  -0.184670   0.000048   0.183434         1  \n",
       "\n",
       "[2191 rows x 10 columns]>"
      ]
     },
     "execution_count": 4,
     "metadata": {},
     "output_type": "execute_result"
    }
   ],
   "source": [
    "# shuffling test data\n",
    "data= data.sample(frac=1)\n",
    "data.head"
   ]
  },
  {
   "cell_type": "code",
   "execution_count": 5,
   "metadata": {},
   "outputs": [],
   "source": [
    "import sklearn as sk"
   ]
  },
  {
   "cell_type": "code",
   "execution_count": 6,
   "metadata": {},
   "outputs": [
    {
     "name": "stdout",
     "output_type": "stream",
     "text": [
      "[[ 3.280000e-02  2.394414e+00  3.065429e+00 ... -8.847000e-03\n",
      "   9.850000e-04 -8.171700e-02]\n",
      " [ 3.250000e-02  1.429054e+00  1.124148e+00 ... -4.223000e-03\n",
      "   9.940000e-04 -8.489600e-02]\n",
      " [ 4.285000e-02 -4.678600e-01  2.698430e-01 ... -2.097190e-01\n",
      "   1.910000e-05  2.966000e-02]\n",
      " ...\n",
      " [ 1.105000e-02 -5.248990e-01 -8.793900e-02 ...  1.262700e-01\n",
      "  -6.510000e-05 -1.162700e-02]\n",
      " [ 4.400000e-02 -2.611492e+00 -4.959743e+00 ... -1.318980e-01\n",
      "   7.630000e-04 -4.672400e-02]\n",
      " [ 5.495000e-02  6.844740e-01 -6.852670e-01 ... -1.846700e-01\n",
      "   4.850000e-05  1.834340e-01]]\n"
     ]
    }
   ],
   "source": [
    "# Assigning Time, Acceleration, Voltage readings as X parameter\n",
    "\n",
    "dataset = data.values\n",
    "X = dataset[:,0:9]\n",
    "print(X)"
   ]
  },
  {
   "cell_type": "code",
   "execution_count": 7,
   "metadata": {},
   "outputs": [
    {
     "name": "stdout",
     "output_type": "stream",
     "text": [
      "[0. 0. 1. ... 1. 0. 1.]\n"
     ]
    }
   ],
   "source": [
    "# Assigning identity signature as Y parameter\n",
    "\n",
    "y= dataset[:,9]\n",
    "print(y)"
   ]
  },
  {
   "cell_type": "code",
   "execution_count": 28,
   "metadata": {},
   "outputs": [],
   "source": [
    "#Split data set into train and testing data\n",
    "\n",
    "from sklearn.model_selection import train_test_split\n",
    "X_train, X_test, y_train, y_test = train_test_split(\n",
    "    X, y, test_size=0.99, random_state=42)"
   ]
  },
  {
   "cell_type": "code",
   "execution_count": 29,
   "metadata": {},
   "outputs": [],
   "source": [
    "# Training random forest classifier\n",
    "\n",
    "from sklearn.ensemble import RandomForestClassifier\n",
    "rf = RandomForestClassifier(n_estimators = 1000, random_state = 0)\n",
    "rf.fit(X_train, y_train);"
   ]
  },
  {
   "cell_type": "code",
   "execution_count": 30,
   "metadata": {},
   "outputs": [
    {
     "name": "stdout",
     "output_type": "stream",
     "text": [
      "Mean Absolute Error: 0.08 degrees.\n"
     ]
    }
   ],
   "source": [
    "# Predicting errors by sampling against test data identification result\n",
    "\n",
    "import numpy as np\n",
    "predictions = rf.predict(X_test)\n",
    "errors = abs(predictions - y_test)\n",
    "print('Mean Absolute Error:', round(np.mean(errors), 2), 'degrees.')"
   ]
  },
  {
   "cell_type": "code",
   "execution_count": 31,
   "metadata": {},
   "outputs": [
    {
     "name": "stdout",
     "output_type": "stream",
     "text": [
      "Accuracy: 99.92 %.\n"
     ]
    }
   ],
   "source": [
    "# Calculating model accuracy through adjusting hyperparameters\n",
    "\n",
    "\n",
    "accuracy = 100 - np.mean(errors)\n",
    "print('Accuracy:', round(accuracy, 2), '%.')"
   ]
  },
  {
   "cell_type": "markdown",
   "metadata": {},
   "source": [
    "### Result: Upto 70% test size: 0 Mean absolute error\n",
    "###         70%-95% test size: 0.01 Mean absolute error\n",
    "###         95%              : 0.02 Mean absolute error\n",
    "###         99%              : 0.08 Mean absolute error"
   ]
  },
  {
   "cell_type": "code",
   "execution_count": null,
   "metadata": {},
   "outputs": [],
   "source": []
  }
 ],
 "metadata": {
  "interpreter": {
   "hash": "4d86372cfb1be11e6142bae3d72b1b3dd652af7b694241e6e9cb8e4bdf71981c"
  },
  "kernelspec": {
   "display_name": "Python 3",
   "language": "python",
   "name": "python3"
  },
  "language_info": {
   "codemirror_mode": {
    "name": "ipython",
    "version": 3
   },
   "file_extension": ".py",
   "mimetype": "text/x-python",
   "name": "python",
   "nbconvert_exporter": "python",
   "pygments_lexer": "ipython3",
   "version": "3.7.6"
  }
 },
 "nbformat": 4,
 "nbformat_minor": 4
}
