{
 "cells": [
  {
   "cell_type": "markdown",
   "metadata": {},
   "source": [
    "### Testing accuracy of RF classifier by providing training data of 20Hz and 30Hz defects \n",
    "### and testing out it's accuracy on different speed readings of 10Hz, 15Hz, 20Hz, 25HZ,\n",
    "### 30Hz and 35Hz. \n",
    "### Training Dataset consists of 10000 rows for each fault and testing\n",
    "### data consists of 20000 rows for each fault. Mix data consists of 200 rows data for each\n",
    "### fault in all rotational speeds.#"
   ]
  },
  {
   "cell_type": "code",
   "execution_count": 31,
   "metadata": {},
   "outputs": [],
   "source": [
    "import pandas as pd\n",
    "\n",
    "data_20=pd.read_csv(r'D:\\Acads\\BTP\\Train\\Train20Hz.csv')\n",
    "data_30=pd.read_csv(r'D:\\Acads\\BTP\\Train\\Train30Hz.csv')"
   ]
  },
  {
   "cell_type": "code",
   "execution_count": 32,
   "metadata": {},
   "outputs": [
    {
     "data": {
      "text/plain": [
       "<bound method NDFrame.head of         X_Value  Acceleration  Acceleration_0  Acceleration_1   Voltage  \\\n",
       "0       0.00000      1.708963       22.936699        0.418647  0.062727   \n",
       "1       0.00005      0.397558       20.744087       -2.443510  0.058105   \n",
       "2       0.00010      0.245741       19.886220       -4.793004  0.065566   \n",
       "3       0.00015     -0.492077       16.847528       -7.492809  0.060839   \n",
       "4       0.00020      1.393773       15.511186       -5.217568  0.068609   \n",
       "...         ...           ...             ...             ...       ...   \n",
       "100239  1.01385     -2.401899       -2.835274       -2.798354  0.168155   \n",
       "100240  1.01390      1.870737       -1.357366        0.724601  0.170059   \n",
       "100241  1.01395      1.843078       -2.764307        1.164236  0.166506   \n",
       "100242  1.01400      5.318520        0.023913        4.574955  0.167842   \n",
       "100243  1.01405      5.640224       -0.904798        2.451036  0.162821   \n",
       "\n",
       "        Voltage_0  Voltage_1  Voltage_2  Voltage_3  Identity  \n",
       "0        0.152310  -0.216667   0.000854  -0.170166         1  \n",
       "1        0.148238  -0.208466   0.000819  -0.034754         1  \n",
       "2        0.150867  -0.217372   0.000753  -0.066492         1  \n",
       "3        0.147171  -0.208646   0.000790   0.055139         1  \n",
       "4        0.149121  -0.217855   0.000831   0.023973         1  \n",
       "...           ...        ...        ...        ...       ...  \n",
       "100239  -0.220463   0.052978  -0.000590   0.114022         4  \n",
       "100240  -0.227182   0.056192  -0.000541  -0.009250         4  \n",
       "100241  -0.220024   0.053968  -0.000572  -0.098004         4  \n",
       "100242  -0.227625   0.058899  -0.000545   0.055944         4  \n",
       "100243  -0.221341   0.058433  -0.000567   0.050418         4  \n",
       "\n",
       "[100244 rows x 10 columns]>"
      ]
     },
     "execution_count": 32,
     "metadata": {},
     "output_type": "execute_result"
    }
   ],
   "source": [
    "data_20.head"
   ]
  },
  {
   "cell_type": "code",
   "execution_count": 5,
   "metadata": {},
   "outputs": [
    {
     "data": {
      "text/plain": [
       "<bound method NDFrame.head of         X_Value  Acceleration  Acceleration_0  Acceleration_1   Voltage  \\\n",
       "0      0.000000    -11.367953      -11.637524        6.021533 -0.211798   \n",
       "1      0.000050    -12.166375       -9.140292        3.120780 -0.217642   \n",
       "2      0.000100     -8.550057       -4.918858        0.881439 -0.211531   \n",
       "3      0.000150     -7.510203       -1.977898       -0.244971 -0.217031   \n",
       "4      0.000200     -9.059351        0.536890        3.866246 -0.210774   \n",
       "...         ...           ...             ...             ...       ...   \n",
       "99948  0.999350      6.308956       -7.804564        2.868125 -0.231882   \n",
       "99949  0.999400      3.970360       -6.623541        1.938864 -0.229132   \n",
       "99950  0.999450      1.442453       -4.509385        2.251926 -0.233108   \n",
       "99951  0.999500     -0.867132       -3.078502        0.568868 -0.229825   \n",
       "99952  0.999528     -0.404975       -0.450460       -0.560514  0.001299   \n",
       "\n",
       "       Voltage_0  Voltage_1  Voltage_2  Voltage_3  Identity  \n",
       "0       0.124550   0.087489  -0.000407  -0.151828         1  \n",
       "1       0.134079   0.082623  -0.000408  -0.034398         1  \n",
       "2       0.126679   0.084210  -0.000362  -0.156903         1  \n",
       "3       0.137591   0.078589  -0.000408   0.131691         1  \n",
       "4       0.130023   0.080551  -0.000396  -0.214258         1  \n",
       "...          ...        ...        ...        ...       ...  \n",
       "99948   0.122237   0.109242   0.001851  -0.073762         4  \n",
       "99949   0.120721   0.107070   0.001578   0.034238         4  \n",
       "99950   0.126991   0.106174   0.001714  -0.025075         4  \n",
       "99951   0.125186   0.103691   0.001626   0.049136         4  \n",
       "99952  -0.007117   0.005242  -0.000015   0.000366         4  \n",
       "\n",
       "[99953 rows x 10 columns]>"
      ]
     },
     "execution_count": 5,
     "metadata": {},
     "output_type": "execute_result"
    }
   ],
   "source": [
    "data_30.head"
   ]
  },
  {
   "cell_type": "code",
   "execution_count": 33,
   "metadata": {},
   "outputs": [],
   "source": [
    "#shuffling\n",
    "data_20=data_20.sample(frac=0.3)\n",
    "data_30=data_30.sample(frac=0.3)"
   ]
  },
  {
   "cell_type": "code",
   "execution_count": 34,
   "metadata": {},
   "outputs": [
    {
     "data": {
      "text/plain": [
       "<bound method NDFrame.head of        X_Value  Acceleration  Acceleration_0  Acceleration_1   Voltage  \\\n",
       "57747  0.88835     -2.259916        1.150423       -0.045249  0.219778   \n",
       "28366  0.41880      0.821908        1.397580       -2.105207 -0.195900   \n",
       "87066  0.35520      0.580722        1.568245        1.113141  0.214750   \n",
       "60804  0.04165      1.479209        3.871359       -1.003303  0.212736   \n",
       "71299  0.56640     -0.106080       -2.566876       -0.348631 -0.189496   \n",
       "...        ...           ...             ...             ...       ...   \n",
       "82824  0.14310      5.186986        0.913703        0.814170 -0.046573   \n",
       "16584  0.82920     -0.644754        4.744574        2.039339 -0.189557   \n",
       "90049  0.50435     -0.025439        6.455396       -2.042840  0.216634   \n",
       "55432  0.77260      1.180860       -0.448792       -0.503507 -0.128065   \n",
       "35098  0.75540      0.284709       -2.721825       -1.650624  0.097850   \n",
       "\n",
       "       Voltage_0  Voltage_1  Voltage_2  Voltage_3  Identity  \n",
       "57747  -0.171868  -0.048855   0.000105  -0.005303         0  \n",
       "28366  -0.003801   0.199710  -0.000560   0.011335         2  \n",
       "87066  -0.045727  -0.170199  -0.000348  -0.017849         4  \n",
       "60804  -0.183649  -0.030577  -0.000721  -0.096287         3  \n",
       "71299   0.201954  -0.014800  -0.000729   0.006410         3  \n",
       "...          ...        ...        ...        ...       ...  \n",
       "82824   0.221824  -0.175969  -0.000362   0.083401         4  \n",
       "16584  -0.008708   0.199223   0.000910   0.129291         1  \n",
       "90049  -0.032350  -0.184296  -0.000438   0.093549         4  \n",
       "55432  -0.088560   0.218543   0.000101  -0.035534         0  \n",
       "35098  -0.210981   0.113251  -0.000369  -0.074255         2  \n",
       "\n",
       "[30073 rows x 10 columns]>"
      ]
     },
     "execution_count": 34,
     "metadata": {},
     "output_type": "execute_result"
    }
   ],
   "source": [
    "data_20.head"
   ]
  },
  {
   "cell_type": "code",
   "execution_count": 8,
   "metadata": {},
   "outputs": [
    {
     "data": {
      "text/plain": [
       "<bound method NDFrame.head of        X_Value  Acceleration  Acceleration_0  Acceleration_1   Voltage  \\\n",
       "56338  0.81790     -1.273781       -5.073683       -2.437506  0.228077   \n",
       "29846  0.49280     -5.550718       -5.473456       -4.200821  0.209336   \n",
       "96896  0.84675      4.749483       -8.375862        6.843212  0.190737   \n",
       "72619  0.63245     -2.358873        4.934024       -3.007143  0.240760   \n",
       "37037  0.85235      6.742035        4.389493        0.964758  0.074529   \n",
       "...        ...           ...             ...             ...       ...   \n",
       "25205  0.26075      7.624049        7.086364       -1.980350  0.224233   \n",
       "96044  0.80415     -3.649256       -4.533695        1.579855 -0.168492   \n",
       "72492  0.62610     -2.129120        2.100253       -0.448859  0.084276   \n",
       "11555  0.57775      1.574233       -9.808832        4.997680  0.158748   \n",
       "44984  0.25020     -0.071660        1.046920       -2.072859  0.228589   \n",
       "\n",
       "       Voltage_0  Voltage_1  Voltage_2  Voltage_3  Identity  \n",
       "56338  -0.125091  -0.104575   0.000061  -0.108767         0  \n",
       "29846  -0.063941  -0.146136  -0.000323   0.002400         2  \n",
       "96896   0.016661  -0.209600  -0.000567  -0.108244         4  \n",
       "72619  -0.109309  -0.132767  -0.001543   0.033839         3  \n",
       "37037   0.145464  -0.222231  -0.000534  -0.085190         2  \n",
       "...          ...        ...        ...        ...       ...  \n",
       "25205  -0.080576  -0.145609   0.001140  -0.147582         2  \n",
       "96044   0.213636  -0.046489  -0.000628  -0.008359         4  \n",
       "72492   0.155447  -0.242113   0.003340   0.117393         3  \n",
       "11555   0.041685  -0.200845   0.000888  -0.120164         1  \n",
       "44984  -0.058443  -0.170030   0.000086   0.088231         0  \n",
       "\n",
       "[29986 rows x 10 columns]>"
      ]
     },
     "execution_count": 8,
     "metadata": {},
     "output_type": "execute_result"
    }
   ],
   "source": [
    "data_30.head"
   ]
  },
  {
   "cell_type": "code",
   "execution_count": 9,
   "metadata": {},
   "outputs": [],
   "source": [
    "import sklearn as sk"
   ]
  },
  {
   "cell_type": "code",
   "execution_count": 35,
   "metadata": {},
   "outputs": [
    {
     "name": "stdout",
     "output_type": "stream",
     "text": [
      "[[ 8.883500e-01 -2.259916e+00  1.150423e+00 ... -4.885500e-02\n",
      "   1.050000e-04 -5.303000e-03]\n",
      " [ 4.188000e-01  8.219080e-01  1.397580e+00 ...  1.997100e-01\n",
      "  -5.600000e-04  1.133500e-02]\n",
      " [ 3.552000e-01  5.807220e-01  1.568245e+00 ... -1.701990e-01\n",
      "  -3.480000e-04 -1.784900e-02]\n",
      " ...\n",
      " [ 5.043500e-01 -2.543900e-02  6.455396e+00 ... -1.842960e-01\n",
      "  -4.380000e-04  9.354900e-02]\n",
      " [ 7.726000e-01  1.180860e+00 -4.487920e-01 ...  2.185430e-01\n",
      "   1.010000e-04 -3.553400e-02]\n",
      " [ 7.554000e-01  2.847090e-01 -2.721825e+00 ...  1.132510e-01\n",
      "  -3.690000e-04 -7.425500e-02]]\n",
      "[0. 2. 4. ... 4. 0. 2.]\n"
     ]
    }
   ],
   "source": [
    "# X and y for training 20Hz dataset\n",
    "dataset_20=data_20.values\n",
    "X_20= dataset_20[:,0:9]\n",
    "print(X_20)\n",
    "\n",
    "y_20=dataset_20[:,9]\n",
    "print(y_20)"
   ]
  },
  {
   "cell_type": "code",
   "execution_count": 12,
   "metadata": {},
   "outputs": [
    {
     "name": "stdout",
     "output_type": "stream",
     "text": [
      "[[ 8.179000e-01 -1.273781e+00 -5.073683e+00 ... -1.045750e-01\n",
      "   6.126240e-05 -1.087670e-01]\n",
      " [ 4.928000e-01 -5.550718e+00 -5.473456e+00 ... -1.461360e-01\n",
      "  -3.230000e-04  2.400000e-03]\n",
      " [ 8.467500e-01  4.749483e+00 -8.375862e+00 ... -2.096000e-01\n",
      "  -5.670000e-04 -1.082440e-01]\n",
      " ...\n",
      " [ 6.261000e-01 -2.129120e+00  2.100253e+00 ... -2.421130e-01\n",
      "   3.340000e-03  1.173930e-01]\n",
      " [ 5.777500e-01  1.574233e+00 -9.808832e+00 ... -2.008450e-01\n",
      "   8.880000e-04 -1.201640e-01]\n",
      " [ 2.502000e-01 -7.166000e-02  1.046920e+00 ... -1.700300e-01\n",
      "   8.551404e-05  8.823100e-02]]\n",
      "[0. 2. 4. ... 3. 1. 0.]\n"
     ]
    }
   ],
   "source": [
    "# X and y for training 30Hz dataset\n",
    "dataset_30=data_30.values\n",
    "X_30= dataset_30[:,0:9]\n",
    "print(X_30)\n",
    "\n",
    "y_30=dataset_30[:,9]\n",
    "print(y_30)"
   ]
  },
  {
   "cell_type": "code",
   "execution_count": 52,
   "metadata": {},
   "outputs": [],
   "source": [
    "#Training random forest classifier\n",
    "\n",
    "from sklearn.ensemble import RandomForestClassifier\n",
    "rf_20 = RandomForestClassifier(n_estimators = 500, random_state = 42)\n",
    "rf_20.fit(X_20, y_20);"
   ]
  },
  {
   "cell_type": "code",
   "execution_count": 53,
   "metadata": {},
   "outputs": [],
   "source": [
    "#Training random forest Classifier\n",
    "\n",
    "from sklearn.ensemble import RandomForestClassifier\n",
    "rf_30 = RandomForestClassifier(n_estimators = 500, random_state = 42)\n",
    "rf_30.fit(X_30, y_30);"
   ]
  },
  {
   "cell_type": "code",
   "execution_count": 15,
   "metadata": {},
   "outputs": [
    {
     "data": {
      "text/plain": [
       "<bound method NDFrame.head of        X_Value  Acceleration  Acceleration_0  Acceleration_1   Voltage  \\\n",
       "0      0.00000     -1.525662       -2.224441       -0.555582 -0.021681   \n",
       "1      0.00005     -1.392776       -2.294180       -0.066691 -0.019098   \n",
       "2      0.00010     -0.174552       -1.000812        0.584061 -0.019375   \n",
       "3      0.00015     -0.383162       -1.101492        1.278678 -0.016724   \n",
       "4      0.00020      1.119027        0.109123        2.087247 -0.017092   \n",
       "...        ...           ...             ...             ...       ...   \n",
       "99949  0.99925     -0.086289        1.216725       -1.050722 -0.210134   \n",
       "99950  0.99930      0.034796        1.739032       -1.707600 -0.214406   \n",
       "99951  0.99935     -0.306700        1.865864       -2.614070 -0.209294   \n",
       "99952  0.99940     -0.349602        2.158573       -2.790634 -0.213611   \n",
       "99953  0.99945     -0.223231        2.109338       -2.928357 -0.208421   \n",
       "\n",
       "       Voltage_0  Voltage_1  Voltage_2  Voltage_3  Identity  \n",
       "0       0.204297  -0.183614  -0.000185  -0.007744         1  \n",
       "1       0.203327  -0.187030  -0.000199  -0.015469         1  \n",
       "2       0.202721  -0.184704  -0.000153  -0.033848         1  \n",
       "3       0.202069  -0.188086  -0.000211   0.073223         1  \n",
       "4       0.201569  -0.185779  -0.000217   0.003786         1  \n",
       "...          ...        ...        ...        ...       ...  \n",
       "99949   0.182882   0.026613  -0.000414  -0.075549         4  \n",
       "99950   0.191532   0.022294  -0.000392   0.004331         4  \n",
       "99951   0.184456   0.024698  -0.000431   0.021859         4  \n",
       "99952   0.192194   0.020143  -0.000452  -0.079773         4  \n",
       "99953   0.184310   0.022566  -0.000389  -0.203361         4  \n",
       "\n",
       "[99954 rows x 10 columns]>"
      ]
     },
     "execution_count": 15,
     "metadata": {},
     "output_type": "execute_result"
    }
   ],
   "source": [
    "test_15= pd.read_csv(r'D:\\Acads\\BTP\\Train\\Train15Hz.csv')\n",
    "test_15.head"
   ]
  },
  {
   "cell_type": "code",
   "execution_count": 16,
   "metadata": {},
   "outputs": [
    {
     "data": {
      "text/plain": [
       "<bound method NDFrame.head of        X_Value  Acceleration  Acceleration_0  Acceleration_1   Voltage  \\\n",
       "77104  0.85660     -3.609058       -1.664440       -1.876200 -0.135092   \n",
       "57004  0.85115     -0.643402        1.668188       -0.288346 -0.231772   \n",
       "70057  0.50425     -2.018115       -2.012891        0.741265 -0.149798   \n",
       "64115  0.20715     -1.032349       -1.125557        1.325730  0.176478   \n",
       "46925  0.34720     -2.258809        0.593737        0.010502  0.223359   \n",
       "...        ...           ...             ...             ...       ...   \n",
       "38799  0.94040      1.864959        0.531242       -0.623830  0.136444   \n",
       "53917  0.69680      0.147767       -0.642662       -2.390700  0.077109   \n",
       "4190   0.20950      1.148284        0.461625       -1.033690  0.189484   \n",
       "36341  0.81750     -1.452888        0.147062        0.516180  0.206915   \n",
       "17429  0.87145      1.527888        2.831164       -1.268578  0.196308   \n",
       "\n",
       "       Voltage_0  Voltage_1  Voltage_2  Voltage_3  Identity  \n",
       "77104   0.224367  -0.090278  -0.000656  -0.027706         3  \n",
       "57004   0.123292   0.107443   0.000133   0.021219         0  \n",
       "70057  -0.082117   0.231147  -0.000567  -0.009941         3  \n",
       "64115   0.038290  -0.215743  -0.000799  -0.026799         3  \n",
       "46925  -0.050980  -0.174993   0.000125  -0.103694         0  \n",
       "...          ...        ...        ...        ...       ...  \n",
       "38799   0.078208  -0.217846   0.000892  -0.016316         2  \n",
       "53917  -0.235220   0.157987   0.000089   0.034839         0  \n",
       "4190   -0.006741  -0.184523  -0.000209  -0.142616         1  \n",
       "36341  -0.091098  -0.115622  -0.000481   0.030687         2  \n",
       "17429  -0.029265  -0.168309   0.000625   0.065227         1  \n",
       "\n",
       "[99954 rows x 10 columns]>"
      ]
     },
     "execution_count": 16,
     "metadata": {},
     "output_type": "execute_result"
    }
   ],
   "source": [
    "#shuffling train data\n",
    "test_15= test_15.sample(frac=1)\n",
    "test_15.head"
   ]
  },
  {
   "cell_type": "code",
   "execution_count": 17,
   "metadata": {},
   "outputs": [
    {
     "name": "stdout",
     "output_type": "stream",
     "text": [
      "[[ 8.566000e-01 -3.609058e+00 -1.664440e+00 ... -9.027800e-02\n",
      "  -6.560000e-04 -2.770600e-02]\n",
      " [ 8.511500e-01 -6.434020e-01  1.668188e+00 ...  1.074430e-01\n",
      "   1.330000e-04  2.121900e-02]\n",
      " [ 5.042500e-01 -2.018115e+00 -2.012891e+00 ...  2.311470e-01\n",
      "  -5.670000e-04 -9.941000e-03]\n",
      " ...\n",
      " [ 2.095000e-01  1.148284e+00  4.616250e-01 ... -1.845230e-01\n",
      "  -2.090000e-04 -1.426160e-01]\n",
      " [ 8.175000e-01 -1.452888e+00  1.470620e-01 ... -1.156220e-01\n",
      "  -4.810000e-04  3.068700e-02]\n",
      " [ 8.714500e-01  1.527888e+00  2.831164e+00 ... -1.683090e-01\n",
      "   6.250000e-04  6.522700e-02]]\n",
      "[3. 0. 3. ... 1. 2. 1.]\n"
     ]
    }
   ],
   "source": [
    "#Assigning X and Y parameter for testing 15Hz against 10Hz training\n",
    "\n",
    "dataset_test_15 = test_15.values\n",
    "X_test_15 = dataset_test_15[:,0:9]\n",
    "print(X_test_15)\n",
    "\n",
    "y_test_15= dataset_test_15[:,9]\n",
    "print(y_test_15)"
   ]
  },
  {
   "cell_type": "code",
   "execution_count": 18,
   "metadata": {},
   "outputs": [
    {
     "data": {
      "text/plain": [
       "<bound method NDFrame.head of        X_Value  Acceleration  Acceleration_0  Acceleration_1   Voltage  \\\n",
       "14846  0.74230     -6.611471      -18.100806        4.566132 -0.085596   \n",
       "57975  0.89975     -2.204844        0.611663       -0.945592  0.041482   \n",
       "26389  0.31995     -2.123219       -2.009699        0.581977 -0.217581   \n",
       "48711  0.43655      0.408622       -1.668860       -0.912754 -0.060438   \n",
       "78310  0.91695      2.181624       -2.835888        0.085122 -0.176509   \n",
       "...        ...           ...             ...             ...       ...   \n",
       "58753  0.93865      0.104988        0.346580        0.306410  0.101586   \n",
       "24796  0.24030     -3.895114       -4.213852        0.165869  0.138684   \n",
       "66294  0.31615      0.265041       -1.604278       -2.807788 -0.206845   \n",
       "5486   0.27430     -3.609550      -14.112899        2.541217 -0.059121   \n",
       "55757  0.78885     -2.846039        0.341177       -1.712747 -0.172353   \n",
       "\n",
       "       Voltage_0  Voltage_1  Voltage_2  Voltage_3  Identity  \n",
       "14846   0.215274  -0.130792  -0.000319  -0.134336         1  \n",
       "57975  -0.225582   0.185236   0.000063   0.071820         0  \n",
       "26389   0.032324   0.185042  -0.000517   0.036890         2  \n",
       "48711  -0.145086   0.205617   0.000288   0.083391         0  \n",
       "78310   0.217598  -0.044503  -0.001114  -0.053520         3  \n",
       "...          ...        ...        ...        ...       ...  \n",
       "58753   0.110193  -0.213268   0.000231  -0.013379         0  \n",
       "24796   0.084546  -0.225840  -0.000305   0.041413         2  \n",
       "66294   0.187325   0.018769   0.003099   0.025839         3  \n",
       "5486   -0.160924   0.221140  -0.000303   0.012799         1  \n",
       "55757   0.206431  -0.035240   0.000306  -0.005825         0  \n",
       "\n",
       "[79962 rows x 10 columns]>"
      ]
     },
     "execution_count": 18,
     "metadata": {},
     "output_type": "execute_result"
    }
   ],
   "source": [
    "#20Hz testing against 10Hz training, UR defect missing in testing\n",
    "test_20= pd.read_csv(r'D:\\Acads\\BTP\\Train\\Train20Hz.csv')\n",
    "test_20.head\n",
    "test_20= test_20.sample(frac=1)\n",
    "test_20.head"
   ]
  },
  {
   "cell_type": "code",
   "execution_count": 19,
   "metadata": {},
   "outputs": [
    {
     "name": "stdout",
     "output_type": "stream",
     "text": [
      "[[ 7.4230000e-01 -6.6114710e+00 -1.8100806e+01 ... -1.3079200e-01\n",
      "  -3.1900000e-04 -1.3433600e-01]\n",
      " [ 8.9975000e-01 -2.2048440e+00  6.1166300e-01 ...  1.8523600e-01\n",
      "   6.2538310e-05  7.1820000e-02]\n",
      " [ 3.1995000e-01 -2.1232190e+00 -2.0096990e+00 ...  1.8504200e-01\n",
      "  -5.1700000e-04  3.6890000e-02]\n",
      " ...\n",
      " [ 3.1615000e-01  2.6504100e-01 -1.6042780e+00 ...  1.8769000e-02\n",
      "   3.0990000e-03  2.5839000e-02]\n",
      " [ 2.7430000e-01 -3.6095500e+00 -1.4112899e+01 ...  2.2114000e-01\n",
      "  -3.0300000e-04  1.2799000e-02]\n",
      " [ 7.8885000e-01 -2.8460390e+00  3.4117700e-01 ... -3.5240000e-02\n",
      "   3.0600000e-04 -5.8250000e-03]]\n",
      "[1. 0. 2. ... 3. 1. 0.]\n"
     ]
    }
   ],
   "source": [
    "#Assigning X and Y parameter for testing 20Hz against 10Hz training\n",
    "\n",
    "dataset_test_20 = test_20.values\n",
    "X_test_20 = dataset_test_20[:,0:9]\n",
    "print(X_test_20)\n",
    "\n",
    "y_test_20= dataset_test_20[:,9]\n",
    "print(y_test_20)"
   ]
  },
  {
   "cell_type": "code",
   "execution_count": 20,
   "metadata": {},
   "outputs": [
    {
     "data": {
      "text/plain": [
       "<bound method NDFrame.head of        X_Value  Acceleration  Acceleration_0  Acceleration_1   Voltage  \\\n",
       "34501  0.72555     -7.322368       -8.142702       -1.928152  0.222752   \n",
       "84087  0.20630      9.399508        2.235557       -1.928887 -0.177621   \n",
       "66615  0.33225     -0.276828       -0.266340        0.629642  0.221057   \n",
       "46292  0.31560     -8.143040       -0.787419       -0.829557  0.211091   \n",
       "26533  0.32715     -4.378962      -10.139602        2.267855  0.214888   \n",
       "...        ...           ...             ...             ...       ...   \n",
       "13096  0.65480      5.060370       10.092519       -3.767191  0.055247   \n",
       "91673  0.58560     -4.116140       -4.543763       -0.927580  0.210699   \n",
       "88684  0.43615     -6.197200       -3.356354        0.838798 -0.208426   \n",
       "406    0.02030     -7.390716       -7.353101       -1.613008  0.125743   \n",
       "63096  0.15630      3.579938        2.366072        0.413378 -0.083214   \n",
       "\n",
       "       Voltage_0  Voltage_1  Voltage_2  Voltage_3  Identity  \n",
       "34501  -0.099089  -0.123687  -0.000465   0.119149         2  \n",
       "84087   0.202151  -0.026393  -0.000484  -0.032251         4  \n",
       "66615  -0.067759  -0.153575  -0.001103   0.273579         3  \n",
       "46292  -0.032546  -0.177766   0.000103  -0.098657         0  \n",
       "26533  -0.087583  -0.128717   0.001133  -0.015654         2  \n",
       "...          ...        ...        ...        ...       ...  \n",
       "13096  -0.231406   0.175679  -0.000267   0.052660         1  \n",
       "91673  -0.135104  -0.075048  -0.000509   0.027947         4  \n",
       "88684   0.136809   0.070917  -0.000588   0.113417         4  \n",
       "406    -0.198615   0.075249  -0.000246   0.010934         1  \n",
       "63096   0.216187  -0.134994  -0.001147  -0.046087         3  \n",
       "\n",
       "[99953 rows x 10 columns]>"
      ]
     },
     "execution_count": 20,
     "metadata": {},
     "output_type": "execute_result"
    }
   ],
   "source": [
    "# 30Hz testing against 10Hz training\n",
    "test_30= pd.read_csv(r'D:\\Acads\\BTP\\Train\\Train30Hz.csv')\n",
    "test_30.head\n",
    "test_30= test_30.sample(frac=1)\n",
    "test_30.head"
   ]
  },
  {
   "cell_type": "code",
   "execution_count": 21,
   "metadata": {},
   "outputs": [
    {
     "name": "stdout",
     "output_type": "stream",
     "text": [
      "[[ 7.255500e-01 -7.322368e+00 -8.142702e+00 ... -1.236870e-01\n",
      "  -4.650000e-04  1.191490e-01]\n",
      " [ 2.063000e-01  9.399508e+00  2.235557e+00 ... -2.639300e-02\n",
      "  -4.840000e-04 -3.225100e-02]\n",
      " [ 3.322500e-01 -2.768280e-01 -2.663400e-01 ... -1.535750e-01\n",
      "  -1.103000e-03  2.735790e-01]\n",
      " ...\n",
      " [ 4.361500e-01 -6.197200e+00 -3.356354e+00 ...  7.091700e-02\n",
      "  -5.880000e-04  1.134170e-01]\n",
      " [ 2.030000e-02 -7.390716e+00 -7.353101e+00 ...  7.524900e-02\n",
      "  -2.460000e-04  1.093400e-02]\n",
      " [ 1.563000e-01  3.579938e+00  2.366072e+00 ... -1.349940e-01\n",
      "  -1.147000e-03 -4.608700e-02]]\n",
      "[2. 4. 3. ... 4. 1. 3.]\n"
     ]
    }
   ],
   "source": [
    "#Assigning X and Y parameter for testing 30Hz against 10Hz training\n",
    "\n",
    "dataset_test_30 = test_30.values\n",
    "X_test_30 = dataset_test_30[:,0:9]\n",
    "print(X_test_30)\n",
    "\n",
    "y_test_30= dataset_test_30[:,9]\n",
    "print(y_test_30)"
   ]
  },
  {
   "cell_type": "code",
   "execution_count": 23,
   "metadata": {},
   "outputs": [
    {
     "data": {
      "text/plain": [
       "<bound method NDFrame.head of       X_Value  Acceleration  Acceleration_0  Acceleration_1   Voltage  \\\n",
       "201   0.00010      0.767451        0.928313       -0.609862  0.193713   \n",
       "1821  0.33655     -0.905486        0.068851       -0.702617 -0.043270   \n",
       "2498  0.99090     -2.962822       -0.458368       -1.492317 -0.146686   \n",
       "3198  0.04995     -2.365512       -4.791656       -0.557052 -0.023397   \n",
       "2263  0.98960      0.678696        2.277424       -0.735945  0.218469   \n",
       "...       ...           ...             ...             ...       ...   \n",
       "3240  0.05205     -1.648468       -1.399480       -2.350388  0.056029   \n",
       "446   0.05235     -0.849922       -0.125388       -0.526665  0.175490   \n",
       "4387  0.50800    -11.522474       -6.219838       -4.512780 -0.208412   \n",
       "2301  0.99150     -2.758760       -1.949782       -1.858678  0.183825   \n",
       "3904  0.50485     -3.339476        0.601595        1.148552  0.134296   \n",
       "\n",
       "      Voltage_0  Voltage_1  Voltage_2  Voltage_3  Identity  \n",
       "201   -0.029580  -0.165588   0.001368  -0.047367         2  \n",
       "1821   0.218044  -0.175815  -0.000400   0.020943         2  \n",
       "2498   0.201774  -0.055848   0.000123   0.037119         0  \n",
       "3198   0.215496  -0.194437  -0.001460  -0.001950         3  \n",
       "2263  -0.195385  -0.023125   0.003820   0.112800         3  \n",
       "...         ...        ...        ...        ...       ...  \n",
       "3240   0.172114  -0.230031  -0.001288   0.213386         3  \n",
       "446    0.021653  -0.200097   0.000033   0.189325         0  \n",
       "4387   0.025254   0.183497  -0.000530  -0.024454         2  \n",
       "2301  -0.224824   0.042605   0.003672  -0.026713         3  \n",
       "3904  -0.239909   0.105996  -0.001066   0.175391         3  \n",
       "\n",
       "[4598 rows x 10 columns]>"
      ]
     },
     "execution_count": 23,
     "metadata": {},
     "output_type": "execute_result"
    }
   ],
   "source": [
    "# Testing mix data from different rotational speeds of 10Hz, 15Hz, 20Hz, 25Hz, 30Hz with 200 dataset row per fault\n",
    "# for each rotational speed\n",
    "\n",
    "test_mix= pd.read_csv(r'D:\\Acads\\BTP\\Train\\Mix_test_10_15_20_25_30.csv')\n",
    "test_mix.head\n",
    "test_mix= test_mix.sample(frac=1)\n",
    "test_mix.head"
   ]
  },
  {
   "cell_type": "code",
   "execution_count": 24,
   "metadata": {},
   "outputs": [
    {
     "name": "stdout",
     "output_type": "stream",
     "text": [
      "[[ 1.0000000e-04  7.6745100e-01  9.2831300e-01 ... -1.6558800e-01\n",
      "   1.3680000e-03 -4.7367000e-02]\n",
      " [ 3.3655000e-01 -9.0548600e-01  6.8851000e-02 ... -1.7581500e-01\n",
      "  -4.0000000e-04  2.0943000e-02]\n",
      " [ 9.9090000e-01 -2.9628220e+00 -4.5836800e-01 ... -5.5848000e-02\n",
      "   1.2300000e-04  3.7119000e-02]\n",
      " ...\n",
      " [ 5.0800000e-01 -1.1522474e+01 -6.2198380e+00 ...  1.8349700e-01\n",
      "  -5.3000000e-04 -2.4454000e-02]\n",
      " [ 9.9150000e-01 -2.7587600e+00 -1.9497820e+00 ...  4.2605000e-02\n",
      "   3.6720000e-03 -2.6713000e-02]\n",
      " [ 5.0485000e-01 -3.3394760e+00  6.0159500e-01 ...  1.0599600e-01\n",
      "  -1.0660000e-03  1.7539100e-01]]\n",
      "[2. 2. 0. ... 2. 3. 3.]\n"
     ]
    }
   ],
   "source": [
    "#Assigning X and Y parameter for testing 30Hz against 10Hz training\n",
    "\n",
    "dataset_test_mix = test_mix.values\n",
    "X_test_mix = dataset_test_mix[:,0:9]\n",
    "print(X_test_mix)\n",
    "\n",
    "y_test_mix= dataset_test_mix[:,9]\n",
    "print(y_test_mix)"
   ]
  },
  {
   "cell_type": "code",
   "execution_count": 54,
   "metadata": {},
   "outputs": [
    {
     "name": "stdout",
     "output_type": "stream",
     "text": [
      "Mean Absolute Error 15Hz with 30Hz: 0.59 degrees.\n",
      "Accuracy: 99.41 %.\n"
     ]
    }
   ],
   "source": [
    "#Predicting with 30Hz training\n",
    "predictions_15 = rf_30.predict(X_test_15)\n",
    "errors_15 = abs(predictions_15 - y_test_15)\n",
    "print('Mean Absolute Error 15Hz with 30Hz:', round(np.mean(errors_15), 3), 'degrees.')\n",
    "\n",
    "accuracy = 100 - np.mean(errors_15)\n",
    "print('Accuracy:', round(accuracy, 3), '%.')"
   ]
  },
  {
   "cell_type": "code",
   "execution_count": 55,
   "metadata": {},
   "outputs": [
    {
     "name": "stdout",
     "output_type": "stream",
     "text": [
      "Mean Absolute Error 20Hz with 30Hz: 0.2 degrees.\n",
      "Accuracy: 99.8 %.\n"
     ]
    }
   ],
   "source": [
    "predictions_20 = rf_30.predict(X_test_20)\n",
    "errors_20 = abs(predictions_20 - y_test_20)\n",
    "print('Mean Absolute Error 20Hz with 30Hz:', round(np.mean(errors_20), 3), 'degrees.')\n",
    "\n",
    "accuracy = 100 - np.mean(errors_20)\n",
    "print('Accuracy:', round(accuracy, 3), '%.')"
   ]
  },
  {
   "cell_type": "code",
   "execution_count": 56,
   "metadata": {},
   "outputs": [
    {
     "name": "stdout",
     "output_type": "stream",
     "text": [
      "Mean Absolute Error 30Hz with 30Hz: 0.058 degrees.\n",
      "Accuracy: 99.942 %.\n"
     ]
    }
   ],
   "source": [
    "predictions_30 = rf_30.predict(X_test_30)\n",
    "errors_30 = abs(predictions_30 - y_test_30)\n",
    "print('Mean Absolute Error 30Hz with 30Hz:', round(np.mean(errors_30), 3), 'degrees.')\n",
    "\n",
    "accuracy = 100 - np.mean(errors_30)\n",
    "print('Accuracy:', round(accuracy, 3), '%.')"
   ]
  },
  {
   "cell_type": "code",
   "execution_count": 57,
   "metadata": {},
   "outputs": [
    {
     "name": "stdout",
     "output_type": "stream",
     "text": [
      "Mean Absolute Error Mix Dataset with 30Hz: 0.2 degrees.\n",
      "Accuracy: 99.705 %.\n"
     ]
    }
   ],
   "source": [
    "predictions_mix = rf_30.predict(X_test_mix)\n",
    "errors_mix = abs(predictions_mix - y_test_mix)\n",
    "print('Mean Absolute Error Mix Dataset with 30Hz:', round(np.mean(errors_20), 3), 'degrees.')\n",
    "\n",
    "accuracy = 100 - np.mean(errors_mix)\n",
    "print('Accuracy:', round(accuracy, 3), '%.')"
   ]
  },
  {
   "cell_type": "code",
   "execution_count": 58,
   "metadata": {},
   "outputs": [
    {
     "name": "stdout",
     "output_type": "stream",
     "text": [
      "Mean Absolute Error 15Hz with 20Hz: 0.425 degrees.\n",
      "Accuracy: 99.575 %.\n"
     ]
    }
   ],
   "source": [
    "#Predicting with 20Hz training\n",
    "predictions_15 = rf_20.predict(X_test_15)\n",
    "errors_15 = abs(predictions_15 - y_test_15)\n",
    "print('Mean Absolute Error 15Hz with 20Hz:', round(np.mean(errors_15), 3), 'degrees.')\n",
    "\n",
    "accuracy = 100 - np.mean(errors_15)\n",
    "print('Accuracy:', round(accuracy, 3), '%.')"
   ]
  },
  {
   "cell_type": "code",
   "execution_count": 59,
   "metadata": {},
   "outputs": [
    {
     "name": "stdout",
     "output_type": "stream",
     "text": [
      "Mean Absolute Error 20Hz with 20Hz: 0.029 degrees.\n",
      "Accuracy: 99.971 %.\n"
     ]
    }
   ],
   "source": [
    "predictions_20 = rf_20.predict(X_test_20)\n",
    "errors_20 = abs(predictions_20 - y_test_20)\n",
    "print('Mean Absolute Error 20Hz with 20Hz:', round(np.mean(errors_20), 3), 'degrees.')\n",
    "\n",
    "accuracy = 100 - np.mean(errors_20)\n",
    "print('Accuracy:', round(accuracy, 3), '%.')"
   ]
  },
  {
   "cell_type": "code",
   "execution_count": 60,
   "metadata": {},
   "outputs": [
    {
     "name": "stdout",
     "output_type": "stream",
     "text": [
      "Mean Absolute Error 20Hz with 30Hz: 0.277 degrees.\n",
      "Accuracy: 99.723 %.\n"
     ]
    }
   ],
   "source": [
    "predictions_30 = rf_20.predict(X_test_30)\n",
    "errors_30 = abs(predictions_30 - y_test_30)\n",
    "print('Mean Absolute Error 20Hz with 30Hz:', round(np.mean(errors_30), 3), 'degrees.')\n",
    "\n",
    "accuracy = 100 - np.mean(errors_30)\n",
    "print('Accuracy:', round(accuracy, 3), '%.')"
   ]
  },
  {
   "cell_type": "code",
   "execution_count": 61,
   "metadata": {},
   "outputs": [
    {
     "name": "stdout",
     "output_type": "stream",
     "text": [
      "Mean Absolute Error Mix Dataset with 30Hz: 0.029 degrees.\n",
      "Accuracy: 99.724 %.\n"
     ]
    }
   ],
   "source": [
    "predictions_mix = rf_20.predict(X_test_mix)\n",
    "errors_mix = abs(predictions_mix - y_test_mix)\n",
    "print('Mean Absolute Error Mix Dataset with 30Hz:', round(np.mean(errors_20), 3), 'degrees.')\n",
    "\n",
    "accuracy = 100 - np.mean(errors_mix)\n",
    "print('Accuracy:', round(accuracy, 3), '%.')"
   ]
  },
  {
   "cell_type": "markdown",
   "metadata": {},
   "source": [
    "## Results testing different datasets against 30Hz trained model\n",
    "### 15Hz : 0.617 Mean Absolute error / 100% Accuracy\n",
    "### 20Hz : 0.237 Mean Absolute error / 100% Accuracy\n",
    "### 30Hz : 0.126 Mean Absolute error / 100% Accuracy\n",
    "### Mix speed: 0.237 Mean Absolute error / 99.993% Accuracy"
   ]
  },
  {
   "cell_type": "markdown",
   "metadata": {},
   "source": [
    "## Results testing different datasets against 20Hz trained model\n",
    "### 15Hz : 0.515 Mean Absolute error / 99.99% Accuracy\n",
    "### 20Hz : 0.062 Mean Absolute error / 100% Accuracy\n",
    "### 30Hz : 0.361 Mean Absolute error / 100% Accuracy\n",
    "### Mix speed: 0.062 Mean Absolute error / 99.991% Accuracy"
   ]
  }
 ],
 "metadata": {
  "kernelspec": {
   "display_name": "Python 3",
   "language": "python",
   "name": "python3"
  },
  "language_info": {
   "codemirror_mode": {
    "name": "ipython",
    "version": 3
   },
   "file_extension": ".py",
   "mimetype": "text/x-python",
   "name": "python",
   "nbconvert_exporter": "python",
   "pygments_lexer": "ipython3",
   "version": "3.7.6"
  }
 },
 "nbformat": 4,
 "nbformat_minor": 4
}
