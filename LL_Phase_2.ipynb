{
 "cells": [
  {
   "cell_type": "markdown",
   "metadata": {},
   "source": [
    "### Increasing accuracy for LL fault detection "
   ]
  },
  {
   "cell_type": "code",
   "execution_count": 1,
   "metadata": {},
   "outputs": [],
   "source": [
    "import pandas as pd"
   ]
  },
  {
   "cell_type": "code",
   "execution_count": 2,
   "metadata": {},
   "outputs": [],
   "source": [
    "data_10=pd.read_csv(r'D:\\Acads\\BTP\\Lightly Loaded\\Train10hz2.csv')\n",
    "data_20=pd.read_csv(r'D:\\Acads\\BTP\\Lightly Loaded\\Train20hz2.csv')\n",
    "data_30=pd.read_csv(r'D:\\Acads\\BTP\\Lightly Loaded\\Train30Hz2.csv')\n",
    "data_15=pd.read_csv(r'D:\\Acads\\BTP\\Lightly Loaded\\Train15hz2.csv')\n",
    "data_25=pd.read_csv(r'D:\\Acads\\BTP\\Lightly Loaded\\Train25hz2.csv')"
   ]
  },
  {
   "cell_type": "code",
   "execution_count": 3,
   "metadata": {},
   "outputs": [],
   "source": [
    "data_10=data_10.head(44990)\n",
    "data_15=data_15.head(44990)\n",
    "data_20=data_20.head(44990)\n",
    "data_25=data_25.head(44990)\n",
    "data_30=data_30.head(44990)"
   ]
  },
  {
   "cell_type": "code",
   "execution_count": 4,
   "metadata": {},
   "outputs": [
    {
     "data": {
      "text/plain": [
       "<bound method NDFrame.head of         X_Value  Acceleration  Acceleration_0  Acceleration_1   Voltage  \\\n",
       "0       0.99995     -7.163913       -9.133048        1.168647  0.219481   \n",
       "1       1.00005     -5.477944       -5.267799        8.494781  0.219536   \n",
       "2       1.00010     -5.192873       -3.597126        4.677267  0.215034   \n",
       "3       1.00015     -6.456089       -0.642539       -0.714869  0.219319   \n",
       "4       1.00020     -7.560112       -0.160380       -0.901849  0.215302   \n",
       "...         ...           ...             ...             ...       ...   \n",
       "44985  22.97005     -1.170275       -5.775373       -1.842627  0.050912   \n",
       "44986  22.97010     -0.653728       -5.076016       -1.247748  0.048153   \n",
       "44987  22.97015     -0.420655       -4.634989        0.005724  0.047445   \n",
       "44988  22.97020      0.454597       -3.451386        0.844312  0.045144   \n",
       "44989  22.97025      1.315959       -2.316281       -0.131508  0.043801   \n",
       "\n",
       "       Voltage_0  Voltage_1  Voltage_2  Voltage_3  Comment  \n",
       "0      -0.040324  -0.179814  -0.000203  -0.071628      1.0  \n",
       "1      -0.042410  -0.177541  -0.000232  -0.087897      1.0  \n",
       "2      -0.040464  -0.175856  -0.000230  -0.149075      1.0  \n",
       "3      -0.043950  -0.176298  -0.000185  -0.030444      1.0  \n",
       "4      -0.042333  -0.174312  -0.000253  -0.011648      1.0  \n",
       "...          ...        ...        ...        ...      ...  \n",
       "44985  -0.221746   0.171782  -0.000915   0.064878      3.0  \n",
       "44986  -0.227480   0.178550  -0.000902   0.135720      3.0  \n",
       "44987  -0.221262   0.174950  -0.000922   0.011757      3.0  \n",
       "44988  -0.227672   0.181565  -0.000927  -0.155388      3.0  \n",
       "44989  -0.221145   0.178203  -0.000906   0.017577      3.0  \n",
       "\n",
       "[44990 rows x 10 columns]>"
      ]
     },
     "execution_count": 4,
     "metadata": {},
     "output_type": "execute_result"
    }
   ],
   "source": [
    "data_25.head"
   ]
  },
  {
   "cell_type": "markdown",
   "metadata": {},
   "source": [
    "#### Shuffling"
   ]
  },
  {
   "cell_type": "code",
   "execution_count": 5,
   "metadata": {},
   "outputs": [],
   "source": [
    "data_20=data_20.sample(frac=1)\n",
    "data_30=data_30.sample(frac=1)\n",
    "data_10=data_10.sample(frac=1)\n",
    "data_15=data_15.sample(frac=1)\n",
    "data_25=data_25.sample(frac=1)"
   ]
  },
  {
   "cell_type": "code",
   "execution_count": 6,
   "metadata": {},
   "outputs": [],
   "source": [
    "import sklearn as sk"
   ]
  },
  {
   "cell_type": "markdown",
   "metadata": {},
   "source": [
    "### Assiging X and y for training"
   ]
  },
  {
   "cell_type": "code",
   "execution_count": 7,
   "metadata": {},
   "outputs": [
    {
     "name": "stdout",
     "output_type": "stream",
     "text": [
      "[[ 1.199300e+00 -1.658917e+00  4.646940e-01 ... -1.914430e-01\n",
      "  -3.910000e-04 -3.817900e-02]\n",
      " [ 1.209600e+00  1.007654e+00  2.141630e+00 ... -2.084170e-01\n",
      "  -3.660000e-04 -1.508500e-02]\n",
      " [ 1.210950e+00 -4.044280e-01  6.726840e-01 ... -1.906710e-01\n",
      "  -1.260000e-04 -5.170400e-02]\n",
      " ...\n",
      " [ 2.731200e+00  9.278730e-01 -4.302510e-01 ...  2.188950e-01\n",
      "  -7.150000e-05  2.671600e-02]\n",
      " [ 1.176150e+00 -5.317830e-01 -2.258697e+00 ...  7.820500e-02\n",
      "  -6.870000e-04 -1.688300e-02]\n",
      " [ 2.642550e+00  5.501130e-01 -7.252930e-01 ...  2.321500e-01\n",
      "  -6.590000e-04 -7.920600e-02]]\n",
      "[3. 3. 2. ... 1. 3. 0.]\n"
     ]
    }
   ],
   "source": [
    "dataset_10=data_10.values\n",
    "X_10= dataset_10[:,0:9]\n",
    "print(X_10)\n",
    "y_10=dataset_10[:,9]\n",
    "print(y_10)"
   ]
  },
  {
   "cell_type": "code",
   "execution_count": 8,
   "metadata": {},
   "outputs": [
    {
     "name": "stdout",
     "output_type": "stream",
     "text": [
      "[[ 5.129600e+00 -2.480819e+00 -3.772100e-01 ... -2.132590e-01\n",
      "  -5.090000e-04 -1.091240e-01]\n",
      " [ 1.218100e+00 -1.658056e+00  7.829000e-03 ... -1.512680e-01\n",
      "  -2.130000e-04  2.346300e-02]\n",
      " [ 1.161050e+00  6.119460e-01 -2.381232e+00 ...  1.174240e-01\n",
      "  -6.310000e-04  1.244200e-02]\n",
      " ...\n",
      " [ 1.187100e+00 -2.285700e-02 -7.391670e-01 ...  1.083600e-02\n",
      "  -3.930000e-04 -1.055590e-01]\n",
      " [ 1.221250e+00  1.239252e+00  5.433372e+00 ... -2.007080e-01\n",
      "   7.540000e-04  7.338000e-02]\n",
      " [ 5.004150e+00 -7.058931e+00 -3.329096e+00 ... -1.609230e-01\n",
      "  -3.880000e-04  5.938800e-02]]\n",
      "[2. 2. 3. ... 3. 1. 2.]\n"
     ]
    }
   ],
   "source": [
    "dataset_15=data_15.values\n",
    "X_15= dataset_15[:,0:9]\n",
    "print(X_15)\n",
    "y_15=dataset_15[:,9]\n",
    "print(y_15)"
   ]
  },
  {
   "cell_type": "code",
   "execution_count": 9,
   "metadata": {},
   "outputs": [
    {
     "name": "stdout",
     "output_type": "stream",
     "text": [
      "[[ 1.004000e+00  5.551530e-01  7.841700e-01 ... -8.799000e-03\n",
      "  -1.168000e-03 -4.115000e-02]\n",
      " [ 1.042950e+00 -7.864910e-01 -7.389210e-01 ... -2.355260e-01\n",
      "   2.615000e-03  3.573300e-02]\n",
      " [ 1.137800e+00 -2.318553e+00 -2.593029e+00 ... -2.538800e-02\n",
      "  -5.130000e-04  3.632400e-02]\n",
      " ...\n",
      " [ 1.002900e+00 -4.221736e+00 -4.813880e+00 ... -1.744670e-01\n",
      "  -1.970000e-04  1.087730e-01]\n",
      " [ 1.144550e+00 -1.316972e+01 -8.441182e+00 ... -1.575060e-01\n",
      "   1.015000e-03 -2.997000e-03]\n",
      " [ 1.245980e+01  1.043057e+00  4.414171e+00 ...  1.435400e-01\n",
      "  -9.180000e-04  5.852700e-02]]\n",
      "[0. 0. 4. ... 1. 2. 3.]\n"
     ]
    }
   ],
   "source": [
    "dataset_20=data_20.values\n",
    "X_20= dataset_20[:,0:9]\n",
    "print(X_20)\n",
    "y_20=dataset_20[:,9]\n",
    "print(y_20)"
   ]
  },
  {
   "cell_type": "code",
   "execution_count": 10,
   "metadata": {},
   "outputs": [
    {
     "name": "stdout",
     "output_type": "stream",
     "text": [
      "[[ 1.2507950e+01 -3.8043920e+00 -1.4155626e+01 ... -7.2036000e-02\n",
      "  -2.2700000e-04  5.8586000e-02]\n",
      " [ 1.2464150e+01 -7.2300480e+00 -2.6582240e+00 ...  5.9259000e-02\n",
      "  -2.9700000e-04 -1.2183400e-01]\n",
      " [ 2.2843150e+01 -6.6884800e-01 -3.7094800e-01 ...  2.4486200e-01\n",
      "  -9.5300000e-04  9.4056000e-02]\n",
      " ...\n",
      " [ 1.1970500e+00  2.4740710e+00  2.6833360e+00 ...  2.4254600e-01\n",
      "  -8.1900000e-04  4.2792000e-02]\n",
      " [ 1.2588350e+01  6.0573210e+00  5.8245500e+00 ...  1.8621700e-01\n",
      "  -2.4300000e-04  6.9980000e-03]\n",
      " [ 2.2894950e+01  2.8751870e+00  3.7922890e+00 ... -1.2061500e-01\n",
      "  -7.5900000e-04  1.2753300e-01]]\n",
      "[1. 2. 0. ... 0. 2. 0.]\n"
     ]
    }
   ],
   "source": [
    "dataset_25=data_25.values\n",
    "X_25= dataset_25[:,0:9]\n",
    "print(X_25)\n",
    "y_25=dataset_25[:,9]\n",
    "print(y_25)"
   ]
  },
  {
   "cell_type": "code",
   "execution_count": 11,
   "metadata": {},
   "outputs": [
    {
     "name": "stdout",
     "output_type": "stream",
     "text": [
      "[[ 1.1598000e+00  3.3685000e+00  9.6812050e+00 ... -1.5001600e-01\n",
      "  -4.2900000e-04  1.0445700e-01]\n",
      " [ 1.2688050e+01 -4.7479940e+00  8.1277870e+00 ...  1.5810300e-01\n",
      "  -7.6300000e-04  6.4956000e-02]\n",
      " [ 2.7095000e+00 -9.2448500e+00 -1.0997101e+01 ... -2.1377300e-01\n",
      "  -2.2500000e-04  4.1120000e-03]\n",
      " ...\n",
      " [ 2.7220500e+00 -8.1296400e+00 -2.2238500e-01 ...  2.1899100e-01\n",
      "   8.3600000e-04 -6.7423000e-02]\n",
      " [ 1.2104500e+00  1.0508020e+00 -2.4890330e+00 ...  2.3375000e-01\n",
      "  -1.2570000e-03  1.7188100e-01]\n",
      " [ 1.1081500e+00 -2.3875160e+00 -3.2535870e+00 ...  1.6676700e-01\n",
      "  -7.6200000e-04  2.2472900e-01]]\n",
      "[2. 0. 1. ... 1. 3. 0.]\n"
     ]
    }
   ],
   "source": [
    "dataset_30=data_30.values\n",
    "X_30= dataset_30[:,0:9]\n",
    "print(X_30)\n",
    "y_30=dataset_30[:,9]\n",
    "print(y_30)"
   ]
  },
  {
   "cell_type": "markdown",
   "metadata": {},
   "source": [
    "### Training RF Classifier"
   ]
  },
  {
   "cell_type": "code",
   "execution_count": null,
   "metadata": {},
   "outputs": [],
   "source": [
    "from sklearn.ensemble import RandomForestClassifier\n",
    "rf_10 = RandomForestClassifier(n_estimators = 5000, random_state = 42)\n",
    "rf_10.fit(X_10, y_10);"
   ]
  },
  {
   "cell_type": "code",
   "execution_count": null,
   "metadata": {},
   "outputs": [],
   "source": [
    "from sklearn.ensemble import RandomForestClassifier\n",
    "rf_15 = RandomForestClassifier(n_estimators = 5000, random_state = 42)\n",
    "rf_15.fit(X_15, y_15);"
   ]
  },
  {
   "cell_type": "code",
   "execution_count": null,
   "metadata": {},
   "outputs": [],
   "source": [
    "from sklearn.ensemble import RandomForestClassifier\n",
    "rf_20 = RandomForestClassifier(n_estimators = 5000, random_state = 42)\n",
    "rf_20.fit(X_20, y_20);"
   ]
  },
  {
   "cell_type": "code",
   "execution_count": null,
   "metadata": {},
   "outputs": [],
   "source": [
    "from sklearn.ensemble import RandomForestClassifier\n",
    "rf_25 = RandomForestClassifier(n_estimators = 5000, random_state = 42)\n",
    "rf_25.fit(X_25, y_25);"
   ]
  },
  {
   "cell_type": "code",
   "execution_count": null,
   "metadata": {},
   "outputs": [],
   "source": [
    "from sklearn.ensemble import RandomForestClassifier\n",
    "rf_30 = RandomForestClassifier(n_estimators = 5000, random_state = 42)\n",
    "rf_30.fit(X_30, y_30);"
   ]
  },
  {
   "cell_type": "markdown",
   "metadata": {},
   "source": [
    "### Importing Testing Data"
   ]
  },
  {
   "cell_type": "code",
   "execution_count": 12,
   "metadata": {},
   "outputs": [],
   "source": [
    "test_10=pd.read_csv(r'D:\\Acads\\BTP\\Lightly Loaded\\Test10hz.csv')\n",
    "test_20=pd.read_csv(r'D:\\Acads\\BTP\\Lightly Loaded\\Test20hz.csv')\n",
    "test_30=pd.read_csv(r'D:\\Acads\\BTP\\Lightly Loaded\\Test30Hz.csv')\n",
    "test_15=pd.read_csv(r'D:\\Acads\\BTP\\Lightly Loaded\\Test15hz.csv')\n",
    "test_25=pd.read_csv(r'D:\\Acads\\BTP\\Lightly Loaded\\Test25hz.csv')\n",
    "test_35=pd.read_csv(r'D:\\Acads\\BTP\\Lightly Loaded\\Test35Hz.csv')\n",
    "test_40=pd.read_csv(r'D:\\Acads\\BTP\\Lightly Loaded\\Test40Hz.csv')"
   ]
  },
  {
   "cell_type": "code",
   "execution_count": null,
   "metadata": {},
   "outputs": [],
   "source": [
    "test_10=test_10.head(99990)\n",
    "test_15=test_15.head(99990)\n",
    "test_20=test_20.head(99990)\n",
    "test_25=test_25.head(99990)\n",
    "test_30=test_30.head(99990)\n",
    "test_35=test_35.head(99990)\n",
    "test_40=test_40.head(99990)"
   ]
  },
  {
   "cell_type": "code",
   "execution_count": null,
   "metadata": {},
   "outputs": [],
   "source": [
    "test_20=test_20.sample(frac=1)\n",
    "test_30=test_30.sample(frac=1)\n",
    "test_40=test_40.sample(frac=1)\n",
    "test_10=test_10.sample(frac=1)\n",
    "test_15=test_15.sample(frac=1)\n",
    "test_25=test_25.sample(frac=1)\n",
    "test_35=test_35.sample(frac=1)"
   ]
  },
  {
   "cell_type": "markdown",
   "metadata": {},
   "source": [
    "### Assigning X and y for testing"
   ]
  },
  {
   "cell_type": "code",
   "execution_count": 13,
   "metadata": {},
   "outputs": [
    {
     "name": "stdout",
     "output_type": "stream",
     "text": [
      "[[ 1.074200e+00  1.559481e+00  3.413143e+00 ... -1.846640e-01\n",
      "  -2.090000e-04  1.063100e-02]\n",
      " [ 1.141300e+00 -4.901778e+00 -5.970963e+00 ...  1.963020e-01\n",
      "  -4.060000e-04  4.728900e-02]\n",
      " [ 2.527750e+00  3.726040e-01  1.715950e+00 ...  1.797420e-01\n",
      "  -7.760000e-04 -4.419000e-03]\n",
      " ...\n",
      " [ 1.001755e+01  3.401814e+00  1.865980e-01 ...  1.336170e-01\n",
      "  -3.130000e-04 -3.136300e-02]\n",
      " [ 2.523150e+00  1.582100e+00  2.185585e+00 ...  1.495750e-01\n",
      "   8.650000e-04 -2.926000e-02]\n",
      " [ 1.096550e+00 -1.876624e+00  3.560340e-01 ...  2.133490e-01\n",
      "  -6.770000e-05  4.611900e-02]]\n",
      "[1. 1. 0. ... 3. 1. 4.]\n"
     ]
    }
   ],
   "source": [
    "dataset_test_10 = test_10.values\n",
    "X_test_10 = dataset_test_10[:,0:9]\n",
    "print(X_test_10)\n",
    "\n",
    "y_test_10= dataset_test_10[:,9]\n",
    "print(y_test_10)"
   ]
  },
  {
   "cell_type": "code",
   "execution_count": null,
   "metadata": {},
   "outputs": [],
   "source": [
    "dataset_test_15 = test_15.values\n",
    "X_test_15 = dataset_test_15[:,0:9]\n",
    "print(X_test_15)\n",
    "\n",
    "y_test_15= dataset_test_15[:,9]\n",
    "print(y_test_15)"
   ]
  },
  {
   "cell_type": "code",
   "execution_count": null,
   "metadata": {},
   "outputs": [],
   "source": [
    "dataset_test_20 = test_20.values\n",
    "X_test_20 = dataset_test_20[:,0:9]\n",
    "print(X_test_20)\n",
    "\n",
    "y_test_20= dataset_test_20[:,9]\n",
    "print(y_test_20)"
   ]
  },
  {
   "cell_type": "code",
   "execution_count": null,
   "metadata": {},
   "outputs": [],
   "source": [
    "dataset_test_25 = test_25.values\n",
    "X_test_25 = dataset_test_25[:,0:9]\n",
    "print(X_test_25)\n",
    "\n",
    "y_test_25= dataset_test_25[:,9]\n",
    "print(y_test_25)"
   ]
  },
  {
   "cell_type": "code",
   "execution_count": null,
   "metadata": {},
   "outputs": [],
   "source": [
    "dataset_test_30 = test_30.values\n",
    "X_test_30 = dataset_test_30[:,0:9]\n",
    "print(X_test_30)\n",
    "\n",
    "y_test_30= dataset_test_30[:,9]\n",
    "print(y_test_30)"
   ]
  },
  {
   "cell_type": "code",
   "execution_count": null,
   "metadata": {},
   "outputs": [],
   "source": [
    "dataset_test_35 = test_35.values\n",
    "X_test_35 = dataset_test_35[:,0:9]\n",
    "print(X_test_35)\n",
    "\n",
    "y_test_35= dataset_test_35[:,9]\n",
    "print(y_test_35)"
   ]
  },
  {
   "cell_type": "code",
   "execution_count": null,
   "metadata": {},
   "outputs": [],
   "source": [
    "dataset_test_40 = test_40.values\n",
    "X_test_40 = dataset_test_40[:,0:9]\n",
    "print(X_test_40)\n",
    "\n",
    "y_test_40= dataset_test_40[:,9]\n",
    "print(y_test_40)"
   ]
  },
  {
   "cell_type": "markdown",
   "metadata": {},
   "source": [
    "### Predictions with 10Hz model"
   ]
  },
  {
   "cell_type": "code",
   "execution_count": 14,
   "metadata": {},
   "outputs": [],
   "source": [
    "import numpy as np"
   ]
  },
  {
   "cell_type": "code",
   "execution_count": 15,
   "metadata": {},
   "outputs": [
    {
     "name": "stdout",
     "output_type": "stream",
     "text": [
      "Mean Absolute Error 10Hz with 10Hz: 1.208 degrees.\n",
      "Accuracy: 98.792 %.\n"
     ]
    }
   ],
   "source": [
    "predictions_10 = rf_10.predict(X_test_10)\n",
    "errors_10 = abs(predictions_10 - y_test_10)\n",
    "print('Mean Absolute Error 10Hz with 10Hz:', round(np.mean(errors_10), 3), 'degrees.')\n",
    "\n",
    "accuracy = 100 - np.mean(errors_10)\n",
    "print('Accuracy:', round(accuracy, 3), '%.')"
   ]
  },
  {
   "cell_type": "code",
   "execution_count": null,
   "metadata": {},
   "outputs": [],
   "source": [
    "predictions_15 = rf_10.predict(X_test_15)\n",
    "errors_15 = abs(predictions_15 - y_test_15)\n",
    "print('Mean Absolute Error 15Hz with 10Hz:', round(np.mean(errors_15), 3), 'degrees.')\n",
    "\n",
    "accuracy = 100 - np.mean(errors_15)\n",
    "print('Accuracy:', round(accuracy, 3), '%.')"
   ]
  },
  {
   "cell_type": "code",
   "execution_count": null,
   "metadata": {},
   "outputs": [],
   "source": [
    "predictions_20 = rf_10.predict(X_test_20)\n",
    "errors_20 = abs(predictions_20 - y_test_20)\n",
    "print('Mean Absolute Error 20Hz with 10Hz:', round(np.mean(errors_20), 3), 'degrees.')\n",
    "\n",
    "accuracy = 100 - np.mean(errors_20)\n",
    "print('Accuracy:', round(accuracy, 3), '%.')"
   ]
  },
  {
   "cell_type": "code",
   "execution_count": null,
   "metadata": {},
   "outputs": [],
   "source": [
    "predictions_25 = rf_10.predict(X_test_25)\n",
    "errors_25 = abs(predictions_25 - y_test_25)\n",
    "print('Mean Absolute Error 25Hz with 10Hz:', round(np.mean(errors_25), 3), 'degrees.')\n",
    "\n",
    "accuracy = 100 - np.mean(errors_25)\n",
    "print('Accuracy:', round(accuracy, 3), '%.')"
   ]
  },
  {
   "cell_type": "code",
   "execution_count": null,
   "metadata": {},
   "outputs": [],
   "source": [
    "predictions_30 = rf_10.predict(X_test_30)\n",
    "errors_30 = abs(predictions_30 - y_test_30)\n",
    "print('Mean Absolute Error 30Hz with 10Hz:', round(np.mean(errors_30), 3), 'degrees.')\n",
    "\n",
    "accuracy = 100 - np.mean(errors_30)\n",
    "print('Accuracy:', round(accuracy, 3), '%.')"
   ]
  },
  {
   "cell_type": "code",
   "execution_count": null,
   "metadata": {},
   "outputs": [],
   "source": [
    "predictions_35 = rf_10.predict(X_test_35)\n",
    "errors_35 = abs(predictions_35 - y_test_35)\n",
    "print('Mean Absolute Error 35Hz with 10Hz:', round(np.mean(errors_35), 3), 'degrees.')\n",
    "\n",
    "accuracy = 100 - np.mean(errors_35)\n",
    "print('Accuracy:', round(accuracy, 3), '%.')"
   ]
  },
  {
   "cell_type": "code",
   "execution_count": null,
   "metadata": {},
   "outputs": [],
   "source": [
    "predictions_40 = rf_10.predict(X_test_40)\n",
    "errors_40 = abs(predictions_40 - y_test_40)\n",
    "print('Mean Absolute Error 40Hz with 10Hz:', round(np.mean(errors_40), 3), 'degrees.')\n",
    "\n",
    "accuracy = 100 - np.mean(errors_40)\n",
    "print('Accuracy:', round(accuracy, 3), '%.')"
   ]
  },
  {
   "cell_type": "markdown",
   "metadata": {},
   "source": [
    "### Predictions with 15Hz model"
   ]
  },
  {
   "cell_type": "code",
   "execution_count": null,
   "metadata": {},
   "outputs": [],
   "source": [
    "predictions_10 = rf_15.predict(X_test_10)\n",
    "errors_10 = abs(predictions_10 - y_test_10)\n",
    "print('Mean Absolute Error 10Hz with 15Hz:', round(np.mean(errors_10), 3), 'degrees.')\n",
    "\n",
    "accuracy = 100 - np.mean(errors_10)\n",
    "print('Accuracy:', round(accuracy, 3), '%.')"
   ]
  },
  {
   "cell_type": "code",
   "execution_count": null,
   "metadata": {},
   "outputs": [],
   "source": [
    "predictions_15 = rf_15.predict(X_test_15)\n",
    "errors_15 = abs(predictions_15 - y_test_15)\n",
    "print('Mean Absolute Error 15Hz with 15Hz:', round(np.mean(errors_15), 3), 'degrees.')\n",
    "\n",
    "accuracy = 100 - np.mean(errors_15)\n",
    "print('Accuracy:', round(accuracy, 3), '%.')"
   ]
  },
  {
   "cell_type": "code",
   "execution_count": null,
   "metadata": {},
   "outputs": [],
   "source": [
    "predictions_20 = rf_15.predict(X_test_20)\n",
    "errors_20 = abs(predictions_20 - y_test_20)\n",
    "print('Mean Absolute Error 20Hz with 15Hz:', round(np.mean(errors_20), 3), 'degrees.')\n",
    "\n",
    "accuracy = 100 - np.mean(errors_20)\n",
    "print('Accuracy:', round(accuracy, 3), '%.')"
   ]
  },
  {
   "cell_type": "code",
   "execution_count": null,
   "metadata": {},
   "outputs": [],
   "source": [
    "predictions_25 = rf_15.predict(X_test_25)\n",
    "errors_25 = abs(predictions_25 - y_test_25)\n",
    "print('Mean Absolute Error 25Hz with 15Hz:', round(np.mean(errors_25), 3), 'degrees.')\n",
    "\n",
    "accuracy = 100 - np.mean(errors_25)\n",
    "print('Accuracy:', round(accuracy, 3), '%.')"
   ]
  },
  {
   "cell_type": "code",
   "execution_count": null,
   "metadata": {},
   "outputs": [],
   "source": [
    "predictions_30 = rf_15.predict(X_test_30)\n",
    "errors_30 = abs(predictions_30 - y_test_30)\n",
    "print('Mean Absolute Error 30Hz with 15Hz:', round(np.mean(errors_30), 3), 'degrees.')\n",
    "\n",
    "accuracy = 100 - np.mean(errors_30)\n",
    "print('Accuracy:', round(accuracy, 3), '%.')"
   ]
  },
  {
   "cell_type": "code",
   "execution_count": null,
   "metadata": {},
   "outputs": [],
   "source": [
    "predictions_35 = rf_15.predict(X_test_35)\n",
    "errors_35 = abs(predictions_35 - y_test_35)\n",
    "print('Mean Absolute Error 35Hz with 15Hz:', round(np.mean(errors_35), 3), 'degrees.')\n",
    "\n",
    "accuracy = 100 - np.mean(errors_35)\n",
    "print('Accuracy:', round(accuracy, 3), '%.')"
   ]
  },
  {
   "cell_type": "code",
   "execution_count": null,
   "metadata": {},
   "outputs": [],
   "source": [
    "predictions_40 = rf_15.predict(X_test_40)\n",
    "errors_40 = abs(predictions_40 - y_test_40)\n",
    "print('Mean Absolute Error 40Hz with 15Hz:', round(np.mean(errors_40), 3), 'degrees.')\n",
    "\n",
    "accuracy = 100 - np.mean(errors_40)\n",
    "print('Accuracy:', round(accuracy, 3), '%.')"
   ]
  },
  {
   "cell_type": "markdown",
   "metadata": {},
   "source": [
    "### Predictions with 20Hz model"
   ]
  },
  {
   "cell_type": "code",
   "execution_count": null,
   "metadata": {},
   "outputs": [],
   "source": [
    "predictions_10 = rf_20.predict(X_test_10)\n",
    "errors_10 = abs(predictions_10 - y_test_10)\n",
    "print('Mean Absolute Error 10Hz with 20Hz:', round(np.mean(errors_10), 3), 'degrees.')\n",
    "\n",
    "accuracy = 100 - np.mean(errors_10)\n",
    "print('Accuracy:', round(accuracy, 3), '%.')"
   ]
  },
  {
   "cell_type": "code",
   "execution_count": null,
   "metadata": {},
   "outputs": [],
   "source": [
    "predictions_15 = rf_20.predict(X_test_15)\n",
    "errors_15 = abs(predictions_15 - y_test_15)\n",
    "print('Mean Absolute Error 15Hz with 20Hz:', round(np.mean(errors_15), 3), 'degrees.')\n",
    "\n",
    "accuracy = 100 - np.mean(errors_15)\n",
    "print('Accuracy:', round(accuracy, 3), '%.')"
   ]
  },
  {
   "cell_type": "code",
   "execution_count": null,
   "metadata": {},
   "outputs": [],
   "source": [
    "predictions_20 = rf_20.predict(X_test_20)\n",
    "errors_20 = abs(predictions_20 - y_test_20)\n",
    "print('Mean Absolute Error 20Hz with 20Hz:', round(np.mean(errors_20), 3), 'degrees.')\n",
    "\n",
    "accuracy = 100 - np.mean(errors_20)\n",
    "print('Accuracy:', round(accuracy, 3), '%.')"
   ]
  },
  {
   "cell_type": "code",
   "execution_count": null,
   "metadata": {},
   "outputs": [],
   "source": [
    "predictions_25 = rf_20.predict(X_test_25)\n",
    "errors_25 = abs(predictions_25 - y_test_25)\n",
    "print('Mean Absolute Error 25Hz with 20Hz:', round(np.mean(errors_25), 3), 'degrees.')\n",
    "\n",
    "accuracy = 100 - np.mean(errors_25)\n",
    "print('Accuracy:', round(accuracy, 3), '%.')"
   ]
  },
  {
   "cell_type": "code",
   "execution_count": null,
   "metadata": {},
   "outputs": [],
   "source": [
    "predictions_30 = rf_20.predict(X_test_30)\n",
    "errors_30 = abs(predictions_30 - y_test_30)\n",
    "print('Mean Absolute Error 30Hz with 20Hz:', round(np.mean(errors_30), 3), 'degrees.')\n",
    "\n",
    "accuracy = 100 - np.mean(errors_30)\n",
    "print('Accuracy:', round(accuracy, 3), '%.')"
   ]
  },
  {
   "cell_type": "code",
   "execution_count": null,
   "metadata": {},
   "outputs": [],
   "source": [
    "predictions_35 = rf_20.predict(X_test_35)\n",
    "errors_35 = abs(predictions_35 - y_test_35)\n",
    "print('Mean Absolute Error 35Hz with 20Hz:', round(np.mean(errors_35), 3), 'degrees.')\n",
    "\n",
    "accuracy = 100 - np.mean(errors_35)\n",
    "print('Accuracy:', round(accuracy, 3), '%.')"
   ]
  },
  {
   "cell_type": "code",
   "execution_count": null,
   "metadata": {},
   "outputs": [],
   "source": [
    "predictions_40 = rf_20.predict(X_test_40)\n",
    "errors_40 = abs(predictions_40 - y_test_40)\n",
    "print('Mean Absolute Error 40Hz with 20Hz:', round(np.mean(errors_40), 3), 'degrees.')\n",
    "\n",
    "accuracy = 100 - np.mean(errors_40)\n",
    "print('Accuracy:', round(accuracy, 3), '%.')"
   ]
  },
  {
   "cell_type": "markdown",
   "metadata": {},
   "source": [
    "### Predictions with 25Hz model"
   ]
  },
  {
   "cell_type": "code",
   "execution_count": null,
   "metadata": {},
   "outputs": [],
   "source": [
    "predictions_10 = rf_25.predict(X_test_10)\n",
    "errors_10 = abs(predictions_10 - y_test_10)\n",
    "print('Mean Absolute Error 10Hz with 25Hz:', round(np.mean(errors_10), 3), 'degrees.')\n",
    "\n",
    "accuracy = 100 - np.mean(errors_10)\n",
    "print('Accuracy:', round(accuracy, 3), '%.')"
   ]
  },
  {
   "cell_type": "code",
   "execution_count": null,
   "metadata": {},
   "outputs": [],
   "source": [
    "predictions_15 = rf_25.predict(X_test_15)\n",
    "errors_15 = abs(predictions_15 - y_test_15)\n",
    "print('Mean Absolute Error 15Hz with 25Hz:', round(np.mean(errors_15), 3), 'degrees.')\n",
    "\n",
    "accuracy = 100 - np.mean(errors_15)\n",
    "print('Accuracy:', round(accuracy, 3), '%.')"
   ]
  },
  {
   "cell_type": "code",
   "execution_count": null,
   "metadata": {},
   "outputs": [],
   "source": [
    "predictions_20 = rf_25.predict(X_test_20)\n",
    "errors_20 = abs(predictions_20 - y_test_20)\n",
    "print('Mean Absolute Error 20Hz with 25Hz:', round(np.mean(errors_20), 3), 'degrees.')\n",
    "\n",
    "accuracy = 100 - np.mean(errors_20)\n",
    "print('Accuracy:', round(accuracy, 3), '%.')"
   ]
  },
  {
   "cell_type": "code",
   "execution_count": null,
   "metadata": {},
   "outputs": [],
   "source": [
    "predictions_25 = rf_25.predict(X_test_25)\n",
    "errors_25 = abs(predictions_25 - y_test_25)\n",
    "print('Mean Absolute Error 25Hz with 25Hz:', round(np.mean(errors_25), 3), 'degrees.')\n",
    "\n",
    "accuracy = 100 - np.mean(errors_25)\n",
    "print('Accuracy:', round(accuracy, 3), '%.')"
   ]
  },
  {
   "cell_type": "code",
   "execution_count": null,
   "metadata": {},
   "outputs": [],
   "source": [
    "predictions_30 = rf_25.predict(X_test_30)\n",
    "errors_30 = abs(predictions_30 - y_test_30)\n",
    "print('Mean Absolute Error 30Hz with 25Hz:', round(np.mean(errors_30), 3), 'degrees.')\n",
    "\n",
    "accuracy = 100 - np.mean(errors_30)\n",
    "print('Accuracy:', round(accuracy, 3), '%.')"
   ]
  },
  {
   "cell_type": "code",
   "execution_count": null,
   "metadata": {},
   "outputs": [],
   "source": [
    "predictions_35 = rf_25.predict(X_test_35)\n",
    "errors_35 = abs(predictions_35 - y_test_35)\n",
    "print('Mean Absolute Error 35Hz with 25Hz:', round(np.mean(errors_35), 3), 'degrees.')\n",
    "\n",
    "accuracy = 100 - np.mean(errors_35)\n",
    "print('Accuracy:', round(accuracy, 3), '%.')"
   ]
  },
  {
   "cell_type": "code",
   "execution_count": null,
   "metadata": {},
   "outputs": [],
   "source": [
    "predictions_40 = rf_25.predict(X_test_40)\n",
    "errors_40 = abs(predictions_40 - y_test_40)\n",
    "print('Mean Absolute Error 40Hz with 25Hz:', round(np.mean(errors_40), 3), 'degrees.')\n",
    "\n",
    "accuracy = 100 - np.mean(errors_40)\n",
    "print('Accuracy:', round(accuracy, 3), '%.')"
   ]
  },
  {
   "cell_type": "markdown",
   "metadata": {},
   "source": [
    "### Predictions with 30Hz model"
   ]
  },
  {
   "cell_type": "code",
   "execution_count": null,
   "metadata": {},
   "outputs": [],
   "source": [
    "predictions_10 = rf_30.predict(X_test_10)\n",
    "errors_10 = abs(predictions_10 - y_test_10)\n",
    "print('Mean Absolute Error 10Hz with 30Hz:', round(np.mean(errors_10), 3), 'degrees.')\n",
    "\n",
    "accuracy = 100 - np.mean(errors_10)\n",
    "print('Accuracy:', round(accuracy, 3), '%.')"
   ]
  },
  {
   "cell_type": "code",
   "execution_count": null,
   "metadata": {},
   "outputs": [],
   "source": [
    "predictions_15 = rf_30.predict(X_test_15)\n",
    "errors_15 = abs(predictions_15 - y_test_15)\n",
    "print('Mean Absolute Error 15Hz with 30Hz:', round(np.mean(errors_15), 3), 'degrees.')\n",
    "\n",
    "accuracy = 100 - np.mean(errors_15)\n",
    "print('Accuracy:', round(accuracy, 3), '%.')"
   ]
  },
  {
   "cell_type": "code",
   "execution_count": null,
   "metadata": {},
   "outputs": [],
   "source": [
    "predictions_20 = rf_30.predict(X_test_20)\n",
    "errors_20 = abs(predictions_20 - y_test_20)\n",
    "print('Mean Absolute Error 20Hz with 30Hz:', round(np.mean(errors_20), 3), 'degrees.')\n",
    "\n",
    "accuracy = 100 - np.mean(errors_20)\n",
    "print('Accuracy:', round(accuracy, 3), '%.')"
   ]
  },
  {
   "cell_type": "code",
   "execution_count": null,
   "metadata": {},
   "outputs": [],
   "source": [
    "predictions_25 = rf_30.predict(X_test_25)\n",
    "errors_25 = abs(predictions_25 - y_test_25)\n",
    "print('Mean Absolute Error 25Hz with 30Hz:', round(np.mean(errors_25), 3), 'degrees.')\n",
    "\n",
    "accuracy = 100 - np.mean(errors_25)\n",
    "print('Accuracy:', round(accuracy, 3), '%.')"
   ]
  },
  {
   "cell_type": "code",
   "execution_count": null,
   "metadata": {},
   "outputs": [],
   "source": [
    "predictions_30 = rf_30.predict(X_test_30)\n",
    "errors_30 = abs(predictions_30 - y_test_30)\n",
    "print('Mean Absolute Error 30Hz with 30Hz:', round(np.mean(errors_30), 3), 'degrees.')\n",
    "\n",
    "accuracy = 100 - np.mean(errors_30)\n",
    "print('Accuracy:', round(accuracy, 3), '%.')"
   ]
  },
  {
   "cell_type": "code",
   "execution_count": null,
   "metadata": {},
   "outputs": [],
   "source": [
    "predictions_35 = rf_30.predict(X_test_35)\n",
    "errors_35 = abs(predictions_35 - y_test_35)\n",
    "print('Mean Absolute Error 35Hz with 30Hz:', round(np.mean(errors_35), 3), 'degrees.')\n",
    "\n",
    "accuracy = 100 - np.mean(errors_35)\n",
    "print('Accuracy:', round(accuracy, 3), '%.')"
   ]
  },
  {
   "cell_type": "code",
   "execution_count": null,
   "metadata": {},
   "outputs": [],
   "source": [
    "predictions_40 = rf_30.predict(X_test_40)\n",
    "errors_40 = abs(predictions_40 - y_test_40)\n",
    "print('Mean Absolute Error 40Hz with 30Hz:', round(np.mean(errors_40), 3), 'degrees.')\n",
    "\n",
    "accuracy = 100 - np.mean(errors_40)\n",
    "print('Accuracy:', round(accuracy, 3), '%.')"
   ]
  }
 ],
 "metadata": {
  "kernelspec": {
   "display_name": "Python 3",
   "language": "python",
   "name": "python3"
  },
  "language_info": {
   "codemirror_mode": {
    "name": "ipython",
    "version": 3
   },
   "file_extension": ".py",
   "mimetype": "text/x-python",
   "name": "python",
   "nbconvert_exporter": "python",
   "pygments_lexer": "ipython3",
   "version": "3.7.6"
  }
 },
 "nbformat": 4,
 "nbformat_minor": 4
}
