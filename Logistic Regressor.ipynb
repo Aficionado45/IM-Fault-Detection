{
 "cells": [
  {
   "cell_type": "code",
   "execution_count": 1,
   "metadata": {},
   "outputs": [],
   "source": [
    "import pandas as pd"
   ]
  },
  {
   "cell_type": "code",
   "execution_count": 18,
   "metadata": {},
   "outputs": [],
   "source": [
    "data= pd.read_csv(r'D:\\Acads\\BTP\\Train\\Train10Hz.csv')\n",
    "data= data.sample(frac=1)"
   ]
  },
  {
   "cell_type": "code",
   "execution_count": 19,
   "metadata": {},
   "outputs": [],
   "source": [
    "data=data.head(5000)"
   ]
  },
  {
   "cell_type": "code",
   "execution_count": 20,
   "metadata": {},
   "outputs": [
    {
     "name": "stdout",
     "output_type": "stream",
     "text": [
      "[[ 2.528500e-01 -1.734272e+00  1.641280e-01 ... -1.657480e-01\n",
      "   8.930000e-06  2.043500e-02]\n",
      " [ 4.124500e-01 -1.611343e+00  6.136100e-02 ...  1.611780e-01\n",
      "  -2.670000e-04  1.027660e-01]\n",
      " [ 2.575000e-02 -8.048080e-01 -1.954447e+00 ... -1.693220e-01\n",
      "   1.084000e-03 -4.178700e-02]\n",
      " ...\n",
      " [ 2.316500e-01 -3.516920e-01  6.362190e-01 ...  1.768350e-01\n",
      "  -3.180000e-04  6.238800e-02]\n",
      " [ 1.674000e-01 -7.859990e-01 -6.362770e-01 ... -5.606100e-02\n",
      "  -3.940000e-04 -2.930700e-02]\n",
      " [ 1.320000e-01 -8.592000e-02  4.396480e-01 ...  1.983380e-01\n",
      "   3.602000e-03  3.165900e-02]]\n",
      "[0. 1. 4. ... 3. 2. 3.]\n"
     ]
    }
   ],
   "source": [
    "dataset = data.values\n",
    "X = dataset[:,0:9]\n",
    "print(X)\n",
    "\n",
    "y= dataset[:,9]\n",
    "print(y)"
   ]
  },
  {
   "cell_type": "code",
   "execution_count": 21,
   "metadata": {},
   "outputs": [],
   "source": [
    "\n",
    "from sklearn.linear_model import LogisticRegression"
   ]
  },
  {
   "cell_type": "code",
   "execution_count": 22,
   "metadata": {},
   "outputs": [],
   "source": [
    "clf = LogisticRegression(random_state=0).fit(X, y)"
   ]
  },
  {
   "cell_type": "code",
   "execution_count": 24,
   "metadata": {},
   "outputs": [
    {
     "data": {
      "text/plain": [
       "array([[ 0.11644811, -0.00378316,  0.02897812,  0.05815292, -0.2095722 ,\n",
       "         0.03656064,  0.13488621,  0.06430694, -0.30082507],\n",
       "       [ 0.11498367, -0.03143088,  0.061068  ,  0.14406933,  0.12085781,\n",
       "         0.11490424, -0.10030165, -0.03884693,  0.21518111],\n",
       "       [-0.30148139, -0.00997629, -0.04416872, -0.08080581,  0.05959852,\n",
       "         0.03135368, -0.1204529 , -0.03518162,  0.21740197],\n",
       "       [-0.01027661, -0.03037203, -0.02366553, -0.15262954, -0.0550283 ,\n",
       "        -0.08280498, -0.04361174,  0.04110318, -0.2847761 ],\n",
       "       [ 0.08032622,  0.07556236, -0.02221186,  0.0312131 ,  0.08414418,\n",
       "        -0.10001358,  0.12948009, -0.03138157,  0.15301809]])"
      ]
     },
     "execution_count": 24,
     "metadata": {},
     "output_type": "execute_result"
    }
   ],
   "source": [
    "clf.coef_"
   ]
  },
  {
   "cell_type": "code",
   "execution_count": 32,
   "metadata": {},
   "outputs": [],
   "source": [
    "data2= pd.read_csv(r'D:\\Acads\\BTP\\Train\\Train15Hz.csv')\n",
    "data2=data2.sample(frac=1)"
   ]
  },
  {
   "cell_type": "code",
   "execution_count": 38,
   "metadata": {},
   "outputs": [],
   "source": [
    "data2=data2.head(2000)"
   ]
  },
  {
   "cell_type": "code",
   "execution_count": 39,
   "metadata": {},
   "outputs": [
    {
     "name": "stdout",
     "output_type": "stream",
     "text": [
      "[[ 5.663000e-01 -1.128602e+00 -3.241432e+00 ...  2.106110e-01\n",
      "  -1.530000e-04 -1.020130e-01]\n",
      " [ 4.908500e-01 -1.678708e+00  2.358951e+00 ...  2.168200e-02\n",
      "   1.110000e-04 -1.205750e-01]\n",
      " [ 8.408000e-01 -1.032718e+00 -6.608330e-01 ...  2.113110e-01\n",
      "  -2.690000e-04  2.035800e-02]\n",
      " ...\n",
      " [ 1.740000e-02 -2.384566e+00 -2.495541e+00 ... -7.912800e-02\n",
      "   3.504000e-03  2.574500e-02]\n",
      " [ 9.534000e-01  7.813420e-01 -3.797890e-01 ... -1.972270e-01\n",
      "  -2.410000e-04  2.963000e-03]\n",
      " [ 2.244000e-01 -2.017190e-01 -1.423791e+00 ...  6.628500e-02\n",
      "  -5.210000e-04  4.264000e-03]]\n",
      "[1. 0. 2. ... 3. 4. 3.]\n"
     ]
    }
   ],
   "source": [
    "dataset2 = data2.values\n",
    "X1 = dataset2[:,0:9]\n",
    "print(X1)\n",
    "\n",
    "y1= dataset2[:,9]\n",
    "print(y1)"
   ]
  },
  {
   "cell_type": "code",
   "execution_count": 40,
   "metadata": {},
   "outputs": [
    {
     "name": "stderr",
     "output_type": "stream",
     "text": [
      "C:\\ProgramData\\Anaconda3\\lib\\site-packages\\sklearn\\linear_model\\_logistic.py:940: ConvergenceWarning: lbfgs failed to converge (status=1):\n",
      "STOP: TOTAL NO. of ITERATIONS REACHED LIMIT.\n",
      "\n",
      "Increase the number of iterations (max_iter) or scale the data as shown in:\n",
      "    https://scikit-learn.org/stable/modules/preprocessing.html\n",
      "Please also refer to the documentation for alternative solver options:\n",
      "    https://scikit-learn.org/stable/modules/linear_model.html#logistic-regression\n",
      "  extra_warning_msg=_LOGISTIC_SOLVER_CONVERGENCE_MSG)\n"
     ]
    }
   ],
   "source": [
    "clf2 = LogisticRegression(random_state=0).fit(X1, y1)"
   ]
  },
  {
   "cell_type": "code",
   "execution_count": 36,
   "metadata": {},
   "outputs": [
    {
     "data": {
      "text/plain": [
       "array([[ 5.95508898e-02,  1.84721828e-03,  1.57558470e-02,\n",
       "         3.90695900e-02,  1.68173030e-01, -9.46074642e-02,\n",
       "        -6.25957967e-02,  4.12075338e-02,  1.94944680e-01],\n",
       "       [-1.43143678e-02,  1.20794377e-02,  8.39973855e-04,\n",
       "         6.66892719e-02,  1.19980875e-02, -8.22704796e-02,\n",
       "         1.04227982e-01,  1.13279661e-03, -1.66558237e-01],\n",
       "       [-9.09223819e-02, -1.67080244e-02, -8.43071937e-03,\n",
       "        -5.08800456e-02, -8.70694500e-02,  4.74227845e-02,\n",
       "         2.60974991e-02, -8.99408860e-03,  7.92174838e-01],\n",
       "       [ 6.82271378e-02, -1.18980737e-02, -1.47671056e-02,\n",
       "        -6.86550508e-02, -1.02285672e-01, -2.24464253e-02,\n",
       "         4.35626285e-02, -3.80685621e-02,  1.47015105e-01],\n",
       "       [-2.25412780e-02,  1.46794420e-02,  6.60200409e-03,\n",
       "         1.37762346e-02,  9.18400508e-03,  1.51901585e-01,\n",
       "        -1.11292313e-01,  4.72232034e-03, -9.67576386e-01]])"
      ]
     },
     "execution_count": 36,
     "metadata": {},
     "output_type": "execute_result"
    }
   ],
   "source": [
    "clf2.coef_"
   ]
  },
  {
   "cell_type": "code",
   "execution_count": 37,
   "metadata": {},
   "outputs": [
    {
     "data": {
      "text/plain": [
       "array([[ 0.11644811, -0.00378316,  0.02897812,  0.05815292, -0.2095722 ,\n",
       "         0.03656064,  0.13488621,  0.06430694, -0.30082507],\n",
       "       [ 0.11498367, -0.03143088,  0.061068  ,  0.14406933,  0.12085781,\n",
       "         0.11490424, -0.10030165, -0.03884693,  0.21518111],\n",
       "       [-0.30148139, -0.00997629, -0.04416872, -0.08080581,  0.05959852,\n",
       "         0.03135368, -0.1204529 , -0.03518162,  0.21740197],\n",
       "       [-0.01027661, -0.03037203, -0.02366553, -0.15262954, -0.0550283 ,\n",
       "        -0.08280498, -0.04361174,  0.04110318, -0.2847761 ],\n",
       "       [ 0.08032622,  0.07556236, -0.02221186,  0.0312131 ,  0.08414418,\n",
       "        -0.10001358,  0.12948009, -0.03138157,  0.15301809]])"
      ]
     },
     "execution_count": 37,
     "metadata": {},
     "output_type": "execute_result"
    }
   ],
   "source": [
    "clf.coef_\n"
   ]
  },
  {
   "cell_type": "code",
   "execution_count": null,
   "metadata": {},
   "outputs": [],
   "source": []
  }
 ],
 "metadata": {
  "kernelspec": {
   "display_name": "Python 3",
   "language": "python",
   "name": "python3"
  },
  "language_info": {
   "codemirror_mode": {
    "name": "ipython",
    "version": 3
   },
   "file_extension": ".py",
   "mimetype": "text/x-python",
   "name": "python",
   "nbconvert_exporter": "python",
   "pygments_lexer": "ipython3",
   "version": "3.7.6"
  }
 },
 "nbformat": 4,
 "nbformat_minor": 4
}
