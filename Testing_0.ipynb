{
 "cells": [
  {
   "cell_type": "code",
   "execution_count": 1,
   "source": [
    "# Testing random forest classifier for binary operation by taking 10Hz ND and BF \r\n",
    "# fault of IM and training ML model through 1000 row each data."
   ],
   "outputs": [],
   "metadata": {}
  },
  {
   "cell_type": "code",
   "execution_count": 2,
   "source": [
    "import pandas as pd"
   ],
   "outputs": [],
   "metadata": {}
  },
  {
   "cell_type": "code",
   "execution_count": 3,
   "source": [
    "data= pd.read_csv(r'D:\\Acads\\BTP\\Train\\Train10hzbf_nd.csv')"
   ],
   "outputs": [],
   "metadata": {}
  },
  {
   "cell_type": "code",
   "execution_count": 4,
   "source": [
    "data.head\r\n"
   ],
   "outputs": [
    {
     "output_type": "execute_result",
     "data": {
      "text/plain": [
       "<bound method NDFrame.head of       X_Value  Acceleration  Acceleration_0  Acceleration_1   Voltage  \\\n",
       "0     0.00000     -0.768912        0.590422       -1.190895  0.004234   \n",
       "1     0.00005     -1.456453        0.116244       -1.325922  0.001663   \n",
       "2     0.00010     -0.488512        1.316790       -0.074655  0.002593   \n",
       "3     0.00015     -1.360815        0.575074       -0.073920  0.000438   \n",
       "4     0.00020     -0.395823        1.919520        0.047996  0.000992   \n",
       "...       ...           ...             ...             ...       ...   \n",
       "2186  0.05940      0.615634        0.107036        0.480646  0.209599   \n",
       "2187  0.05945      0.063315       -0.632962       -0.053580  0.210980   \n",
       "2188  0.05950      0.723442       -0.051842        0.409335  0.208848   \n",
       "2189  0.05955     -0.010442       -0.758689       -0.492112  0.209595   \n",
       "2190  0.05960      0.628787       -0.051106       -0.127098  0.207959   \n",
       "\n",
       "      Voltage_0  Voltage_1  Voltage_2  Voltage_3  Identity  \n",
       "0     -0.178414   0.174913  -0.000166   0.016538         0  \n",
       "1     -0.179898   0.179547  -0.000126  -0.055457         0  \n",
       "2     -0.177713   0.175572  -0.000134  -0.033742         0  \n",
       "3     -0.178693   0.180163  -0.000126  -0.001972         0  \n",
       "4     -0.176762   0.176239  -0.000107  -0.061004         0  \n",
       "...         ...        ...        ...        ...       ...  \n",
       "2186  -0.068040  -0.142220   0.000068   0.150513         1  \n",
       "2187  -0.069085  -0.142639   0.000048   0.146614         1  \n",
       "2188  -0.068196  -0.141503   0.000102   0.148863         1  \n",
       "2189  -0.069709  -0.141495   0.000082   0.140224         1  \n",
       "2190  -0.067961  -0.140441   0.000047   0.150192         1  \n",
       "\n",
       "[2191 rows x 10 columns]>"
      ]
     },
     "metadata": {},
     "execution_count": 4
    }
   ],
   "metadata": {}
  },
  {
   "cell_type": "code",
   "execution_count": 5,
   "source": [
    "# shuffling test data\r\n",
    "data= data.sample(frac=1)\r\n",
    "data.head"
   ],
   "outputs": [
    {
     "output_type": "execute_result",
     "data": {
      "text/plain": [
       "<bound method NDFrame.head of       X_Value  Acceleration  Acceleration_0  Acceleration_1   Voltage  \\\n",
       "960   0.04800     -1.202605        0.625905       -0.935054 -0.012412   \n",
       "734   0.03670      1.063095        2.899798       -2.408711 -0.135684   \n",
       "1023  0.00125     -0.409837       -0.625718       -0.324982 -0.182585   \n",
       "1647  0.03245     -0.678437       -0.205072       -0.416021 -0.061282   \n",
       "1999  0.05005     -0.711259       -0.950226       -1.081476  0.156815   \n",
       "...       ...           ...             ...             ...       ...   \n",
       "1111  0.00565      0.146169        0.878833       -0.048312 -0.220386   \n",
       "1392  0.01970      0.295035       -1.119418       -0.240070 -0.200002   \n",
       "1035  0.00185      0.027912       -0.635541       -0.306725 -0.187970   \n",
       "1798  0.04000     -1.925058       -1.223413       -1.450657  0.045652   \n",
       "427   0.02135     -0.791777        1.520115       -0.073308 -0.194204   \n",
       "\n",
       "      Voltage_0  Voltage_1  Voltage_2  Voltage_3  Identity  \n",
       "960    0.181826  -0.170975   0.000761  -0.006327         0  \n",
       "734    0.193430  -0.057698   0.000910   0.010556         0  \n",
       "1023  -0.033640   0.216093   0.000300   0.074936         1  \n",
       "1647   0.216847  -0.156181  -0.000029   0.039020         1  \n",
       "1999   0.049266  -0.208144   0.000082  -1.019260         1  \n",
       "...         ...        ...        ...        ...       ...  \n",
       "1111   0.031549   0.188892   0.000329   0.039814         1  \n",
       "1392   0.190927   0.008761  -0.000032   0.033295         1  \n",
       "1035  -0.026349   0.213533   0.000338   0.043744         1  \n",
       "1798   0.166187  -0.214594   0.000056   0.011391         1  \n",
       "427    0.061141   0.132459  -0.000093   0.087656         0  \n",
       "\n",
       "[2191 rows x 10 columns]>"
      ]
     },
     "metadata": {},
     "execution_count": 5
    }
   ],
   "metadata": {}
  },
  {
   "cell_type": "code",
   "execution_count": 6,
   "source": [
    "import sklearn as sk"
   ],
   "outputs": [],
   "metadata": {}
  },
  {
   "cell_type": "code",
   "execution_count": 7,
   "source": [
    "# Assigning Time, Acceleration, Voltage readings as X parameter\r\n",
    "\r\n",
    "dataset = data.values\r\n",
    "X = dataset[:,0:9]\r\n",
    "print(X)"
   ],
   "outputs": [
    {
     "output_type": "stream",
     "name": "stdout",
     "text": [
      "[[ 4.800000e-02 -1.202605e+00  6.259050e-01 ... -1.709750e-01\n",
      "   7.610000e-04 -6.327000e-03]\n",
      " [ 3.670000e-02  1.063095e+00  2.899798e+00 ... -5.769800e-02\n",
      "   9.100000e-04  1.055600e-02]\n",
      " [ 1.250000e-03 -4.098370e-01 -6.257180e-01 ...  2.160930e-01\n",
      "   3.000000e-04  7.493600e-02]\n",
      " ...\n",
      " [ 1.850000e-03  2.791200e-02 -6.355410e-01 ...  2.135330e-01\n",
      "   3.380000e-04  4.374400e-02]\n",
      " [ 4.000000e-02 -1.925058e+00 -1.223413e+00 ... -2.145940e-01\n",
      "   5.620000e-05  1.139100e-02]\n",
      " [ 2.135000e-02 -7.917770e-01  1.520115e+00 ...  1.324590e-01\n",
      "  -9.320000e-05  8.765600e-02]]\n"
     ]
    }
   ],
   "metadata": {}
  },
  {
   "cell_type": "code",
   "execution_count": 8,
   "source": [
    "# Assigning identity signature as Y parameter\r\n",
    "\r\n",
    "y= dataset[:,9]\r\n",
    "print(y)"
   ],
   "outputs": [
    {
     "output_type": "stream",
     "name": "stdout",
     "text": [
      "[0. 0. 1. ... 1. 1. 0.]\n"
     ]
    }
   ],
   "metadata": {}
  },
  {
   "cell_type": "code",
   "execution_count": 27,
   "source": [
    "#Split data set into train and testing data\r\n",
    "\r\n",
    "from sklearn.model_selection import train_test_split\r\n",
    "X_train, X_test, y_train, y_test = train_test_split(\r\n",
    "    X, y, test_size=0.95, random_state=42)"
   ],
   "outputs": [],
   "metadata": {}
  },
  {
   "cell_type": "code",
   "execution_count": 31,
   "source": [
    "# Training random forest classifier\r\n",
    "\r\n",
    "from sklearn.ensemble import RandomForestClassifier\r\n",
    "rf = RandomForestClassifier(n_estimators = 1000, random_state = 0)\r\n",
    "rf.fit(X_train, y_train);"
   ],
   "outputs": [],
   "metadata": {}
  },
  {
   "cell_type": "code",
   "execution_count": 32,
   "source": [
    "# Predicting errors by sampling against test data identification result\r\n",
    "\r\n",
    "import numpy as np\r\n",
    "predictions = rf.predict(X_test)\r\n",
    "errors = abs(predictions - y_test)\r\n",
    "print('Mean Absolute Error:', round(np.mean(errors), 2), 'degrees.')"
   ],
   "outputs": [
    {
     "output_type": "stream",
     "name": "stdout",
     "text": [
      "Mean Absolute Error: 0.01 degrees.\n"
     ]
    }
   ],
   "metadata": {}
  },
  {
   "cell_type": "code",
   "execution_count": 35,
   "source": [
    "# Calculating model accuracy through adjusting hyperparameters\r\n",
    "\r\n",
    "\r\n",
    "accuracy = 100 - np.mean(errors)\r\n",
    "print('Accuracy:', round(accuracy, 2), '%.')"
   ],
   "outputs": [
    {
     "output_type": "stream",
     "name": "stdout",
     "text": [
      "Accuracy: 99.99 %.\n"
     ]
    }
   ],
   "metadata": {}
  },
  {
   "cell_type": "code",
   "execution_count": 43,
   "source": [
    "# Result: Upto 70% test size: 0 Mean absolute error\r\n",
    "#         70%-95% test size: 0.01 Mean absolute error\r\n",
    "#         95%              : 0.02 Mean absolute error\r\n",
    "#         99%              : 0.24 Mean absolute error"
   ],
   "outputs": [],
   "metadata": {}
  }
 ],
 "metadata": {
  "kernelspec": {
   "name": "python3",
   "display_name": "Python 3.9.0 64-bit"
  },
  "language_info": {
   "codemirror_mode": {
    "name": "ipython",
    "version": 3
   },
   "file_extension": ".py",
   "mimetype": "text/x-python",
   "name": "python",
   "nbconvert_exporter": "python",
   "pygments_lexer": "ipython3",
   "version": "3.9.0"
  },
  "interpreter": {
   "hash": "4d86372cfb1be11e6142bae3d72b1b3dd652af7b694241e6e9cb8e4bdf71981c"
  }
 },
 "nbformat": 4,
 "nbformat_minor": 4
}