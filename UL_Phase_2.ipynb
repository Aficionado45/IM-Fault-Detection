{
 "cells": [
  {
   "cell_type": "markdown",
   "metadata": {},
   "source": []
  },
  {
   "cell_type": "markdown",
   "metadata": {},
   "source": [
    "### Testing random forest classifier for general classification of 5 types of  faults in IM by taking 10Hz recorded data for ND, BF, BRF, RM, UR.\n",
    "\n",
    "### Dataset consists of 10000 rows each for all the specified IM faults. Comparing RF classifier result with SVM linear and radial kernals.\n",
    "\n"
   ]
  },
  {
   "cell_type": "code",
   "execution_count": 1,
   "metadata": {},
   "outputs": [],
   "source": [
    "import pandas as pd"
   ]
  },
  {
   "cell_type": "code",
   "execution_count": 2,
   "metadata": {},
   "outputs": [],
   "source": [
    "data_test=pd.read_csv(r'D:\\Acads\\BTP\\Train\\Train10hzbf_nd.csv')"
   ]
  },
  {
   "cell_type": "code",
   "execution_count": 3,
   "metadata": {},
   "outputs": [
    {
     "data": {
      "text/plain": [
       "<bound method NDFrame.head of       X_Value  Acceleration  Acceleration_0  Acceleration_1   Voltage  \\\n",
       "0     0.00000     -0.768912        0.590422       -1.190895  0.004234   \n",
       "1     0.00005     -1.456453        0.116244       -1.325922  0.001663   \n",
       "2     0.00010     -0.488512        1.316790       -0.074655  0.002593   \n",
       "3     0.00015     -1.360815        0.575074       -0.073920  0.000438   \n",
       "4     0.00020     -0.395823        1.919520        0.047996  0.000992   \n",
       "...       ...           ...             ...             ...       ...   \n",
       "2186  0.05940      0.615634        0.107036        0.480646  0.209599   \n",
       "2187  0.05945      0.063315       -0.632962       -0.053580  0.210980   \n",
       "2188  0.05950      0.723442       -0.051842        0.409335  0.208848   \n",
       "2189  0.05955     -0.010442       -0.758689       -0.492112  0.209595   \n",
       "2190  0.05960      0.628787       -0.051106       -0.127098  0.207959   \n",
       "\n",
       "      Voltage_0  Voltage_1  Voltage_2  Voltage_3  Identity  \n",
       "0     -0.178414   0.174913  -0.000166   0.016538         0  \n",
       "1     -0.179898   0.179547  -0.000126  -0.055457         0  \n",
       "2     -0.177713   0.175572  -0.000134  -0.033742         0  \n",
       "3     -0.178693   0.180163  -0.000126  -0.001972         0  \n",
       "4     -0.176762   0.176239  -0.000107  -0.061004         0  \n",
       "...         ...        ...        ...        ...       ...  \n",
       "2186  -0.068040  -0.142220   0.000068   0.150513         1  \n",
       "2187  -0.069085  -0.142639   0.000048   0.146614         1  \n",
       "2188  -0.068196  -0.141503   0.000102   0.148863         1  \n",
       "2189  -0.069709  -0.141495   0.000082   0.140224         1  \n",
       "2190  -0.067961  -0.140441   0.000047   0.150192         1  \n",
       "\n",
       "[2191 rows x 10 columns]>"
      ]
     },
     "execution_count": 3,
     "metadata": {},
     "output_type": "execute_result"
    }
   ],
   "source": [
    "data_test.head"
   ]
  },
  {
   "cell_type": "code",
   "execution_count": 4,
   "metadata": {},
   "outputs": [
    {
     "data": {
      "text/plain": [
       "<bound method NDFrame.head of       X_Value  Acceleration  Acceleration_0  Acceleration_1   Voltage  \\\n",
       "589   0.02945     -0.269453       -1.831790       -1.446858 -0.191244   \n",
       "1433  0.02175     -2.048724       -1.561918       -1.775358 -0.181967   \n",
       "626   0.03130     -1.376549        0.820389       -2.576944 -0.177870   \n",
       "1117  0.00595     -0.221142       -0.359776        0.135114 -0.221996   \n",
       "33    0.00165     -0.586240       -0.562854       -2.005100 -0.024129   \n",
       "...       ...           ...             ...             ...       ...   \n",
       "374   0.01870     -2.689305       -0.449282       -1.340503 -0.193358   \n",
       "1976  0.04890      0.078927       -0.454685       -0.344832  0.146209   \n",
       "1177  0.00895      0.490001        0.573969        0.181063 -0.229271   \n",
       "843   0.04215     -0.772109       -6.727167        1.627641 -0.084261   \n",
       "2034  0.05180      0.108307        0.001444        0.353461  0.167926   \n",
       "\n",
       "      Voltage_0  Voltage_1  Voltage_2  Voltage_3  Identity  \n",
       "589    0.148648   0.042138  -0.000088  -0.015043         0  \n",
       "1433   0.205472  -0.025076  -0.000009   0.008612         1  \n",
       "626    0.162822   0.015299   0.001039  -0.039999         0  \n",
       "1117   0.036243   0.185920   0.000317  -0.015188         1  \n",
       "33    -0.164767   0.190165  -0.000158   0.002948         0  \n",
       "...         ...        ...        ...        ...       ...  \n",
       "374    0.038278   0.155570  -0.000093  -0.043455         0  \n",
       "1976   0.062596  -0.209551   0.000055  -1.010838         1  \n",
       "1177   0.076127   0.152558   0.000305   0.128103         1  \n",
       "843    0.195220  -0.112503   0.000825   0.071795         0  \n",
       "2034   0.031087  -0.199780   0.000093   0.149234         1  \n",
       "\n",
       "[2191 rows x 10 columns]>"
      ]
     },
     "execution_count": 4,
     "metadata": {},
     "output_type": "execute_result"
    }
   ],
   "source": [
    "#Shuffling test data\n",
    "\n",
    "data_test= data_test.sample(frac=1)\n",
    "data_test.head"
   ]
  },
  {
   "cell_type": "code",
   "execution_count": 5,
   "metadata": {},
   "outputs": [],
   "source": [
    "import sklearn as sk"
   ]
  },
  {
   "cell_type": "code",
   "execution_count": 6,
   "metadata": {},
   "outputs": [
    {
     "name": "stdout",
     "output_type": "stream",
     "text": [
      "[[ 2.945000e-02 -2.694530e-01 -1.831790e+00 ...  4.213800e-02\n",
      "  -8.810000e-05 -1.504300e-02]\n",
      " [ 2.175000e-02 -2.048724e+00 -1.561918e+00 ... -2.507600e-02\n",
      "  -8.940000e-06  8.612000e-03]\n",
      " [ 3.130000e-02 -1.376549e+00  8.203890e-01 ...  1.529900e-02\n",
      "   1.039000e-03 -3.999900e-02]\n",
      " ...\n",
      " [ 8.950000e-03  4.900010e-01  5.739690e-01 ...  1.525580e-01\n",
      "   3.050000e-04  1.281030e-01]\n",
      " [ 4.215000e-02 -7.721090e-01 -6.727167e+00 ... -1.125030e-01\n",
      "   8.250000e-04  7.179500e-02]\n",
      " [ 5.180000e-02  1.083070e-01  1.444000e-03 ... -1.997800e-01\n",
      "   9.320000e-05  1.492340e-01]]\n"
     ]
    }
   ],
   "source": [
    "#Assigning Time, Acceleration, Voltage readings as X parameter\n",
    "\n",
    "dataset_test = data_test.values\n",
    "X1 = dataset_test[:,0:9]\n",
    "print(X1)"
   ]
  },
  {
   "cell_type": "code",
   "execution_count": 7,
   "metadata": {},
   "outputs": [
    {
     "name": "stdout",
     "output_type": "stream",
     "text": [
      "[0. 1. 0. ... 1. 0. 1.]\n"
     ]
    }
   ],
   "source": [
    "#Assigning identity signature as Y parameter\n",
    "\n",
    "y1= dataset_test[:,9]\n",
    "print(y1)"
   ]
  },
  {
   "cell_type": "code",
   "execution_count": 13,
   "metadata": {},
   "outputs": [],
   "source": [
    "#Split data set into train and testing data\n",
    "\n",
    "from sklearn.model_selection import train_test_split\n",
    "X1_train, X1_test, y1_train, y1_test = train_test_split(\n",
    "    X1, y1, test_size=0.95, random_state=42)"
   ]
  },
  {
   "cell_type": "code",
   "execution_count": 14,
   "metadata": {},
   "outputs": [],
   "source": [
    "#Training random forest Classifier\n",
    "\n",
    "from sklearn.ensemble import RandomForestClassifier\n",
    "rf = RandomForestClassifier(n_estimators = 1000, random_state = 42)\n",
    "rf.fit(X1_train, y1_train);"
   ]
  },
  {
   "cell_type": "code",
   "execution_count": 15,
   "metadata": {},
   "outputs": [
    {
     "name": "stdout",
     "output_type": "stream",
     "text": [
      "Mean Absolute Error: 0.0 degrees.\n"
     ]
    }
   ],
   "source": [
    "#Predicting errors by sampling against test data identification result\n",
    "\n",
    "import numpy as np\n",
    "predictions = rf.predict(X1_test)\n",
    "errors = abs(predictions - y1_test)\n",
    "print('Mean Absolute Error:', round(np.mean(errors), 2), 'degrees.')"
   ]
  },
  {
   "cell_type": "code",
   "execution_count": 16,
   "metadata": {},
   "outputs": [
    {
     "name": "stdout",
     "output_type": "stream",
     "text": [
      "Accuracy: 100.0 %.\n"
     ]
    }
   ],
   "source": [
    "#Calculating model accuracy through adjusting hyperparameters\n",
    "\n",
    "mape = 100 * (errors / len(y1_test))\n",
    "accuracy = 100 - np.mean(mape)\n",
    "print('Accuracy:', round(accuracy, 2), '%.')"
   ]
  },
  {
   "cell_type": "code",
   "execution_count": 17,
   "metadata": {},
   "outputs": [],
   "source": [
    "data=pd.read_csv(r'D:\\Acads\\BTP\\Train\\Train10hz.csv')"
   ]
  },
  {
   "cell_type": "code",
   "execution_count": 18,
   "metadata": {},
   "outputs": [
    {
     "data": {
      "text/plain": [
       "<bound method NDFrame.head of        X_Value  Acceleration  Acceleration_0  Acceleration_1   Voltage  \\\n",
       "0      0.00000     -0.768912        0.590422       -1.190895  0.004234   \n",
       "1      0.00005     -1.456453        0.116244       -1.325922  0.001663   \n",
       "2      0.00010     -0.488512        1.316790       -0.074655  0.002593   \n",
       "3      0.00015     -1.360815        0.575074       -0.073920  0.000438   \n",
       "4      0.00020     -0.395823        1.919520        0.047996  0.000992   \n",
       "...        ...           ...             ...             ...       ...   \n",
       "49995  0.49975     -0.221633        0.671580       -1.863335 -0.190914   \n",
       "49996  0.49980      0.379733        1.455287       -1.525031 -0.196483   \n",
       "49997  0.49985     -0.020645        1.169577       -1.967974 -0.190973   \n",
       "49998  0.49990      0.424234        1.671135       -1.850714 -0.196692   \n",
       "49999  0.49995      0.028281        1.099469       -2.238151 -0.191159   \n",
       "\n",
       "       Voltage_0  Voltage_1  Voltage_2  Voltage_3  Identity  \n",
       "0      -0.178414   0.174913  -0.000166   0.016538         1  \n",
       "1      -0.179898   0.179547  -0.000126  -0.055457         1  \n",
       "2      -0.177713   0.175572  -0.000134  -0.033742         1  \n",
       "3      -0.178693   0.180163  -0.000126  -0.001972         1  \n",
       "4      -0.176762   0.176239  -0.000107  -0.061004         1  \n",
       "...          ...        ...        ...        ...       ...  \n",
       "49995   0.108506   0.082229  -0.000385   0.001700         4  \n",
       "49996   0.115430   0.081537  -0.000391  -0.062442         4  \n",
       "49997   0.109518   0.080909  -0.000447   0.002016         4  \n",
       "49998   0.116847   0.080246  -0.000391   0.035131         4  \n",
       "49999   0.110724   0.079584  -0.000453  -0.058731         4  \n",
       "\n",
       "[50000 rows x 10 columns]>"
      ]
     },
     "execution_count": 18,
     "metadata": {},
     "output_type": "execute_result"
    }
   ],
   "source": [
    "data.head"
   ]
  },
  {
   "cell_type": "code",
   "execution_count": 19,
   "metadata": {},
   "outputs": [],
   "source": [
    "#Shuffling data for random training\n",
    "\n",
    "data= data.sample(frac=1)"
   ]
  },
  {
   "cell_type": "code",
   "execution_count": 20,
   "metadata": {},
   "outputs": [
    {
     "data": {
      "text/plain": [
       "<bound method NDFrame.head of        X_Value  Acceleration  Acceleration_0  Acceleration_1   Voltage  \\\n",
       "42008  0.10040     -1.765742       -2.309406       -1.594138 -0.199582   \n",
       "33288  0.16440     -1.575817       -1.624291       -1.446491 -0.030064   \n",
       "7696   0.38480     -0.213274        4.282920       -1.659936  0.113853   \n",
       "9043   0.45215      1.098744        0.616206       -0.253548  0.093444   \n",
       "31492  0.07460     -3.899662       -1.932469       -1.692407  0.090695   \n",
       "...        ...           ...             ...             ...       ...   \n",
       "14965  0.24825     -1.538693       -0.525529       -1.508981 -0.196585   \n",
       "5996   0.29980     -0.308544       -0.975396       -0.853328 -0.045928   \n",
       "31117  0.05585     -1.799670       -2.079560       -1.998361 -0.143820   \n",
       "532    0.02660     -1.762546       -2.000736        0.437148 -0.194733   \n",
       "7626   0.38130      3.676068        4.877914       -1.360108  0.133862   \n",
       "\n",
       "       Voltage_0  Voltage_1  Voltage_2  Voltage_3  Identity  \n",
       "42008   0.086175   0.113036  -0.000313  -0.045338         4  \n",
       "33288   0.205395  -0.177606  -0.001608   0.028286         3  \n",
       "7696   -0.177268   0.063614  -0.000488   0.012162         1  \n",
       "9043    0.111084  -0.206693   0.001019  -0.050751         1  \n",
       "31492   0.122598  -0.216663  -0.001112  -0.039905         3  \n",
       "...          ...        ...        ...        ...       ...  \n",
       "14965   0.021155   0.175219  -0.000711  -0.050299         2  \n",
       "5996   -0.148479   0.196306  -0.000263  -0.004561         1  \n",
       "31117   0.213018  -0.072825  -0.001693   0.049024         3  \n",
       "532     0.116134   0.079471  -0.000087   0.009774         1  \n",
       "7626   -0.191112   0.056376  -0.000385   0.069244         1  \n",
       "\n",
       "[50000 rows x 10 columns]>"
      ]
     },
     "execution_count": 20,
     "metadata": {},
     "output_type": "execute_result"
    }
   ],
   "source": [
    "data.head"
   ]
  },
  {
   "cell_type": "code",
   "execution_count": 21,
   "metadata": {},
   "outputs": [],
   "source": [
    "import sklearn as sk"
   ]
  },
  {
   "cell_type": "code",
   "execution_count": 22,
   "metadata": {},
   "outputs": [
    {
     "data": {
      "text/plain": [
       "Index(['X_Value', 'Acceleration', 'Acceleration_0', 'Acceleration_1',\n",
       "       'Voltage', 'Voltage_0', 'Voltage_1', 'Voltage_2', 'Voltage_3',\n",
       "       'Identity'],\n",
       "      dtype='object')"
      ]
     },
     "execution_count": 22,
     "metadata": {},
     "output_type": "execute_result"
    }
   ],
   "source": [
    "data.columns"
   ]
  },
  {
   "cell_type": "code",
   "execution_count": 23,
   "metadata": {},
   "outputs": [],
   "source": [
    "#Assigning Time, Acceleration, Voltage readings as X parameter\n",
    "\n",
    "dataset = data.values\n",
    "X = dataset[:,0:9]"
   ]
  },
  {
   "cell_type": "code",
   "execution_count": 24,
   "metadata": {},
   "outputs": [
    {
     "name": "stdout",
     "output_type": "stream",
     "text": [
      "[[ 1.004000e-01 -1.765742e+00 -2.309406e+00 -1.594138e+00 -1.995820e-01\n",
      "   8.617500e-02  1.130360e-01 -3.130000e-04 -4.533800e-02]\n",
      " [ 1.644000e-01 -1.575817e+00 -1.624291e+00 -1.446491e+00 -3.006400e-02\n",
      "   2.053950e-01 -1.776060e-01 -1.608000e-03  2.828600e-02]\n",
      " [ 3.848000e-01 -2.132740e-01  4.282920e+00 -1.659936e+00  1.138530e-01\n",
      "  -1.772680e-01  6.361400e-02 -4.880000e-04  1.216200e-02]\n",
      " [ 4.521500e-01  1.098744e+00  6.162060e-01 -2.535480e-01  9.344400e-02\n",
      "   1.110840e-01 -2.066930e-01  1.019000e-03 -5.075100e-02]]\n"
     ]
    }
   ],
   "source": [
    "print(X[0:4])"
   ]
  },
  {
   "cell_type": "code",
   "execution_count": 25,
   "metadata": {},
   "outputs": [
    {
     "name": "stdout",
     "output_type": "stream",
     "text": [
      "[4. 3. 1. ... 3. 1. 1.]\n"
     ]
    }
   ],
   "source": [
    "#Assigning identity signature as Y parameter\n",
    "\n",
    "y= dataset[:,9]\n",
    "print(y)\n"
   ]
  },
  {
   "cell_type": "code",
   "execution_count": 41,
   "metadata": {},
   "outputs": [],
   "source": [
    "#Split data set into train and testing data\n",
    "\n",
    "from sklearn.model_selection import train_test_split\n",
    "X_train, X_test, y_train, y_test = train_test_split(\n",
    "    X, y, test_size=0.80, random_state=42)"
   ]
  },
  {
   "cell_type": "code",
   "execution_count": 43,
   "metadata": {},
   "outputs": [],
   "source": [
    "#Training random forest classifier\n",
    "\n",
    "from sklearn.ensemble import RandomForestClassifier\n",
    "rf = RandomForestClassifier(n_estimators = 1000, random_state = 42)\n",
    "rf.fit(X_train, y_train);"
   ]
  },
  {
   "cell_type": "code",
   "execution_count": 44,
   "metadata": {},
   "outputs": [
    {
     "name": "stdout",
     "output_type": "stream",
     "text": [
      "Mean Absolute Error: 0.019 degrees.\n"
     ]
    }
   ],
   "source": [
    "#Predicting errors by sampling against test data identification result\n",
    "\n",
    "import numpy as np\n",
    "predictions = rf.predict(X_test)\n",
    "errors = abs(predictions - y_test)\n",
    "print('Mean Absolute Error:', round(np.mean(errors), 3), 'degrees.')"
   ]
  },
  {
   "cell_type": "code",
   "execution_count": 45,
   "metadata": {},
   "outputs": [
    {
     "name": "stdout",
     "output_type": "stream",
     "text": [
      "Accuracy: 99.981 %.\n"
     ]
    }
   ],
   "source": [
    "#Calculating model accuracy through adjusting hyperparameters\n",
    "\n",
    "accuracy = 100 - np.mean(errors)\n",
    "print('Accuracy:', round(accuracy, 3), '%.')"
   ]
  },
  {
   "cell_type": "code",
   "execution_count": 49,
   "metadata": {},
   "outputs": [],
   "source": [
    "from sklearn.model_selection import train_test_split\n",
    "\n",
    "# Split dataset into training set and test set\n",
    "X_train, X_test, y_train, y_test = train_test_split(X, y, test_size=0.80,random_state=109)"
   ]
  },
  {
   "cell_type": "code",
   "execution_count": 50,
   "metadata": {},
   "outputs": [],
   "source": [
    "from sklearn import svm\n",
    "\n",
    "#Create a svm Classifier with linear kernal\n",
    "clf = svm.SVC(kernel='linear') \n",
    "\n",
    "#Train the model using the training sets\n",
    "clf.fit(X_train, y_train)\n",
    "\n",
    "#Predict the response for test dataset\n",
    "y_pred = clf.predict(X_test)"
   ]
  },
  {
   "cell_type": "code",
   "execution_count": 51,
   "metadata": {},
   "outputs": [
    {
     "name": "stdout",
     "output_type": "stream",
     "text": [
      "Accuracy: 0.228325\n"
     ]
    }
   ],
   "source": [
    "from sklearn import metrics\n",
    "\n",
    "# Model Accuracy\n",
    "print(\"Accuracy:\",metrics.accuracy_score(y_test, y_pred))"
   ]
  },
  {
   "cell_type": "code",
   "execution_count": 56,
   "metadata": {},
   "outputs": [],
   "source": [
    "#Radial kernal Accuracy\n",
    "clf_2 = svm.SVC(kernel='rbf', random_state=42, gamma=0.1, C=0.1) \n",
    "clf_2.fit(X_train, y_train)\n",
    "y2_pred = clf_2.predict(X_test)"
   ]
  },
  {
   "cell_type": "code",
   "execution_count": 57,
   "metadata": {},
   "outputs": [
    {
     "name": "stdout",
     "output_type": "stream",
     "text": [
      "Accuracy: 0.36005\n"
     ]
    }
   ],
   "source": [
    "# Model Accuracy\n",
    "print(\"Accuracy:\",metrics.accuracy_score(y_test, y2_pred))"
   ]
  },
  {
   "cell_type": "markdown",
   "metadata": {},
   "source": [
    "### Result: With trained test split of 0.90: 0.064 Mean Absolute error / 99.936% Accuracy \n",
    "### Using Svm achieved an accuracy of 22.83% with Linear Kernal and\n",
    "### 36.005% with Radial Kernal"
   ]
  }
 ],
 "metadata": {
  "kernelspec": {
   "display_name": "Python 3",
   "language": "python",
   "name": "python3"
  },
  "language_info": {
   "codemirror_mode": {
    "name": "ipython",
    "version": 3
   },
   "file_extension": ".py",
   "mimetype": "text/x-python",
   "name": "python",
   "nbconvert_exporter": "python",
   "pygments_lexer": "ipython3",
   "version": "3.7.6"
  }
 },
 "nbformat": 4,
 "nbformat_minor": 5
}
