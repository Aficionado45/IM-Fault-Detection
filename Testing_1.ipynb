{
 "cells": [
  {
   "cell_type": "markdown",
   "metadata": {},
   "source": []
  },
  {
   "cell_type": "code",
   "execution_count": 1,
   "metadata": {},
   "outputs": [
    {
     "name": "stdout",
     "output_type": "stream",
     "text": [
      "Requirement already satisfied: pandas in c:\\programdata\\anaconda3\\lib\\site-packages (1.0.1)\n",
      "Requirement already satisfied: python-dateutil>=2.6.1 in c:\\programdata\\anaconda3\\lib\\site-packages (from pandas) (2.8.1)\n",
      "Requirement already satisfied: numpy>=1.13.3 in c:\\programdata\\anaconda3\\lib\\site-packages (from pandas) (1.18.1)\n",
      "Requirement already satisfied: pytz>=2017.2 in c:\\programdata\\anaconda3\\lib\\site-packages (from pandas) (2019.3)\n",
      "Requirement already satisfied: six>=1.5 in c:\\programdata\\anaconda3\\lib\\site-packages (from python-dateutil>=2.6.1->pandas) (1.14.0)\n"
     ]
    }
   ],
   "source": [
    "# Testing random forest classifier for general classification of 5 types of \n",
    "# faults in IM by taking 10Hz recorded data for ND, BF, BRF, RM, UR. Dataset \n",
    "# consists of 10000 rows each for all the specified IM faults.\n",
    "\n",
    "# Comparing RF classifier result with SVM linear and radial kernals.\n",
    "\n",
    "!pip install pandas"
   ]
  },
  {
   "cell_type": "code",
   "execution_count": 2,
   "metadata": {},
   "outputs": [],
   "source": [
    "import pandas as pd"
   ]
  },
  {
   "cell_type": "code",
   "execution_count": 3,
   "metadata": {},
   "outputs": [],
   "source": [
    "data_test=pd.read_csv(r'D:\\Acads\\BTP\\Train\\Train10hzbf_nd.csv')"
   ]
  },
  {
   "cell_type": "code",
   "execution_count": 4,
   "metadata": {},
   "outputs": [
    {
     "data": {
      "text/plain": [
       "<bound method NDFrame.head of       X_Value  Acceleration  Acceleration_0  Acceleration_1   Voltage  \\\n",
       "0     0.00000     -0.768912        0.590422       -1.190895  0.004234   \n",
       "1     0.00005     -1.456453        0.116244       -1.325922  0.001663   \n",
       "2     0.00010     -0.488512        1.316790       -0.074655  0.002593   \n",
       "3     0.00015     -1.360815        0.575074       -0.073920  0.000438   \n",
       "4     0.00020     -0.395823        1.919520        0.047996  0.000992   \n",
       "...       ...           ...             ...             ...       ...   \n",
       "2186  0.05940      0.615634        0.107036        0.480646  0.209599   \n",
       "2187  0.05945      0.063315       -0.632962       -0.053580  0.210980   \n",
       "2188  0.05950      0.723442       -0.051842        0.409335  0.208848   \n",
       "2189  0.05955     -0.010442       -0.758689       -0.492112  0.209595   \n",
       "2190  0.05960      0.628787       -0.051106       -0.127098  0.207959   \n",
       "\n",
       "      Voltage_0  Voltage_1  Voltage_2  Voltage_3  Identity  \n",
       "0     -0.178414   0.174913  -0.000166   0.016538         0  \n",
       "1     -0.179898   0.179547  -0.000126  -0.055457         0  \n",
       "2     -0.177713   0.175572  -0.000134  -0.033742         0  \n",
       "3     -0.178693   0.180163  -0.000126  -0.001972         0  \n",
       "4     -0.176762   0.176239  -0.000107  -0.061004         0  \n",
       "...         ...        ...        ...        ...       ...  \n",
       "2186  -0.068040  -0.142220   0.000068   0.150513         1  \n",
       "2187  -0.069085  -0.142639   0.000048   0.146614         1  \n",
       "2188  -0.068196  -0.141503   0.000102   0.148863         1  \n",
       "2189  -0.069709  -0.141495   0.000082   0.140224         1  \n",
       "2190  -0.067961  -0.140441   0.000047   0.150192         1  \n",
       "\n",
       "[2191 rows x 10 columns]>"
      ]
     },
     "execution_count": 4,
     "metadata": {},
     "output_type": "execute_result"
    }
   ],
   "source": [
    "data_test.head"
   ]
  },
  {
   "cell_type": "code",
   "execution_count": 5,
   "metadata": {},
   "outputs": [
    {
     "data": {
      "text/plain": [
       "<bound method NDFrame.head of       X_Value  Acceleration  Acceleration_0  Acceleration_1   Voltage  \\\n",
       "2169  0.05855      0.156249       -0.814554       -0.250974  0.214310   \n",
       "1670  0.03360     -0.716422       -1.151832       -1.036141 -0.047990   \n",
       "1725  0.03635      0.641818        0.619398        0.374413 -0.014452   \n",
       "840   0.04200      0.397435       -4.034716       -0.216177 -0.085610   \n",
       "1763  0.03825     -0.327844       -0.129440        0.045668  0.016646   \n",
       "...       ...           ...             ...             ...       ...   \n",
       "253   0.01265      0.539787       -2.610463       -0.554724 -0.138368   \n",
       "1956  0.04790      0.057414       -0.459965       -0.089114  0.137474   \n",
       "48    0.00240     -1.032349        0.761823       -0.906995 -0.033847   \n",
       "2125  0.05635     -0.540019        0.279297       -0.271314  0.206949   \n",
       "639   0.03195     -2.148051       -2.809981       -1.750363 -0.175318   \n",
       "\n",
       "      Voltage_0  Voltage_1  Voltage_2  Voltage_3  Identity  \n",
       "2169  -0.065473  -0.150512   0.000063   0.137106         1  \n",
       "1670   0.213261  -0.169276   0.000010   0.028570         1  \n",
       "1725   0.202904  -0.190292   0.000050   0.038486         1  \n",
       "840    0.190559  -0.106374   0.000803   0.058637         0  \n",
       "1763   0.184945  -0.203943   0.000061   0.020874         1  \n",
       "...         ...        ...        ...        ...       ...  \n",
       "253   -0.048946   0.186776  -0.000112   0.064483         0  \n",
       "1956   0.073422  -0.211370   0.000114  -1.071022         1  \n",
       "48    -0.156132   0.190306  -0.000165  -0.023519         0  \n",
       "2125  -0.035961  -0.171997   0.000066   0.173436         1  \n",
       "639    0.171015   0.002755   0.001026  -0.060849         0  \n",
       "\n",
       "[2191 rows x 10 columns]>"
      ]
     },
     "execution_count": 5,
     "metadata": {},
     "output_type": "execute_result"
    }
   ],
   "source": [
    "#Shuffling test data\n",
    "\n",
    "data_test= data_test.sample(frac=1)\n",
    "data_test.head"
   ]
  },
  {
   "cell_type": "code",
   "execution_count": 6,
   "metadata": {},
   "outputs": [],
   "source": [
    "import sklearn as sk"
   ]
  },
  {
   "cell_type": "code",
   "execution_count": 7,
   "metadata": {},
   "outputs": [
    {
     "name": "stdout",
     "output_type": "stream",
     "text": [
      "[[ 5.855000e-02  1.562490e-01 -8.145540e-01 ... -1.505120e-01\n",
      "   6.250000e-05  1.371060e-01]\n",
      " [ 3.360000e-02 -7.164220e-01 -1.151832e+00 ... -1.692760e-01\n",
      "   1.020000e-05  2.857000e-02]\n",
      " [ 3.635000e-02  6.418180e-01  6.193980e-01 ... -1.902920e-01\n",
      "   4.980000e-05  3.848600e-02]\n",
      " ...\n",
      " [ 2.400000e-03 -1.032349e+00  7.618230e-01 ...  1.903060e-01\n",
      "  -1.650000e-04 -2.351900e-02]\n",
      " [ 5.635000e-02 -5.400190e-01  2.792970e-01 ... -1.719970e-01\n",
      "   6.640000e-05  1.734360e-01]\n",
      " [ 3.195000e-02 -2.148051e+00 -2.809981e+00 ...  2.755000e-03\n",
      "   1.026000e-03 -6.084900e-02]]\n"
     ]
    }
   ],
   "source": [
    "#Assigning Time, Acceleration, Voltage readings as X parameter\n",
    "\n",
    "dataset_test = data_test.values\n",
    "X1 = dataset_test[:,0:9]\n",
    "print(X1)"
   ]
  },
  {
   "cell_type": "code",
   "execution_count": 8,
   "metadata": {},
   "outputs": [
    {
     "name": "stdout",
     "output_type": "stream",
     "text": [
      "[1. 1. 1. ... 0. 1. 0.]\n"
     ]
    }
   ],
   "source": [
    "#Assigning identity signature as Y parameter\n",
    "\n",
    "y1= dataset_test[:,9]\n",
    "print(y1)"
   ]
  },
  {
   "cell_type": "code",
   "execution_count": 9,
   "metadata": {},
   "outputs": [],
   "source": [
    "#Split data set into train and testing data\n",
    "\n",
    "from sklearn.model_selection import train_test_split\n",
    "X1_train, X1_test, y1_train, y1_test = train_test_split(\n",
    "    X1, y1, test_size=0.90, random_state=42)"
   ]
  },
  {
   "cell_type": "code",
   "execution_count": 10,
   "metadata": {},
   "outputs": [],
   "source": [
    "#Training random forest regressor\n",
    "\n",
    "from sklearn.ensemble import RandomForestRegressor\n",
    "rf = RandomForestRegressor(n_estimators = 1000, random_state = 42)\n",
    "rf.fit(X1_train, y1_train);"
   ]
  },
  {
   "cell_type": "code",
   "execution_count": 11,
   "metadata": {},
   "outputs": [
    {
     "name": "stdout",
     "output_type": "stream",
     "text": [
      "Mean Absolute Error: 0.02 degrees.\n"
     ]
    }
   ],
   "source": [
    "#Predicting errors by sampling against test data identification result\n",
    "\n",
    "import numpy as np\n",
    "predictions = rf.predict(X1_test)\n",
    "errors = abs(predictions - y1_test)\n",
    "print('Mean Absolute Error:', round(np.mean(errors), 2), 'degrees.')"
   ]
  },
  {
   "cell_type": "code",
   "execution_count": 12,
   "metadata": {},
   "outputs": [
    {
     "name": "stdout",
     "output_type": "stream",
     "text": [
      "Accuracy: 100.0 %.\n"
     ]
    }
   ],
   "source": [
    "#Calculating model accuracy through adjusting hyperparameters\n",
    "\n",
    "mape = 100 * (errors / len(y1_test))\n",
    "accuracy = 100 - np.mean(mape)\n",
    "print('Accuracy:', round(accuracy, 2), '%.')"
   ]
  },
  {
   "cell_type": "code",
   "execution_count": 13,
   "metadata": {},
   "outputs": [],
   "source": [
    "data=pd.read_csv(r'D:\\Acads\\BTP\\Train\\Train10hz.csv')"
   ]
  },
  {
   "cell_type": "code",
   "execution_count": 14,
   "metadata": {},
   "outputs": [
    {
     "data": {
      "text/plain": [
       "<bound method NDFrame.head of        X_Value  Acceleration  Acceleration_0  Acceleration_1   Voltage  \\\n",
       "0      0.00000     -0.768912        0.590422       -1.190895  0.004234   \n",
       "1      0.00005     -1.456453        0.116244       -1.325922  0.001663   \n",
       "2      0.00010     -0.488512        1.316790       -0.074655  0.002593   \n",
       "3      0.00015     -1.360815        0.575074       -0.073920  0.000438   \n",
       "4      0.00020     -0.395823        1.919520        0.047996  0.000992   \n",
       "...        ...           ...             ...             ...       ...   \n",
       "49995  0.49975     -0.221633        0.671580       -1.863335 -0.190914   \n",
       "49996  0.49980      0.379733        1.455287       -1.525031 -0.196483   \n",
       "49997  0.49985     -0.020645        1.169577       -1.967974 -0.190973   \n",
       "49998  0.49990      0.424234        1.671135       -1.850714 -0.196692   \n",
       "49999  0.49995      0.028281        1.099469       -2.238151 -0.191159   \n",
       "\n",
       "       Voltage_0  Voltage_1  Voltage_2  Voltage_3  Identity  \n",
       "0      -0.178414   0.174913  -0.000166   0.016538         1  \n",
       "1      -0.179898   0.179547  -0.000126  -0.055457         1  \n",
       "2      -0.177713   0.175572  -0.000134  -0.033742         1  \n",
       "3      -0.178693   0.180163  -0.000126  -0.001972         1  \n",
       "4      -0.176762   0.176239  -0.000107  -0.061004         1  \n",
       "...          ...        ...        ...        ...       ...  \n",
       "49995   0.108506   0.082229  -0.000385   0.001700         4  \n",
       "49996   0.115430   0.081537  -0.000391  -0.062442         4  \n",
       "49997   0.109518   0.080909  -0.000447   0.002016         4  \n",
       "49998   0.116847   0.080246  -0.000391   0.035131         4  \n",
       "49999   0.110724   0.079584  -0.000453  -0.058731         4  \n",
       "\n",
       "[50000 rows x 10 columns]>"
      ]
     },
     "execution_count": 14,
     "metadata": {},
     "output_type": "execute_result"
    }
   ],
   "source": [
    "data.head"
   ]
  },
  {
   "cell_type": "code",
   "execution_count": 15,
   "metadata": {},
   "outputs": [],
   "source": [
    "#Shuffling data for random training\n",
    "\n",
    "data= data.sample(frac=1)"
   ]
  },
  {
   "cell_type": "code",
   "execution_count": 16,
   "metadata": {},
   "outputs": [
    {
     "data": {
      "text/plain": [
       "<bound method NDFrame.head of        X_Value  Acceleration  Acceleration_0  Acceleration_1   Voltage  \\\n",
       "37184  0.35920      0.418702        1.239439        0.391935 -0.043019   \n",
       "36757  0.33785     -0.448068       -2.269748       -1.114069 -0.204543   \n",
       "28602  0.43010      0.938322       -0.073083       -0.050272 -0.020443   \n",
       "9404   0.47020     -2.364159       -1.004496       -1.607861  0.208829   \n",
       "3102   0.15510      0.741513       -1.197998       -0.180520  0.079128   \n",
       "...        ...           ...             ...             ...       ...   \n",
       "31654  0.08270     -0.231836       -0.662675        0.881316  0.183583   \n",
       "18616  0.43080     -0.414877       -0.608284       -5.028995 -0.025577   \n",
       "16237  0.31185      0.567446        0.904863       -1.186729  0.180558   \n",
       "30317  0.01585     -2.055362       -2.092821       -1.677213  0.010141   \n",
       "11192  0.05960      0.467382       -0.354374       -0.478266 -0.200143   \n",
       "\n",
       "       Voltage_0  Voltage_1  Voltage_2  Voltage_3  Identity  \n",
       "37184   0.205749  -0.165700   0.002739   0.007188         3  \n",
       "36757   0.091585   0.111906  -0.000431  -0.032066         3  \n",
       "28602   0.200632  -0.182230   0.000305  -0.039872         0  \n",
       "9404   -0.106310  -0.102644   0.000646  -0.050838         1  \n",
       "3102    0.120872  -0.201953   0.000701  -0.009778         1  \n",
       "...          ...        ...        ...        ...       ...  \n",
       "31654   0.011523  -0.194537  -0.000878  -0.003105         3  \n",
       "18616  -0.175712   0.202442   0.001356   0.097723         2  \n",
       "16237  -0.171732  -0.009156  -0.000065   0.045352         2  \n",
       "30317  -0.197696   0.188863  -0.000389   0.034459         3  \n",
       "11192   0.141785   0.057797  -0.000407   0.033212         2  \n",
       "\n",
       "[50000 rows x 10 columns]>"
      ]
     },
     "execution_count": 16,
     "metadata": {},
     "output_type": "execute_result"
    }
   ],
   "source": [
    "data.head"
   ]
  },
  {
   "cell_type": "code",
   "execution_count": 17,
   "metadata": {},
   "outputs": [],
   "source": [
    "import sklearn as sk"
   ]
  },
  {
   "cell_type": "code",
   "execution_count": 18,
   "metadata": {},
   "outputs": [
    {
     "data": {
      "text/plain": [
       "Index(['X_Value', 'Acceleration', 'Acceleration_0', 'Acceleration_1',\n",
       "       'Voltage', 'Voltage_0', 'Voltage_1', 'Voltage_2', 'Voltage_3',\n",
       "       'Identity'],\n",
       "      dtype='object')"
      ]
     },
     "execution_count": 18,
     "metadata": {},
     "output_type": "execute_result"
    }
   ],
   "source": [
    "data.columns"
   ]
  },
  {
   "cell_type": "code",
   "execution_count": 19,
   "metadata": {},
   "outputs": [],
   "source": [
    "#Assigning Time, Acceleration, Voltage readings as X parameter\n",
    "\n",
    "dataset = data.values\n",
    "X = dataset[:,0:9]"
   ]
  },
  {
   "cell_type": "code",
   "execution_count": 20,
   "metadata": {},
   "outputs": [
    {
     "name": "stdout",
     "output_type": "stream",
     "text": [
      "[[ 3.592000e-01  4.187020e-01  1.239439e+00  3.919350e-01 -4.301900e-02\n",
      "   2.057490e-01 -1.657000e-01  2.739000e-03  7.188000e-03]\n",
      " [ 3.378500e-01 -4.480680e-01 -2.269748e+00 -1.114069e+00 -2.045430e-01\n",
      "   9.158500e-02  1.119060e-01 -4.310000e-04 -3.206600e-02]\n",
      " [ 4.301000e-01  9.383220e-01 -7.308300e-02 -5.027200e-02 -2.044300e-02\n",
      "   2.006320e-01 -1.822300e-01  3.050000e-04 -3.987200e-02]\n",
      " [ 4.702000e-01 -2.364159e+00 -1.004496e+00 -1.607861e+00  2.088290e-01\n",
      "  -1.063100e-01 -1.026440e-01  6.460000e-04 -5.083800e-02]]\n"
     ]
    }
   ],
   "source": [
    "print(X[0:4])"
   ]
  },
  {
   "cell_type": "code",
   "execution_count": 21,
   "metadata": {},
   "outputs": [
    {
     "name": "stdout",
     "output_type": "stream",
     "text": [
      "[3. 3. 0. ... 2. 3. 2.]\n"
     ]
    }
   ],
   "source": [
    "#Assigning identity signature as Y parameter\n",
    "\n",
    "y= dataset[:,9]\n",
    "print(y)\n"
   ]
  },
  {
   "cell_type": "code",
   "execution_count": 22,
   "metadata": {},
   "outputs": [],
   "source": [
    "#Split data set into train and testing data\n",
    "\n",
    "from sklearn.model_selection import train_test_split\n",
    "X_train, X_test, y_train, y_test = train_test_split(\n",
    "    X, y, test_size=0.90, random_state=42)"
   ]
  },
  {
   "cell_type": "code",
   "execution_count": 23,
   "metadata": {},
   "outputs": [],
   "source": [
    "#Training random forest classifier\n",
    "\n",
    "from sklearn.ensemble import RandomForestClassifier\n",
    "rf = RandomForestClassifier(n_estimators = 1000, random_state = 42)\n",
    "rf.fit(X_train, y_train);"
   ]
  },
  {
   "cell_type": "code",
   "execution_count": 24,
   "metadata": {},
   "outputs": [
    {
     "name": "stdout",
     "output_type": "stream",
     "text": [
      "Mean Absolute Error: 0.044 degrees.\n"
     ]
    }
   ],
   "source": [
    "#Predicting errors by sampling against test data identification result\n",
    "\n",
    "import numpy as np\n",
    "predictions = rf.predict(X_test)\n",
    "errors = abs(predictions - y_test)\n",
    "print('Mean Absolute Error:', round(np.mean(errors), 3), 'degrees.')"
   ]
  },
  {
   "cell_type": "code",
   "execution_count": 26,
   "metadata": {},
   "outputs": [
    {
     "name": "stdout",
     "output_type": "stream",
     "text": [
      "Accuracy: 99.956 %.\n"
     ]
    }
   ],
   "source": [
    "#Calculating model accuracy through adjusting hyperparameters\n",
    "\n",
    "accuracy = 100 - np.mean(errors)\n",
    "print('Accuracy:', round(accuracy, 3), '%.')"
   ]
  },
  {
   "cell_type": "code",
   "execution_count": 27,
   "metadata": {},
   "outputs": [],
   "source": [
    "from sklearn.model_selection import train_test_split\n",
    "\n",
    "# Split dataset into training set and test set\n",
    "X_train, X_test, y_train, y_test = train_test_split(X, y, test_size=0.3,random_state=109)"
   ]
  },
  {
   "cell_type": "code",
   "execution_count": null,
   "metadata": {},
   "outputs": [],
   "source": [
    "from sklearn import svm\n",
    "\n",
    "#Create a svm Classifier with linear kernal\n",
    "clf = svm.SVC(kernel='linear') \n",
    "\n",
    "#Train the model using the training sets\n",
    "clf.fit(X_train, y_train)\n",
    "\n",
    "#Predict the response for test dataset\n",
    "y_pred = clf.predict(X_test)"
   ]
  },
  {
   "cell_type": "code",
   "execution_count": null,
   "metadata": {},
   "outputs": [],
   "source": [
    "from sklearn import metrics\n",
    "\n",
    "# Model Accuracy\n",
    "print(\"Accuracy:\",metrics.accuracy_score(y_test, y_pred))"
   ]
  },
  {
   "cell_type": "code",
   "execution_count": null,
   "metadata": {},
   "outputs": [],
   "source": [
    "#Radial kernal Accuracy\n",
    "clf_2 = svm.SVC(kernel='rbf', random_state=42, gamma=0.008, C=0.1) \n",
    "clf_2.fit(X_train, y_train)\n",
    "y2_pred = clf_2.predict(X_test)"
   ]
  },
  {
   "cell_type": "code",
   "execution_count": null,
   "metadata": {},
   "outputs": [],
   "source": [
    "# Model Accuracy\n",
    "print(\"Accuracy:\",metrics.accuracy_score(y_test, y2_pred))"
   ]
  },
  {
   "cell_type": "code",
   "execution_count": null,
   "metadata": {},
   "outputs": [],
   "source": [
    "# Result: With trained test split of 0.90: 0.124 Mean Absolute error / 100% Accuracy \n",
    "# Using Svm achieved an accuracy of 21.51% with Linear Kernal and\n",
    "# 29.70% with Radial Kernal"
   ]
  }
 ],
 "metadata": {
  "kernelspec": {
   "display_name": "Python 3",
   "language": "python",
   "name": "python3"
  },
  "language_info": {
   "codemirror_mode": {
    "name": "ipython",
    "version": 3
   },
   "file_extension": ".py",
   "mimetype": "text/x-python",
   "name": "python",
   "nbconvert_exporter": "python",
   "pygments_lexer": "ipython3",
   "version": "3.7.6"
  }
 },
 "nbformat": 4,
 "nbformat_minor": 5
}
